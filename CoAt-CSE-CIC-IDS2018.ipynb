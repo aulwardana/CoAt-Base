{
 "cells": [
  {
   "cell_type": "code",
   "execution_count": 3,
   "id": "327ee11d-cf3b-486f-b881-fe4088918b3b",
   "metadata": {},
   "outputs": [],
   "source": [
    "import pandas as pd\n",
    "import numpy as np"
   ]
  },
  {
   "cell_type": "code",
   "execution_count": 2,
   "id": "fd722770-2d8f-4fd3-99a8-5939fc27f6f2",
   "metadata": {},
   "outputs": [],
   "source": [
    "df1 = pd.read_parquet('./Botnet-Friday-02-03-2018_TrafficForML_CICFlowMeter.parquet', engine='pyarrow')\n",
    "df2 = pd.read_parquet('./Bruteforce-Wednesday-14-02-2018_TrafficForML_CICFlowMeter.parquet', engine='pyarrow')\n",
    "df3 = pd.read_parquet('./DDoS1-Tuesday-20-02-2018_TrafficForML_CICFlowMeter.parquet', engine='pyarrow')\n",
    "df4 = pd.read_parquet('./DDoS2-Wednesday-21-02-2018_TrafficForML_CICFlowMeter.parquet', engine='pyarrow')\n",
    "df5 = pd.read_parquet('./DoS1-Thursday-15-02-2018_TrafficForML_CICFlowMeter.parquet', engine='pyarrow')\n",
    "df6 = pd.read_parquet('./DoS2-Friday-16-02-2018_TrafficForML_CICFlowMeter.parquet', engine='pyarrow')\n",
    "df7 = pd.read_parquet('./Infil1-Wednesday-28-02-2018_TrafficForML_CICFlowMeter.parquet', engine='pyarrow')\n",
    "df8 = pd.read_parquet('./Infil2-Thursday-01-03-2018_TrafficForML_CICFlowMeter.parquet', engine='pyarrow')\n",
    "df9 = pd.read_parquet('./Web1-Thursday-22-02-2018_TrafficForML_CICFlowMeter.parquet', engine='pyarrow')\n",
    "df10 = pd.read_parquet('./Web2-Friday-23-02-2018_TrafficForML_CICFlowMeter.parquet', engine='pyarrow')"
   ]
  },
  {
   "cell_type": "code",
   "execution_count": 5,
   "id": "fae5fb9f-a0a3-4358-9b26-358b42390966",
   "metadata": {},
   "outputs": [],
   "source": [
    "df = pd.concat([df1, df2, df3, df4, df5, df6, df7, df8, df9, df10])"
   ]
  },
  {
   "cell_type": "code",
   "execution_count": 6,
   "id": "0d221cb3-6510-49fc-8ee0-904c7c010661",
   "metadata": {},
   "outputs": [
    {
     "name": "stdout",
     "output_type": "stream",
     "text": [
      "<class 'pandas.core.frame.DataFrame'>\n",
      "Index: 6659532 entries, 0 to 829404\n",
      "Data columns (total 78 columns):\n",
      " #   Column                    Dtype  \n",
      "---  ------                    -----  \n",
      " 0   Protocol                  int8   \n",
      " 1   Flow Duration             int64  \n",
      " 2   Total Fwd Packets         int32  \n",
      " 3   Total Backward Packets    int32  \n",
      " 4   Fwd Packets Length Total  int32  \n",
      " 5   Bwd Packets Length Total  float64\n",
      " 6   Fwd Packet Length Max     int32  \n",
      " 7   Fwd Packet Length Min     int16  \n",
      " 8   Fwd Packet Length Mean    float32\n",
      " 9   Fwd Packet Length Std     float32\n",
      " 10  Bwd Packet Length Max     int32  \n",
      " 11  Bwd Packet Length Min     int16  \n",
      " 12  Bwd Packet Length Mean    float32\n",
      " 13  Bwd Packet Length Std     float32\n",
      " 14  Flow Bytes/s              float64\n",
      " 15  Flow Packets/s            float64\n",
      " 16  Flow IAT Mean             float32\n",
      " 17  Flow IAT Std              float32\n",
      " 18  Flow IAT Max              float64\n",
      " 19  Flow IAT Min              float64\n",
      " 20  Fwd IAT Total             float64\n",
      " 21  Fwd IAT Mean              float32\n",
      " 22  Fwd IAT Std               float32\n",
      " 23  Fwd IAT Max               float64\n",
      " 24  Fwd IAT Min               float64\n",
      " 25  Bwd IAT Total             float64\n",
      " 26  Bwd IAT Mean              float32\n",
      " 27  Bwd IAT Std               float32\n",
      " 28  Bwd IAT Max               float64\n",
      " 29  Bwd IAT Min               float64\n",
      " 30  Fwd PSH Flags             int8   \n",
      " 31  Bwd PSH Flags             int8   \n",
      " 32  Fwd URG Flags             int8   \n",
      " 33  Bwd URG Flags             int8   \n",
      " 34  Fwd Header Length         int32  \n",
      " 35  Bwd Header Length         int32  \n",
      " 36  Fwd Packets/s             float32\n",
      " 37  Bwd Packets/s             float32\n",
      " 38  Packet Length Min         int16  \n",
      " 39  Packet Length Max         int32  \n",
      " 40  Packet Length Mean        float32\n",
      " 41  Packet Length Std         float32\n",
      " 42  Packet Length Variance    float32\n",
      " 43  FIN Flag Count            int8   \n",
      " 44  SYN Flag Count            int8   \n",
      " 45  RST Flag Count            int8   \n",
      " 46  PSH Flag Count            int8   \n",
      " 47  ACK Flag Count            int8   \n",
      " 48  URG Flag Count            int8   \n",
      " 49  CWE Flag Count            int8   \n",
      " 50  ECE Flag Count            int8   \n",
      " 51  Down/Up Ratio             int16  \n",
      " 52  Avg Packet Size           float32\n",
      " 53  Avg Fwd Segment Size      float32\n",
      " 54  Avg Bwd Segment Size      float32\n",
      " 55  Fwd Avg Bytes/Bulk        int8   \n",
      " 56  Fwd Avg Packets/Bulk      int8   \n",
      " 57  Fwd Avg Bulk Rate         int8   \n",
      " 58  Bwd Avg Bytes/Bulk        int8   \n",
      " 59  Bwd Avg Packets/Bulk      int8   \n",
      " 60  Bwd Avg Bulk Rate         int8   \n",
      " 61  Subflow Fwd Packets       int32  \n",
      " 62  Subflow Fwd Bytes         int32  \n",
      " 63  Subflow Bwd Packets       int32  \n",
      " 64  Subflow Bwd Bytes         int32  \n",
      " 65  Init Fwd Win Bytes        int32  \n",
      " 66  Init Bwd Win Bytes        int32  \n",
      " 67  Fwd Act Data Packets      int32  \n",
      " 68  Fwd Seg Size Min          int8   \n",
      " 69  Active Mean               float32\n",
      " 70  Active Std                float32\n",
      " 71  Active Max                float64\n",
      " 72  Active Min                float64\n",
      " 73  Idle Mean                 float32\n",
      " 74  Idle Std                  float32\n",
      " 75  Idle Max                  float64\n",
      " 76  Idle Min                  float64\n",
      " 77  Label                     object \n",
      "dtypes: float32(22), float64(15), int16(4), int32(15), int64(1), int8(20), object(1)\n",
      "memory usage: 2.0+ GB\n"
     ]
    }
   ],
   "source": [
    "df.info()"
   ]
  },
  {
   "cell_type": "code",
   "execution_count": 7,
   "id": "82504564-72d0-46b8-908a-9bd0fc5560c4",
   "metadata": {},
   "outputs": [
    {
     "data": {
      "text/plain": [
       "Label\n",
       "Benign                      5329008\n",
       "DDoS attacks-LOIC-HTTP       575364\n",
       "DDOS attack-HOIC             198861\n",
       "DoS attacks-Hulk             145199\n",
       "Bot                          144535\n",
       "Infilteration                118483\n",
       "SSH-Bruteforce                94048\n",
       "DoS attacks-GoldenEye         41406\n",
       "DoS attacks-Slowloris          9908\n",
       "DDOS attack-LOIC-UDP           1730\n",
       "Brute Force -Web                568\n",
       "Brute Force -XSS                229\n",
       "SQL Injection                    85\n",
       "DoS attacks-SlowHTTPTest         55\n",
       "FTP-BruteForce                   53\n",
       "Name: count, dtype: int64"
      ]
     },
     "execution_count": 7,
     "metadata": {},
     "output_type": "execute_result"
    }
   ],
   "source": [
    "df['Label'].value_counts()"
   ]
  },
  {
   "cell_type": "code",
   "execution_count": 8,
   "id": "f31a8a9d-3b7a-4246-9533-32949c1c4f7e",
   "metadata": {},
   "outputs": [
    {
     "data": {
      "text/plain": [
       "Label\n",
       "Benign    5329008\n",
       "Name: count, dtype: int64"
      ]
     },
     "execution_count": 8,
     "metadata": {},
     "output_type": "execute_result"
    }
   ],
   "source": [
    "df_BENIGN = df.loc[df['Label'] == 'Benign']\n",
    "df_BENIGN['Label'].value_counts()"
   ]
  },
  {
   "cell_type": "code",
   "execution_count": 9,
   "id": "c68b9706-e6d3-43a8-b8f8-a9cefb8b245d",
   "metadata": {},
   "outputs": [
    {
     "data": {
      "text/plain": [
       "Label\n",
       "Bot    144535\n",
       "Name: count, dtype: int64"
      ]
     },
     "execution_count": 9,
     "metadata": {},
     "output_type": "execute_result"
    }
   ],
   "source": [
    "df_Worm1 = df.loc[df['Label'] == 'Bot']\n",
    "df_Worm1['Label'].value_counts()"
   ]
  },
  {
   "cell_type": "code",
   "execution_count": 10,
   "id": "5142b556-e90c-4a9f-a46c-3cfe0adc1218",
   "metadata": {},
   "outputs": [
    {
     "data": {
      "text/plain": [
       "Label\n",
       "Infilteration    118483\n",
       "Name: count, dtype: int64"
      ]
     },
     "execution_count": 10,
     "metadata": {},
     "output_type": "execute_result"
    }
   ],
   "source": [
    "df_Worm2 = df.loc[df['Label'] == 'Infilteration']\n",
    "df_Worm2['Label'].value_counts()"
   ]
  },
  {
   "cell_type": "code",
   "execution_count": 11,
   "id": "537b311c-9f4f-4594-919c-c5b8f55dac13",
   "metadata": {},
   "outputs": [
    {
     "data": {
      "text/plain": [
       "Label\n",
       "DDoS attacks-LOIC-HTTP    575364\n",
       "Name: count, dtype: int64"
      ]
     },
     "execution_count": 11,
     "metadata": {},
     "output_type": "execute_result"
    }
   ],
   "source": [
    "df_DDoS1 = df.loc[df['Label'] == 'DDoS attacks-LOIC-HTTP']\n",
    "df_DDoS1['Label'].value_counts()"
   ]
  },
  {
   "cell_type": "code",
   "execution_count": 12,
   "id": "dace6482-e763-49c7-bca5-3ede4d78cb0b",
   "metadata": {},
   "outputs": [
    {
     "data": {
      "text/plain": [
       "Label\n",
       "DDOS attack-HOIC    198861\n",
       "Name: count, dtype: int64"
      ]
     },
     "execution_count": 12,
     "metadata": {},
     "output_type": "execute_result"
    }
   ],
   "source": [
    "df_DDoS2 = df.loc[df['Label'] == 'DDOS attack-HOIC']\n",
    "df_DDoS2['Label'].value_counts()"
   ]
  },
  {
   "cell_type": "code",
   "execution_count": 14,
   "id": "f2d6a435-40ae-476b-9db7-3539a99a8535",
   "metadata": {},
   "outputs": [
    {
     "data": {
      "text/plain": [
       "Label\n",
       "DDOS attack-LOIC-UDP    1730\n",
       "Name: count, dtype: int64"
      ]
     },
     "execution_count": 14,
     "metadata": {},
     "output_type": "execute_result"
    }
   ],
   "source": [
    "df_DDoS3 = df.loc[df['Label'] == 'DDOS attack-LOIC-UDP']\n",
    "df_DDoS3['Label'].value_counts()"
   ]
  },
  {
   "cell_type": "code",
   "execution_count": 15,
   "id": "6c88426b-2bee-471f-b56d-e09f25e05ccb",
   "metadata": {},
   "outputs": [],
   "source": [
    "df_coat = pd.concat([df_BENIGN, df_Worm1, df_Worm2, df_DDoS1, df_DDoS2, df_DDoS3])"
   ]
  },
  {
   "cell_type": "code",
   "execution_count": 16,
   "id": "c5b3d849-f9d1-4804-9bed-5b1a7b287837",
   "metadata": {},
   "outputs": [
    {
     "data": {
      "text/plain": [
       "Label\n",
       "Benign                    5329008\n",
       "DDoS attacks-LOIC-HTTP     575364\n",
       "DDOS attack-HOIC           198861\n",
       "Bot                        144535\n",
       "Infilteration              118483\n",
       "DDOS attack-LOIC-UDP         1730\n",
       "Name: count, dtype: int64"
      ]
     },
     "execution_count": 16,
     "metadata": {},
     "output_type": "execute_result"
    }
   ],
   "source": [
    "df_coat['Label'].value_counts()"
   ]
  },
  {
   "cell_type": "code",
   "execution_count": 23,
   "id": "ba77be95-00d2-47e8-a71d-71cdadda52d7",
   "metadata": {},
   "outputs": [],
   "source": [
    "df_coat['Label'] = df_coat['Label'].str.replace('Infilteration', 'Worm')"
   ]
  },
  {
   "cell_type": "code",
   "execution_count": 18,
   "id": "7c046a65-91ec-45a2-8229-e4cd23c3f919",
   "metadata": {},
   "outputs": [],
   "source": [
    "df_coat['Label'] = df_coat['Label'].str.replace('Bot', 'Worm')"
   ]
  },
  {
   "cell_type": "code",
   "execution_count": 19,
   "id": "4d2edaf0-6bb6-4f24-acf9-515b4b26faf9",
   "metadata": {},
   "outputs": [],
   "source": [
    "df_coat['Label'] = df_coat['Label'].str.replace('DDoS attacks-LOIC-HTTP', 'DDoS')"
   ]
  },
  {
   "cell_type": "code",
   "execution_count": 20,
   "id": "8243a45c-396a-4860-9d61-05bb5dd10816",
   "metadata": {},
   "outputs": [],
   "source": [
    "df_coat['Label'] = df_coat['Label'].str.replace('DDOS attack-HOIC', 'DDoS')"
   ]
  },
  {
   "cell_type": "code",
   "execution_count": 21,
   "id": "9d177d16-c441-4454-8952-88eac755135e",
   "metadata": {},
   "outputs": [],
   "source": [
    "df_coat['Label'] = df_coat['Label'].str.replace('DDOS attack-LOIC-UDP', 'DDoS')"
   ]
  },
  {
   "cell_type": "code",
   "execution_count": 24,
   "id": "4aa88c90-cc5b-4bf0-be69-126c63ca2fa1",
   "metadata": {},
   "outputs": [
    {
     "data": {
      "text/plain": [
       "Label\n",
       "Benign    5329008\n",
       "DDoS       775955\n",
       "Worm       263018\n",
       "Name: count, dtype: int64"
      ]
     },
     "execution_count": 24,
     "metadata": {},
     "output_type": "execute_result"
    }
   ],
   "source": [
    "df_coat['Label'].value_counts()"
   ]
  },
  {
   "cell_type": "code",
   "execution_count": 25,
   "id": "480ed3c5-c92c-4726-9264-a567ca4c2b10",
   "metadata": {},
   "outputs": [
    {
     "name": "stdout",
     "output_type": "stream",
     "text": [
      "<class 'pandas.core.frame.DataFrame'>\n",
      "Index: 6367981 entries, 0 to 3840\n",
      "Data columns (total 79 columns):\n",
      " #   Column                    Dtype  \n",
      "---  ------                    -----  \n",
      " 0   Protocol                  int8   \n",
      " 1   Flow Duration             int64  \n",
      " 2   Total Fwd Packets         int32  \n",
      " 3   Total Backward Packets    int32  \n",
      " 4   Fwd Packets Length Total  int32  \n",
      " 5   Bwd Packets Length Total  float64\n",
      " 6   Fwd Packet Length Max     int32  \n",
      " 7   Fwd Packet Length Min     int16  \n",
      " 8   Fwd Packet Length Mean    float32\n",
      " 9   Fwd Packet Length Std     float32\n",
      " 10  Bwd Packet Length Max     int32  \n",
      " 11  Bwd Packet Length Min     int16  \n",
      " 12  Bwd Packet Length Mean    float32\n",
      " 13  Bwd Packet Length Std     float32\n",
      " 14  Flow Bytes/s              float64\n",
      " 15  Flow Packets/s            float64\n",
      " 16  Flow IAT Mean             float32\n",
      " 17  Flow IAT Std              float32\n",
      " 18  Flow IAT Max              float64\n",
      " 19  Flow IAT Min              float64\n",
      " 20  Fwd IAT Total             float64\n",
      " 21  Fwd IAT Mean              float32\n",
      " 22  Fwd IAT Std               float32\n",
      " 23  Fwd IAT Max               float64\n",
      " 24  Fwd IAT Min               float64\n",
      " 25  Bwd IAT Total             float64\n",
      " 26  Bwd IAT Mean              float32\n",
      " 27  Bwd IAT Std               float32\n",
      " 28  Bwd IAT Max               float64\n",
      " 29  Bwd IAT Min               float64\n",
      " 30  Fwd PSH Flags             int8   \n",
      " 31  Bwd PSH Flags             int8   \n",
      " 32  Fwd URG Flags             int8   \n",
      " 33  Bwd URG Flags             int8   \n",
      " 34  Fwd Header Length         int32  \n",
      " 35  Bwd Header Length         int32  \n",
      " 36  Fwd Packets/s             float32\n",
      " 37  Bwd Packets/s             float32\n",
      " 38  Packet Length Min         int16  \n",
      " 39  Packet Length Max         int32  \n",
      " 40  Packet Length Mean        float32\n",
      " 41  Packet Length Std         float32\n",
      " 42  Packet Length Variance    float32\n",
      " 43  FIN Flag Count            int8   \n",
      " 44  SYN Flag Count            int8   \n",
      " 45  RST Flag Count            int8   \n",
      " 46  PSH Flag Count            int8   \n",
      " 47  ACK Flag Count            int8   \n",
      " 48  URG Flag Count            int8   \n",
      " 49  CWE Flag Count            int8   \n",
      " 50  ECE Flag Count            int8   \n",
      " 51  Down/Up Ratio             int16  \n",
      " 52  Avg Packet Size           float32\n",
      " 53  Avg Fwd Segment Size      float32\n",
      " 54  Avg Bwd Segment Size      float32\n",
      " 55  Fwd Avg Bytes/Bulk        int8   \n",
      " 56  Fwd Avg Packets/Bulk      int8   \n",
      " 57  Fwd Avg Bulk Rate         int8   \n",
      " 58  Bwd Avg Bytes/Bulk        int8   \n",
      " 59  Bwd Avg Packets/Bulk      int8   \n",
      " 60  Bwd Avg Bulk Rate         int8   \n",
      " 61  Subflow Fwd Packets       int32  \n",
      " 62  Subflow Fwd Bytes         int32  \n",
      " 63  Subflow Bwd Packets       int32  \n",
      " 64  Subflow Bwd Bytes         int32  \n",
      " 65  Init Fwd Win Bytes        int32  \n",
      " 66  Init Bwd Win Bytes        int32  \n",
      " 67  Fwd Act Data Packets      int32  \n",
      " 68  Fwd Seg Size Min          int8   \n",
      " 69  Active Mean               float32\n",
      " 70  Active Std                float32\n",
      " 71  Active Max                float64\n",
      " 72  Active Min                float64\n",
      " 73  Idle Mean                 float32\n",
      " 74  Idle Std                  float32\n",
      " 75  Idle Max                  float64\n",
      " 76  Idle Min                  float64\n",
      " 77  Label                     object \n",
      " 78  Attack                    object \n",
      "dtypes: float32(22), float64(15), int16(4), int32(15), int64(1), int8(20), object(2)\n",
      "memory usage: 1.9+ GB\n"
     ]
    }
   ],
   "source": [
    "attack = df_coat.loc[:, \"Label\"].map(lambda lbl: \"0\" if lbl == \"Benign\" else \"1\")\n",
    "attack.name = \"Attack\"\n",
    "df_coat.loc[:, attack.name] = attack\n",
    "\n",
    "df_coat.info()"
   ]
  },
  {
   "cell_type": "code",
   "execution_count": 26,
   "id": "24726c70-6c29-4cf1-93ff-0cb338ffa11f",
   "metadata": {},
   "outputs": [],
   "source": [
    "df_coat['Attack'] = df_coat['Attack'].astype(int)"
   ]
  },
  {
   "cell_type": "code",
   "execution_count": 27,
   "id": "ab59f4c3-2fce-492e-8b24-25577af66032",
   "metadata": {},
   "outputs": [
    {
     "name": "stdout",
     "output_type": "stream",
     "text": [
      "<class 'pandas.core.frame.DataFrame'>\n",
      "Index: 6367981 entries, 0 to 3840\n",
      "Data columns (total 79 columns):\n",
      " #   Column                    Dtype  \n",
      "---  ------                    -----  \n",
      " 0   Protocol                  int8   \n",
      " 1   Flow Duration             int64  \n",
      " 2   Total Fwd Packets         int32  \n",
      " 3   Total Backward Packets    int32  \n",
      " 4   Fwd Packets Length Total  int32  \n",
      " 5   Bwd Packets Length Total  float64\n",
      " 6   Fwd Packet Length Max     int32  \n",
      " 7   Fwd Packet Length Min     int16  \n",
      " 8   Fwd Packet Length Mean    float32\n",
      " 9   Fwd Packet Length Std     float32\n",
      " 10  Bwd Packet Length Max     int32  \n",
      " 11  Bwd Packet Length Min     int16  \n",
      " 12  Bwd Packet Length Mean    float32\n",
      " 13  Bwd Packet Length Std     float32\n",
      " 14  Flow Bytes/s              float64\n",
      " 15  Flow Packets/s            float64\n",
      " 16  Flow IAT Mean             float32\n",
      " 17  Flow IAT Std              float32\n",
      " 18  Flow IAT Max              float64\n",
      " 19  Flow IAT Min              float64\n",
      " 20  Fwd IAT Total             float64\n",
      " 21  Fwd IAT Mean              float32\n",
      " 22  Fwd IAT Std               float32\n",
      " 23  Fwd IAT Max               float64\n",
      " 24  Fwd IAT Min               float64\n",
      " 25  Bwd IAT Total             float64\n",
      " 26  Bwd IAT Mean              float32\n",
      " 27  Bwd IAT Std               float32\n",
      " 28  Bwd IAT Max               float64\n",
      " 29  Bwd IAT Min               float64\n",
      " 30  Fwd PSH Flags             int8   \n",
      " 31  Bwd PSH Flags             int8   \n",
      " 32  Fwd URG Flags             int8   \n",
      " 33  Bwd URG Flags             int8   \n",
      " 34  Fwd Header Length         int32  \n",
      " 35  Bwd Header Length         int32  \n",
      " 36  Fwd Packets/s             float32\n",
      " 37  Bwd Packets/s             float32\n",
      " 38  Packet Length Min         int16  \n",
      " 39  Packet Length Max         int32  \n",
      " 40  Packet Length Mean        float32\n",
      " 41  Packet Length Std         float32\n",
      " 42  Packet Length Variance    float32\n",
      " 43  FIN Flag Count            int8   \n",
      " 44  SYN Flag Count            int8   \n",
      " 45  RST Flag Count            int8   \n",
      " 46  PSH Flag Count            int8   \n",
      " 47  ACK Flag Count            int8   \n",
      " 48  URG Flag Count            int8   \n",
      " 49  CWE Flag Count            int8   \n",
      " 50  ECE Flag Count            int8   \n",
      " 51  Down/Up Ratio             int16  \n",
      " 52  Avg Packet Size           float32\n",
      " 53  Avg Fwd Segment Size      float32\n",
      " 54  Avg Bwd Segment Size      float32\n",
      " 55  Fwd Avg Bytes/Bulk        int8   \n",
      " 56  Fwd Avg Packets/Bulk      int8   \n",
      " 57  Fwd Avg Bulk Rate         int8   \n",
      " 58  Bwd Avg Bytes/Bulk        int8   \n",
      " 59  Bwd Avg Packets/Bulk      int8   \n",
      " 60  Bwd Avg Bulk Rate         int8   \n",
      " 61  Subflow Fwd Packets       int32  \n",
      " 62  Subflow Fwd Bytes         int32  \n",
      " 63  Subflow Bwd Packets       int32  \n",
      " 64  Subflow Bwd Bytes         int32  \n",
      " 65  Init Fwd Win Bytes        int32  \n",
      " 66  Init Bwd Win Bytes        int32  \n",
      " 67  Fwd Act Data Packets      int32  \n",
      " 68  Fwd Seg Size Min          int8   \n",
      " 69  Active Mean               float32\n",
      " 70  Active Std                float32\n",
      " 71  Active Max                float64\n",
      " 72  Active Min                float64\n",
      " 73  Idle Mean                 float32\n",
      " 74  Idle Std                  float32\n",
      " 75  Idle Max                  float64\n",
      " 76  Idle Min                  float64\n",
      " 77  Label                     object \n",
      " 78  Attack                    int64  \n",
      "dtypes: float32(22), float64(15), int16(4), int32(15), int64(2), int8(20), object(1)\n",
      "memory usage: 1.9+ GB\n"
     ]
    }
   ],
   "source": [
    "df_coat.info()"
   ]
  },
  {
   "cell_type": "code",
   "execution_count": 28,
   "id": "645d27e5-020d-46a9-84e4-443e9df8199e",
   "metadata": {},
   "outputs": [],
   "source": [
    "df_coat.to_parquet(f\"./CoAt_CSE-CIC-IDS2018.parquet\")"
   ]
  },
  {
   "cell_type": "code",
   "execution_count": 7,
   "id": "edd7362e-d1a8-4e08-92c1-750ce2f4e376",
   "metadata": {},
   "outputs": [],
   "source": [
    "df_coat_origin = pd.read_parquet('./CoAt_CSE-CIC-IDS2018.parquet', engine='pyarrow')\n",
    "df_coat_feed = pd.read_parquet('/home/administrator/dataset/CoAt/feeding-dataset/Feed_Scan_CSE-CIC-IDS2018.parquet', engine='pyarrow')"
   ]
  },
  {
   "cell_type": "code",
   "execution_count": 8,
   "id": "7233de5a-df49-4c51-a6af-caffb40c1430",
   "metadata": {},
   "outputs": [],
   "source": [
    "df_coat_cmb = pd.concat([df_coat_origin, df_coat_feed])"
   ]
  },
  {
   "cell_type": "code",
   "execution_count": 9,
   "id": "87377644-76ff-4256-b0da-cbceafe458fc",
   "metadata": {},
   "outputs": [
    {
     "name": "stdout",
     "output_type": "stream",
     "text": [
      "<class 'pandas.core.frame.DataFrame'>\n",
      "Index: 6375149 entries, 0 to 361854\n",
      "Data columns (total 79 columns):\n",
      " #   Column                    Dtype  \n",
      "---  ------                    -----  \n",
      " 0   Protocol                  int8   \n",
      " 1   Flow Duration             int64  \n",
      " 2   Total Fwd Packets         int32  \n",
      " 3   Total Backward Packets    int32  \n",
      " 4   Fwd Packets Length Total  float64\n",
      " 5   Bwd Packets Length Total  float64\n",
      " 6   Fwd Packet Length Max     float64\n",
      " 7   Fwd Packet Length Min     float32\n",
      " 8   Fwd Packet Length Mean    float32\n",
      " 9   Fwd Packet Length Std     float32\n",
      " 10  Bwd Packet Length Max     float64\n",
      " 11  Bwd Packet Length Min     float32\n",
      " 12  Bwd Packet Length Mean    float32\n",
      " 13  Bwd Packet Length Std     float32\n",
      " 14  Flow Bytes/s              float64\n",
      " 15  Flow Packets/s            float64\n",
      " 16  Flow IAT Mean             float32\n",
      " 17  Flow IAT Std              float32\n",
      " 18  Flow IAT Max              float64\n",
      " 19  Flow IAT Min              float64\n",
      " 20  Fwd IAT Total             float64\n",
      " 21  Fwd IAT Mean              float32\n",
      " 22  Fwd IAT Std               float32\n",
      " 23  Fwd IAT Max               float64\n",
      " 24  Fwd IAT Min               float64\n",
      " 25  Bwd IAT Total             float64\n",
      " 26  Bwd IAT Mean              float32\n",
      " 27  Bwd IAT Std               float32\n",
      " 28  Bwd IAT Max               float64\n",
      " 29  Bwd IAT Min               float64\n",
      " 30  Fwd PSH Flags             int16  \n",
      " 31  Bwd PSH Flags             int16  \n",
      " 32  Fwd URG Flags             int8   \n",
      " 33  Bwd URG Flags             int8   \n",
      " 34  Fwd Header Length         int32  \n",
      " 35  Bwd Header Length         int32  \n",
      " 36  Fwd Packets/s             float32\n",
      " 37  Bwd Packets/s             float32\n",
      " 38  Packet Length Min         float32\n",
      " 39  Packet Length Max         float64\n",
      " 40  Packet Length Mean        float32\n",
      " 41  Packet Length Std         float32\n",
      " 42  Packet Length Variance    float32\n",
      " 43  FIN Flag Count            int8   \n",
      " 44  SYN Flag Count            int8   \n",
      " 45  RST Flag Count            int16  \n",
      " 46  PSH Flag Count            int16  \n",
      " 47  ACK Flag Count            int32  \n",
      " 48  URG Flag Count            int8   \n",
      " 49  CWE Flag Count            int8   \n",
      " 50  ECE Flag Count            int8   \n",
      " 51  Down/Up Ratio             float32\n",
      " 52  Avg Packet Size           float32\n",
      " 53  Avg Fwd Segment Size      float32\n",
      " 54  Avg Bwd Segment Size      float32\n",
      " 55  Fwd Avg Bytes/Bulk        int32  \n",
      " 56  Fwd Avg Packets/Bulk      int16  \n",
      " 57  Fwd Avg Bulk Rate         int32  \n",
      " 58  Bwd Avg Bytes/Bulk        int32  \n",
      " 59  Bwd Avg Packets/Bulk      int32  \n",
      " 60  Bwd Avg Bulk Rate         int32  \n",
      " 61  Subflow Fwd Packets       int32  \n",
      " 62  Subflow Fwd Bytes         int32  \n",
      " 63  Subflow Bwd Packets       int32  \n",
      " 64  Subflow Bwd Bytes         int32  \n",
      " 65  Init Fwd Win Bytes        int32  \n",
      " 66  Init Bwd Win Bytes        int32  \n",
      " 67  Fwd Act Data Packets      int32  \n",
      " 68  Fwd Seg Size Min          int8   \n",
      " 69  Active Mean               float32\n",
      " 70  Active Std                float32\n",
      " 71  Active Max                float64\n",
      " 72  Active Min                float64\n",
      " 73  Idle Mean                 float32\n",
      " 74  Idle Std                  float32\n",
      " 75  Idle Max                  float64\n",
      " 76  Idle Min                  float64\n",
      " 77  Label                     object \n",
      " 78  Attack                    int64  \n",
      "dtypes: float32(26), float64(19), int16(5), int32(17), int64(2), int8(9), object(1)\n",
      "memory usage: 2.2+ GB\n"
     ]
    }
   ],
   "source": [
    "df_coat_cmb.info()"
   ]
  },
  {
   "cell_type": "code",
   "execution_count": 10,
   "id": "6535044c-92ae-44d8-b506-df10651787c1",
   "metadata": {},
   "outputs": [
    {
     "data": {
      "text/plain": [
       "Label\n",
       "Benign    5329008\n",
       "DDoS       775955\n",
       "Worm       263018\n",
       "Scan         7168\n",
       "Name: count, dtype: int64"
      ]
     },
     "execution_count": 10,
     "metadata": {},
     "output_type": "execute_result"
    }
   ],
   "source": [
    "df_coat_cmb['Label'].value_counts()"
   ]
  },
  {
   "cell_type": "code",
   "execution_count": 11,
   "id": "8fc4eac2-b88e-43e9-a89f-223160aa32b1",
   "metadata": {},
   "outputs": [
    {
     "data": {
      "text/plain": [
       "Attack\n",
       "0    5329008\n",
       "1    1046141\n",
       "Name: count, dtype: int64"
      ]
     },
     "execution_count": 11,
     "metadata": {},
     "output_type": "execute_result"
    }
   ],
   "source": [
    "df_coat_cmb['Attack'].value_counts()"
   ]
  },
  {
   "cell_type": "code",
   "execution_count": 12,
   "id": "e38ffd2d-91d6-4402-aacc-8b0fc4f9432e",
   "metadata": {},
   "outputs": [],
   "source": [
    "df_coat_cmb.to_parquet(f\"./CoAt_CSE-CIC-IDS2018_Feeded.parquet\")"
   ]
  },
  {
   "cell_type": "code",
   "execution_count": null,
   "id": "9d009d0c-bd29-4513-8350-ac8a4fac3b53",
   "metadata": {},
   "outputs": [],
   "source": []
  }
 ],
 "metadata": {
  "kernelspec": {
   "display_name": "Python 3 (ipykernel)",
   "language": "python",
   "name": "python3"
  },
  "language_info": {
   "codemirror_mode": {
    "name": "ipython",
    "version": 3
   },
   "file_extension": ".py",
   "mimetype": "text/x-python",
   "name": "python",
   "nbconvert_exporter": "python",
   "pygments_lexer": "ipython3",
   "version": "3.12.5"
  }
 },
 "nbformat": 4,
 "nbformat_minor": 5
}
