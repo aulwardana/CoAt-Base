{
 "cells": [
  {
   "cell_type": "code",
   "execution_count": 1,
   "id": "bddac046-0141-4f54-aadb-3fd4192ea299",
   "metadata": {},
   "outputs": [],
   "source": [
    "import pandas as pd\n",
    "import numpy as np"
   ]
  },
  {
   "cell_type": "code",
   "execution_count": 2,
   "id": "ddfb6c95-8d49-453e-ade1-33da6886b05e",
   "metadata": {},
   "outputs": [],
   "source": [
    "df1 = pd.read_parquet('./Benign-Monday.parquet', engine='pyarrow')\n",
    "df2 = pd.read_parquet('./Bruteforce-Tuesday.parquet', engine='pyarrow')\n",
    "df3 = pd.read_parquet('./DoS-Wednesday.parquet', engine='pyarrow')\n",
    "df4 = pd.read_parquet('./Infiltration-Webattacks-Thursday.parquet', engine='pyarrow')\n",
    "df5 = pd.read_parquet('./Portscan-DDos-Botnet-Friday.parquet', engine='pyarrow')"
   ]
  },
  {
   "cell_type": "code",
   "execution_count": 3,
   "id": "c1fc60a6-bec1-4998-b86b-ed219cd29fb5",
   "metadata": {},
   "outputs": [],
   "source": [
    "df = pd.concat([df1, df2, df3, df4, df5])"
   ]
  },
  {
   "cell_type": "code",
   "execution_count": 4,
   "id": "4cdfbb04-6490-436b-a30d-437a05c0905b",
   "metadata": {},
   "outputs": [
    {
     "name": "stdout",
     "output_type": "stream",
     "text": [
      "<class 'pandas.core.frame.DataFrame'>\n",
      "Index: 1787358 entries, 0 to 370258\n",
      "Data columns (total 83 columns):\n",
      " #   Column                    Dtype  \n",
      "---  ------                    -----  \n",
      " 0   Protocol                  int8   \n",
      " 1   Flow Duration             int32  \n",
      " 2   Total Fwd Packets         int32  \n",
      " 3   Total Backward Packets    int32  \n",
      " 4   Fwd Packets Length Total  float32\n",
      " 5   Bwd Packets Length Total  float32\n",
      " 6   Fwd Packet Length Max     float32\n",
      " 7   Fwd Packet Length Min     float32\n",
      " 8   Fwd Packet Length Mean    float32\n",
      " 9   Fwd Packet Length Std     float32\n",
      " 10  Bwd Packet Length Max     float32\n",
      " 11  Bwd Packet Length Min     float32\n",
      " 12  Bwd Packet Length Mean    float32\n",
      " 13  Bwd Packet Length Std     float32\n",
      " 14  Flow Bytes/s              float64\n",
      " 15  Flow Packets/s            float64\n",
      " 16  Flow IAT Mean             float32\n",
      " 17  Flow IAT Std              float32\n",
      " 18  Flow IAT Max              float32\n",
      " 19  Flow IAT Min              float32\n",
      " 20  Fwd IAT Total             float32\n",
      " 21  Fwd IAT Mean              float32\n",
      " 22  Fwd IAT Std               float32\n",
      " 23  Fwd IAT Max               float32\n",
      " 24  Fwd IAT Min               float32\n",
      " 25  Bwd IAT Total             float32\n",
      " 26  Bwd IAT Mean              float32\n",
      " 27  Bwd IAT Std               float32\n",
      " 28  Bwd IAT Max               float32\n",
      " 29  Bwd IAT Min               float32\n",
      " 30  Fwd PSH Flags             int16  \n",
      " 31  Bwd PSH Flags             int16  \n",
      " 32  Fwd URG Flags             int8   \n",
      " 33  Bwd URG Flags             int8   \n",
      " 34  Fwd RST Flags             int16  \n",
      " 35  Bwd RST Flags             int8   \n",
      " 36  Fwd Header Length         int32  \n",
      " 37  Bwd Header Length         int32  \n",
      " 38  Fwd Packets/s             float32\n",
      " 39  Bwd Packets/s             float32\n",
      " 40  Packet Length Min         float32\n",
      " 41  Packet Length Max         float32\n",
      " 42  Packet Length Mean        float32\n",
      " 43  Packet Length Std         float32\n",
      " 44  Packet Length Variance    float32\n",
      " 45  FIN Flag Count            int8   \n",
      " 46  SYN Flag Count            int8   \n",
      " 47  RST Flag Count            int16  \n",
      " 48  PSH Flag Count            int16  \n",
      " 49  ACK Flag Count            int32  \n",
      " 50  URG Flag Count            int8   \n",
      " 51  CWR Flag Count            int8   \n",
      " 52  ECE Flag Count            int8   \n",
      " 53  Down/Up Ratio             float32\n",
      " 54  Avg Packet Size           float32\n",
      " 55  Avg Fwd Segment Size      float32\n",
      " 56  Avg Bwd Segment Size      float32\n",
      " 57  Fwd Avg Bytes/Bulk        int32  \n",
      " 58  Fwd Avg Packets/Bulk      int16  \n",
      " 59  Fwd Avg Bulk Rate         int32  \n",
      " 60  Bwd Avg Bytes/Bulk        int32  \n",
      " 61  Bwd Avg Packets/Bulk      int32  \n",
      " 62  Bwd Avg Bulk Rate         int32  \n",
      " 63  Subflow Fwd Packets       int8   \n",
      " 64  Subflow Fwd Bytes         int16  \n",
      " 65  Subflow Bwd Packets       int8   \n",
      " 66  Subflow Bwd Bytes         int16  \n",
      " 67  Init Fwd Win Bytes        int32  \n",
      " 68  Init Bwd Win Bytes        int32  \n",
      " 69  Fwd Act Data Packets      int16  \n",
      " 70  Fwd Seg Size Min          int8   \n",
      " 71  Active Mean               float32\n",
      " 72  Active Std                float32\n",
      " 73  Active Max                float32\n",
      " 74  Active Min                float32\n",
      " 75  Idle Mean                 float32\n",
      " 76  Idle Std                  float32\n",
      " 77  Idle Max                  float32\n",
      " 78  Idle Min                  float32\n",
      " 79  ICMP Code                 int8   \n",
      " 80  ICMP Type                 int8   \n",
      " 81  Total TCP Flow Time       int64  \n",
      " 82  Label                     object \n",
      "dtypes: float32(43), float64(2), int16(9), int32(13), int64(1), int8(14), object(1)\n",
      "memory usage: 504.5+ MB\n"
     ]
    }
   ],
   "source": [
    "df.info()"
   ]
  },
  {
   "cell_type": "code",
   "execution_count": 5,
   "id": "e9b7fe59-7536-4729-8935-d9aae378c208",
   "metadata": {},
   "outputs": [
    {
     "data": {
      "text/plain": [
       "Label\n",
       "Benign                         1496505\n",
       "DoS Hulk                        158449\n",
       "DDoS                             95144\n",
       "Attempted-relabel-as-Benign       8966\n",
       "DoS GoldenEye                     7567\n",
       "Infiltration - Portscan           5485\n",
       "DoS Slowloris                     3998\n",
       "FTP-Patator                       3972\n",
       "SSH-Patator                       2961\n",
       "DoS Slowhttptest                  1741\n",
       "Portscan                          1683\n",
       "Botnet                             736\n",
       "Web Attack - Brute Force            73\n",
       "Infiltration                        36\n",
       "Web Attack - XSS                    18\n",
       "Web Attack - SQL Injection          13\n",
       "Heartbleed                          11\n",
       "Name: count, dtype: int64"
      ]
     },
     "execution_count": 5,
     "metadata": {},
     "output_type": "execute_result"
    }
   ],
   "source": [
    "df['Label'].value_counts()"
   ]
  },
  {
   "cell_type": "code",
   "execution_count": 6,
   "id": "b87e099a-56a6-4d2c-8012-ee30567adb86",
   "metadata": {},
   "outputs": [
    {
     "name": "stdout",
     "output_type": "stream",
     "text": [
      "<class 'pandas.core.frame.DataFrame'>\n",
      "Index: 1787358 entries, 0 to 370258\n",
      "Data columns (total 78 columns):\n",
      " #   Column                    Dtype  \n",
      "---  ------                    -----  \n",
      " 0   Protocol                  int8   \n",
      " 1   Flow Duration             int32  \n",
      " 2   Total Fwd Packets         int32  \n",
      " 3   Total Backward Packets    int32  \n",
      " 4   Fwd Packets Length Total  float32\n",
      " 5   Bwd Packets Length Total  float32\n",
      " 6   Fwd Packet Length Max     float32\n",
      " 7   Fwd Packet Length Min     float32\n",
      " 8   Fwd Packet Length Mean    float32\n",
      " 9   Fwd Packet Length Std     float32\n",
      " 10  Bwd Packet Length Max     float32\n",
      " 11  Bwd Packet Length Min     float32\n",
      " 12  Bwd Packet Length Mean    float32\n",
      " 13  Bwd Packet Length Std     float32\n",
      " 14  Flow Bytes/s              float64\n",
      " 15  Flow Packets/s            float64\n",
      " 16  Flow IAT Mean             float32\n",
      " 17  Flow IAT Std              float32\n",
      " 18  Flow IAT Max              float32\n",
      " 19  Flow IAT Min              float32\n",
      " 20  Fwd IAT Total             float32\n",
      " 21  Fwd IAT Mean              float32\n",
      " 22  Fwd IAT Std               float32\n",
      " 23  Fwd IAT Max               float32\n",
      " 24  Fwd IAT Min               float32\n",
      " 25  Bwd IAT Total             float32\n",
      " 26  Bwd IAT Mean              float32\n",
      " 27  Bwd IAT Std               float32\n",
      " 28  Bwd IAT Max               float32\n",
      " 29  Bwd IAT Min               float32\n",
      " 30  Fwd PSH Flags             int16  \n",
      " 31  Bwd PSH Flags             int16  \n",
      " 32  Fwd URG Flags             int8   \n",
      " 33  Bwd URG Flags             int8   \n",
      " 34  Fwd Header Length         int32  \n",
      " 35  Bwd Header Length         int32  \n",
      " 36  Fwd Packets/s             float32\n",
      " 37  Bwd Packets/s             float32\n",
      " 38  Packet Length Min         float32\n",
      " 39  Packet Length Max         float32\n",
      " 40  Packet Length Mean        float32\n",
      " 41  Packet Length Std         float32\n",
      " 42  Packet Length Variance    float32\n",
      " 43  FIN Flag Count            int8   \n",
      " 44  SYN Flag Count            int8   \n",
      " 45  RST Flag Count            int16  \n",
      " 46  PSH Flag Count            int16  \n",
      " 47  ACK Flag Count            int32  \n",
      " 48  URG Flag Count            int8   \n",
      " 49  CWR Flag Count            int8   \n",
      " 50  ECE Flag Count            int8   \n",
      " 51  Down/Up Ratio             float32\n",
      " 52  Avg Packet Size           float32\n",
      " 53  Avg Fwd Segment Size      float32\n",
      " 54  Avg Bwd Segment Size      float32\n",
      " 55  Fwd Avg Bytes/Bulk        int32  \n",
      " 56  Fwd Avg Packets/Bulk      int16  \n",
      " 57  Fwd Avg Bulk Rate         int32  \n",
      " 58  Bwd Avg Bytes/Bulk        int32  \n",
      " 59  Bwd Avg Packets/Bulk      int32  \n",
      " 60  Bwd Avg Bulk Rate         int32  \n",
      " 61  Subflow Fwd Packets       int8   \n",
      " 62  Subflow Fwd Bytes         int16  \n",
      " 63  Subflow Bwd Packets       int8   \n",
      " 64  Subflow Bwd Bytes         int16  \n",
      " 65  Init Fwd Win Bytes        int32  \n",
      " 66  Init Bwd Win Bytes        int32  \n",
      " 67  Fwd Act Data Packets      int16  \n",
      " 68  Fwd Seg Size Min          int8   \n",
      " 69  Active Mean               float32\n",
      " 70  Active Std                float32\n",
      " 71  Active Max                float32\n",
      " 72  Active Min                float32\n",
      " 73  Idle Mean                 float32\n",
      " 74  Idle Std                  float32\n",
      " 75  Idle Max                  float32\n",
      " 76  Idle Min                  float32\n",
      " 77  Label                     object \n",
      "dtypes: float32(43), float64(2), int16(8), int32(13), int8(11), object(1)\n",
      "memory usage: 482.4+ MB\n"
     ]
    }
   ],
   "source": [
    "df = df.drop(df.columns[[34, 35, 79, 80, 81]], axis=1)\n",
    "\n",
    "df.info()"
   ]
  },
  {
   "cell_type": "code",
   "execution_count": 7,
   "id": "452b368c-093b-418e-a4fd-ce72a88795e2",
   "metadata": {},
   "outputs": [
    {
     "name": "stdout",
     "output_type": "stream",
     "text": [
      "<class 'pandas.core.frame.DataFrame'>\n",
      "Index: 1787358 entries, 0 to 370258\n",
      "Data columns (total 79 columns):\n",
      " #   Column                    Dtype  \n",
      "---  ------                    -----  \n",
      " 0   Protocol                  int8   \n",
      " 1   Flow Duration             int32  \n",
      " 2   Total Fwd Packets         int32  \n",
      " 3   Total Backward Packets    int32  \n",
      " 4   Fwd Packets Length Total  float32\n",
      " 5   Bwd Packets Length Total  float32\n",
      " 6   Fwd Packet Length Max     float32\n",
      " 7   Fwd Packet Length Min     float32\n",
      " 8   Fwd Packet Length Mean    float32\n",
      " 9   Fwd Packet Length Std     float32\n",
      " 10  Bwd Packet Length Max     float32\n",
      " 11  Bwd Packet Length Min     float32\n",
      " 12  Bwd Packet Length Mean    float32\n",
      " 13  Bwd Packet Length Std     float32\n",
      " 14  Flow Bytes/s              float64\n",
      " 15  Flow Packets/s            float64\n",
      " 16  Flow IAT Mean             float32\n",
      " 17  Flow IAT Std              float32\n",
      " 18  Flow IAT Max              float32\n",
      " 19  Flow IAT Min              float32\n",
      " 20  Fwd IAT Total             float32\n",
      " 21  Fwd IAT Mean              float32\n",
      " 22  Fwd IAT Std               float32\n",
      " 23  Fwd IAT Max               float32\n",
      " 24  Fwd IAT Min               float32\n",
      " 25  Bwd IAT Total             float32\n",
      " 26  Bwd IAT Mean              float32\n",
      " 27  Bwd IAT Std               float32\n",
      " 28  Bwd IAT Max               float32\n",
      " 29  Bwd IAT Min               float32\n",
      " 30  Fwd PSH Flags             int16  \n",
      " 31  Bwd PSH Flags             int16  \n",
      " 32  Fwd URG Flags             int8   \n",
      " 33  Bwd URG Flags             int8   \n",
      " 34  Fwd Header Length         int32  \n",
      " 35  Bwd Header Length         int32  \n",
      " 36  Fwd Packets/s             float32\n",
      " 37  Bwd Packets/s             float32\n",
      " 38  Packet Length Min         float32\n",
      " 39  Packet Length Max         float32\n",
      " 40  Packet Length Mean        float32\n",
      " 41  Packet Length Std         float32\n",
      " 42  Packet Length Variance    float32\n",
      " 43  FIN Flag Count            int8   \n",
      " 44  SYN Flag Count            int8   \n",
      " 45  RST Flag Count            int16  \n",
      " 46  PSH Flag Count            int16  \n",
      " 47  ACK Flag Count            int32  \n",
      " 48  URG Flag Count            int8   \n",
      " 49  CWR Flag Count            int8   \n",
      " 50  ECE Flag Count            int8   \n",
      " 51  Down/Up Ratio             float32\n",
      " 52  Avg Packet Size           float32\n",
      " 53  Avg Fwd Segment Size      float32\n",
      " 54  Avg Bwd Segment Size      float32\n",
      " 55  Fwd Avg Bytes/Bulk        int32  \n",
      " 56  Fwd Avg Packets/Bulk      int16  \n",
      " 57  Fwd Avg Bulk Rate         int32  \n",
      " 58  Bwd Avg Bytes/Bulk        int32  \n",
      " 59  Bwd Avg Packets/Bulk      int32  \n",
      " 60  Bwd Avg Bulk Rate         int32  \n",
      " 61  Subflow Fwd Packets       int8   \n",
      " 62  Subflow Fwd Bytes         int16  \n",
      " 63  Subflow Bwd Packets       int8   \n",
      " 64  Subflow Bwd Bytes         int16  \n",
      " 65  Init Fwd Win Bytes        int32  \n",
      " 66  Init Bwd Win Bytes        int32  \n",
      " 67  Fwd Act Data Packets      int16  \n",
      " 68  Fwd Seg Size Min          int8   \n",
      " 69  Active Mean               float32\n",
      " 70  Active Std                float32\n",
      " 71  Active Max                float32\n",
      " 72  Active Min                float32\n",
      " 73  Idle Mean                 float32\n",
      " 74  Idle Std                  float32\n",
      " 75  Idle Max                  float32\n",
      " 76  Idle Min                  float32\n",
      " 77  Label                     object \n",
      " 78  Attack                    object \n",
      "dtypes: float32(43), float64(2), int16(8), int32(13), int8(11), object(2)\n",
      "memory usage: 496.0+ MB\n"
     ]
    }
   ],
   "source": [
    "attack = df.loc[:, \"Label\"].map(lambda lbl: \"0\" if lbl == \"Benign\" else \"1\")\n",
    "attack.name = \"Attack\"\n",
    "df.loc[:, attack.name] = attack\n",
    "\n",
    "df.info()"
   ]
  },
  {
   "cell_type": "code",
   "execution_count": 8,
   "id": "826276f9-e0f0-4f92-b9bc-958acbb9f376",
   "metadata": {},
   "outputs": [],
   "source": [
    "df['Attack'] = df['Attack'].astype(int)"
   ]
  },
  {
   "cell_type": "code",
   "execution_count": 9,
   "id": "840ffdef-d1d9-45ed-92e4-a7b66bcd6518",
   "metadata": {},
   "outputs": [
    {
     "name": "stdout",
     "output_type": "stream",
     "text": [
      "<class 'pandas.core.frame.DataFrame'>\n",
      "Index: 1787358 entries, 0 to 370258\n",
      "Data columns (total 79 columns):\n",
      " #   Column                    Dtype  \n",
      "---  ------                    -----  \n",
      " 0   Protocol                  int8   \n",
      " 1   Flow Duration             int32  \n",
      " 2   Total Fwd Packets         int32  \n",
      " 3   Total Backward Packets    int32  \n",
      " 4   Fwd Packets Length Total  float32\n",
      " 5   Bwd Packets Length Total  float32\n",
      " 6   Fwd Packet Length Max     float32\n",
      " 7   Fwd Packet Length Min     float32\n",
      " 8   Fwd Packet Length Mean    float32\n",
      " 9   Fwd Packet Length Std     float32\n",
      " 10  Bwd Packet Length Max     float32\n",
      " 11  Bwd Packet Length Min     float32\n",
      " 12  Bwd Packet Length Mean    float32\n",
      " 13  Bwd Packet Length Std     float32\n",
      " 14  Flow Bytes/s              float64\n",
      " 15  Flow Packets/s            float64\n",
      " 16  Flow IAT Mean             float32\n",
      " 17  Flow IAT Std              float32\n",
      " 18  Flow IAT Max              float32\n",
      " 19  Flow IAT Min              float32\n",
      " 20  Fwd IAT Total             float32\n",
      " 21  Fwd IAT Mean              float32\n",
      " 22  Fwd IAT Std               float32\n",
      " 23  Fwd IAT Max               float32\n",
      " 24  Fwd IAT Min               float32\n",
      " 25  Bwd IAT Total             float32\n",
      " 26  Bwd IAT Mean              float32\n",
      " 27  Bwd IAT Std               float32\n",
      " 28  Bwd IAT Max               float32\n",
      " 29  Bwd IAT Min               float32\n",
      " 30  Fwd PSH Flags             int16  \n",
      " 31  Bwd PSH Flags             int16  \n",
      " 32  Fwd URG Flags             int8   \n",
      " 33  Bwd URG Flags             int8   \n",
      " 34  Fwd Header Length         int32  \n",
      " 35  Bwd Header Length         int32  \n",
      " 36  Fwd Packets/s             float32\n",
      " 37  Bwd Packets/s             float32\n",
      " 38  Packet Length Min         float32\n",
      " 39  Packet Length Max         float32\n",
      " 40  Packet Length Mean        float32\n",
      " 41  Packet Length Std         float32\n",
      " 42  Packet Length Variance    float32\n",
      " 43  FIN Flag Count            int8   \n",
      " 44  SYN Flag Count            int8   \n",
      " 45  RST Flag Count            int16  \n",
      " 46  PSH Flag Count            int16  \n",
      " 47  ACK Flag Count            int32  \n",
      " 48  URG Flag Count            int8   \n",
      " 49  CWR Flag Count            int8   \n",
      " 50  ECE Flag Count            int8   \n",
      " 51  Down/Up Ratio             float32\n",
      " 52  Avg Packet Size           float32\n",
      " 53  Avg Fwd Segment Size      float32\n",
      " 54  Avg Bwd Segment Size      float32\n",
      " 55  Fwd Avg Bytes/Bulk        int32  \n",
      " 56  Fwd Avg Packets/Bulk      int16  \n",
      " 57  Fwd Avg Bulk Rate         int32  \n",
      " 58  Bwd Avg Bytes/Bulk        int32  \n",
      " 59  Bwd Avg Packets/Bulk      int32  \n",
      " 60  Bwd Avg Bulk Rate         int32  \n",
      " 61  Subflow Fwd Packets       int8   \n",
      " 62  Subflow Fwd Bytes         int16  \n",
      " 63  Subflow Bwd Packets       int8   \n",
      " 64  Subflow Bwd Bytes         int16  \n",
      " 65  Init Fwd Win Bytes        int32  \n",
      " 66  Init Bwd Win Bytes        int32  \n",
      " 67  Fwd Act Data Packets      int16  \n",
      " 68  Fwd Seg Size Min          int8   \n",
      " 69  Active Mean               float32\n",
      " 70  Active Std                float32\n",
      " 71  Active Max                float32\n",
      " 72  Active Min                float32\n",
      " 73  Idle Mean                 float32\n",
      " 74  Idle Std                  float32\n",
      " 75  Idle Max                  float32\n",
      " 76  Idle Min                  float32\n",
      " 77  Label                     object \n",
      " 78  Attack                    int64  \n",
      "dtypes: float32(43), float64(2), int16(8), int32(13), int64(1), int8(11), object(1)\n",
      "memory usage: 496.0+ MB\n"
     ]
    }
   ],
   "source": [
    "df.info()"
   ]
  },
  {
   "cell_type": "code",
   "execution_count": 24,
   "id": "4bce7f51-f575-482a-8221-f8c47fd78d13",
   "metadata": {},
   "outputs": [],
   "source": [
    "df.rename(columns = {'CWR Flag Count':'CWE Flag Count'}, inplace = True)"
   ]
  },
  {
   "cell_type": "code",
   "execution_count": 25,
   "id": "cc9734c6-097f-44e4-8cd8-e82cce47222a",
   "metadata": {},
   "outputs": [
    {
     "name": "stdout",
     "output_type": "stream",
     "text": [
      "<class 'pandas.core.frame.DataFrame'>\n",
      "Index: 1787358 entries, 0 to 370258\n",
      "Data columns (total 79 columns):\n",
      " #   Column                    Dtype  \n",
      "---  ------                    -----  \n",
      " 0   Protocol                  int8   \n",
      " 1   Flow Duration             int32  \n",
      " 2   Total Fwd Packets         int32  \n",
      " 3   Total Backward Packets    int32  \n",
      " 4   Fwd Packets Length Total  float32\n",
      " 5   Bwd Packets Length Total  float32\n",
      " 6   Fwd Packet Length Max     float32\n",
      " 7   Fwd Packet Length Min     float32\n",
      " 8   Fwd Packet Length Mean    float32\n",
      " 9   Fwd Packet Length Std     float32\n",
      " 10  Bwd Packet Length Max     float32\n",
      " 11  Bwd Packet Length Min     float32\n",
      " 12  Bwd Packet Length Mean    float32\n",
      " 13  Bwd Packet Length Std     float32\n",
      " 14  Flow Bytes/s              float64\n",
      " 15  Flow Packets/s            float64\n",
      " 16  Flow IAT Mean             float32\n",
      " 17  Flow IAT Std              float32\n",
      " 18  Flow IAT Max              float32\n",
      " 19  Flow IAT Min              float32\n",
      " 20  Fwd IAT Total             float32\n",
      " 21  Fwd IAT Mean              float32\n",
      " 22  Fwd IAT Std               float32\n",
      " 23  Fwd IAT Max               float32\n",
      " 24  Fwd IAT Min               float32\n",
      " 25  Bwd IAT Total             float32\n",
      " 26  Bwd IAT Mean              float32\n",
      " 27  Bwd IAT Std               float32\n",
      " 28  Bwd IAT Max               float32\n",
      " 29  Bwd IAT Min               float32\n",
      " 30  Fwd PSH Flags             int16  \n",
      " 31  Bwd PSH Flags             int16  \n",
      " 32  Fwd URG Flags             int8   \n",
      " 33  Bwd URG Flags             int8   \n",
      " 34  Fwd Header Length         int32  \n",
      " 35  Bwd Header Length         int32  \n",
      " 36  Fwd Packets/s             float32\n",
      " 37  Bwd Packets/s             float32\n",
      " 38  Packet Length Min         float32\n",
      " 39  Packet Length Max         float32\n",
      " 40  Packet Length Mean        float32\n",
      " 41  Packet Length Std         float32\n",
      " 42  Packet Length Variance    float32\n",
      " 43  FIN Flag Count            int8   \n",
      " 44  SYN Flag Count            int8   \n",
      " 45  RST Flag Count            int16  \n",
      " 46  PSH Flag Count            int16  \n",
      " 47  ACK Flag Count            int32  \n",
      " 48  URG Flag Count            int8   \n",
      " 49  CWE Flag Count            int8   \n",
      " 50  ECE Flag Count            int8   \n",
      " 51  Down/Up Ratio             float32\n",
      " 52  Avg Packet Size           float32\n",
      " 53  Avg Fwd Segment Size      float32\n",
      " 54  Avg Bwd Segment Size      float32\n",
      " 55  Fwd Avg Bytes/Bulk        int32  \n",
      " 56  Fwd Avg Packets/Bulk      int16  \n",
      " 57  Fwd Avg Bulk Rate         int32  \n",
      " 58  Bwd Avg Bytes/Bulk        int32  \n",
      " 59  Bwd Avg Packets/Bulk      int32  \n",
      " 60  Bwd Avg Bulk Rate         int32  \n",
      " 61  Subflow Fwd Packets       int8   \n",
      " 62  Subflow Fwd Bytes         int16  \n",
      " 63  Subflow Bwd Packets       int8   \n",
      " 64  Subflow Bwd Bytes         int16  \n",
      " 65  Init Fwd Win Bytes        int32  \n",
      " 66  Init Bwd Win Bytes        int32  \n",
      " 67  Fwd Act Data Packets      int16  \n",
      " 68  Fwd Seg Size Min          int8   \n",
      " 69  Active Mean               float32\n",
      " 70  Active Std                float32\n",
      " 71  Active Max                float32\n",
      " 72  Active Min                float32\n",
      " 73  Idle Mean                 float32\n",
      " 74  Idle Std                  float32\n",
      " 75  Idle Max                  float32\n",
      " 76  Idle Min                  float32\n",
      " 77  Label                     object \n",
      " 78  Attack                    int64  \n",
      "dtypes: float32(43), float64(2), int16(8), int32(13), int64(1), int8(11), object(1)\n",
      "memory usage: 496.0+ MB\n"
     ]
    }
   ],
   "source": [
    "df.info()"
   ]
  },
  {
   "cell_type": "code",
   "execution_count": 34,
   "id": "55ee792a-a9e6-49f3-b2c7-b7fdfbc1033a",
   "metadata": {},
   "outputs": [
    {
     "data": {
      "text/plain": [
       "Label\n",
       "Infiltration - Portscan    5485\n",
       "Name: count, dtype: int64"
      ]
     },
     "execution_count": 34,
     "metadata": {},
     "output_type": "execute_result"
    }
   ],
   "source": [
    "df_Scan1 = df.loc[df['Label'] == 'Infiltration - Portscan']\n",
    "df_Scan1['Label'].value_counts()"
   ]
  },
  {
   "cell_type": "code",
   "execution_count": 35,
   "id": "490eb78d-9014-4a5e-967c-72097b593346",
   "metadata": {},
   "outputs": [
    {
     "data": {
      "text/plain": [
       "Label\n",
       "Portscan    1683\n",
       "Name: count, dtype: int64"
      ]
     },
     "execution_count": 35,
     "metadata": {},
     "output_type": "execute_result"
    }
   ],
   "source": [
    "df_Scan2 = df.loc[df['Label'] == 'Portscan']\n",
    "df_Scan2['Label'].value_counts()"
   ]
  },
  {
   "cell_type": "code",
   "execution_count": 36,
   "id": "8df06cc9-f553-431e-b2a7-aa687fa2f236",
   "metadata": {},
   "outputs": [],
   "source": [
    "df_scan = pd.concat([df_Scan1, df_Scan2])"
   ]
  },
  {
   "cell_type": "code",
   "execution_count": 37,
   "id": "0ffca90b-62c9-4df3-82a3-c38969c8fb47",
   "metadata": {},
   "outputs": [
    {
     "data": {
      "text/plain": [
       "Label\n",
       "Infiltration - Portscan    5485\n",
       "Portscan                   1683\n",
       "Name: count, dtype: int64"
      ]
     },
     "execution_count": 37,
     "metadata": {},
     "output_type": "execute_result"
    }
   ],
   "source": [
    "df_scan['Label'].value_counts()"
   ]
  },
  {
   "cell_type": "code",
   "execution_count": 38,
   "id": "a2e83aa2-4ed6-4d68-91df-01197fce35a7",
   "metadata": {},
   "outputs": [],
   "source": [
    "df_scan['Label'] = df_scan['Label'].str.replace('Portscan', 'Scan')"
   ]
  },
  {
   "cell_type": "code",
   "execution_count": 41,
   "id": "a5a51ffb-6580-4954-acd4-2c6d7681f2dc",
   "metadata": {},
   "outputs": [],
   "source": [
    "df_scan['Label'] = df_scan['Label'].str.replace('Infiltration - Portscan', 'Scan')"
   ]
  },
  {
   "cell_type": "code",
   "execution_count": 42,
   "id": "b20f30c4-a3d8-4d09-bbf0-c27289bfec5c",
   "metadata": {},
   "outputs": [
    {
     "data": {
      "text/plain": [
       "Label\n",
       "Scan    7168\n",
       "Name: count, dtype: int64"
      ]
     },
     "execution_count": 42,
     "metadata": {},
     "output_type": "execute_result"
    }
   ],
   "source": [
    "df_scan['Label'].value_counts()"
   ]
  },
  {
   "cell_type": "code",
   "execution_count": 43,
   "id": "dc3796a9-1f7f-4647-9059-3606a5883e70",
   "metadata": {},
   "outputs": [],
   "source": [
    "df_scan.to_parquet(f\"./Feed_Scan_CSE-CIC-IDS2018.parquet\")"
   ]
  },
  {
   "cell_type": "code",
   "execution_count": 44,
   "id": "ffecf4c9-0409-4315-ab97-8830517c3605",
   "metadata": {},
   "outputs": [
    {
     "data": {
      "text/plain": [
       "Label\n",
       "DDoS    95144\n",
       "Name: count, dtype: int64"
      ]
     },
     "execution_count": 44,
     "metadata": {},
     "output_type": "execute_result"
    }
   ],
   "source": [
    "df_DDoS = df.loc[df['Label'] == 'DDoS']\n",
    "df_DDoS['Label'].value_counts()"
   ]
  },
  {
   "cell_type": "code",
   "execution_count": 45,
   "id": "17f79bd7-0ebf-46ef-b62b-56ced18aa6ff",
   "metadata": {},
   "outputs": [],
   "source": [
    "df_DDoS.to_parquet(f\"./Feed_DDoS_CIC-UNSW-NB15.parquet\")"
   ]
  },
  {
   "cell_type": "code",
   "execution_count": null,
   "id": "42b401e6-64e7-4931-a7c3-ea8ae59de0b0",
   "metadata": {},
   "outputs": [],
   "source": []
  }
 ],
 "metadata": {
  "kernelspec": {
   "display_name": "Python 3 (ipykernel)",
   "language": "python",
   "name": "python3"
  },
  "language_info": {
   "codemirror_mode": {
    "name": "ipython",
    "version": 3
   },
   "file_extension": ".py",
   "mimetype": "text/x-python",
   "name": "python",
   "nbconvert_exporter": "python",
   "pygments_lexer": "ipython3",
   "version": "3.12.5"
  }
 },
 "nbformat": 4,
 "nbformat_minor": 5
}
