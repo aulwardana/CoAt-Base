{
 "cells": [
  {
   "cell_type": "code",
   "execution_count": 1,
   "id": "f6b51fe2-75a0-4fcf-8944-a38d4af3d4ad",
   "metadata": {},
   "outputs": [],
   "source": [
    "import pandas as pd\n",
    "import numpy as np"
   ]
  },
  {
   "cell_type": "code",
   "execution_count": 3,
   "id": "fd5888da-5588-436f-bd94-cdaa840bb444",
   "metadata": {},
   "outputs": [],
   "source": [
    "df1 = pd.read_parquet('./Benign-Monday-no-metadata.parquet', engine='pyarrow')\n",
    "df2 = pd.read_parquet('./Botnet-Friday-no-metadata.parquet', engine='pyarrow')\n",
    "df3 = pd.read_parquet('./Bruteforce-Tuesday-no-metadata.parquet', engine='pyarrow')\n",
    "df4 = pd.read_parquet('./DDoS-Friday-no-metadata.parquet', engine='pyarrow')\n",
    "df5 = pd.read_parquet('./DoS-Wednesday-no-metadata.parquet', engine='pyarrow')\n",
    "df6 = pd.read_parquet('./Infiltration-Thursday-no-metadata.parquet', engine='pyarrow')\n",
    "df7 = pd.read_parquet('./Portscan-Friday-no-metadata.parquet', engine='pyarrow')\n",
    "df8 = pd.read_parquet('./WebAttacks-Thursday-no-metadata.parquet', engine='pyarrow')"
   ]
  },
  {
   "cell_type": "code",
   "execution_count": 4,
   "id": "97f760f0-0b7f-4363-80b4-2a090e362ee8",
   "metadata": {},
   "outputs": [],
   "source": [
    "df = pd.concat([df1, df2, df3, df4, df5, df6, df7, df8])"
   ]
  },
  {
   "cell_type": "code",
   "execution_count": 5,
   "id": "d4b8b997-9a2d-4732-826c-c83d2e3a3ef8",
   "metadata": {},
   "outputs": [
    {
     "name": "stdout",
     "output_type": "stream",
     "text": [
      "<class 'pandas.core.frame.DataFrame'>\n",
      "Index: 2313810 entries, 0 to 155819\n",
      "Data columns (total 78 columns):\n",
      " #   Column                    Dtype  \n",
      "---  ------                    -----  \n",
      " 0   Protocol                  int8   \n",
      " 1   Flow Duration             int32  \n",
      " 2   Total Fwd Packets         int32  \n",
      " 3   Total Backward Packets    int32  \n",
      " 4   Fwd Packets Length Total  int32  \n",
      " 5   Bwd Packets Length Total  int32  \n",
      " 6   Fwd Packet Length Max     int16  \n",
      " 7   Fwd Packet Length Min     int16  \n",
      " 8   Fwd Packet Length Mean    float32\n",
      " 9   Fwd Packet Length Std     float32\n",
      " 10  Bwd Packet Length Max     int16  \n",
      " 11  Bwd Packet Length Min     int16  \n",
      " 12  Bwd Packet Length Mean    float32\n",
      " 13  Bwd Packet Length Std     float32\n",
      " 14  Flow Bytes/s              float64\n",
      " 15  Flow Packets/s            float64\n",
      " 16  Flow IAT Mean             float32\n",
      " 17  Flow IAT Std              float32\n",
      " 18  Flow IAT Max              int32  \n",
      " 19  Flow IAT Min              int32  \n",
      " 20  Fwd IAT Total             int32  \n",
      " 21  Fwd IAT Mean              float32\n",
      " 22  Fwd IAT Std               float32\n",
      " 23  Fwd IAT Max               int32  \n",
      " 24  Fwd IAT Min               int32  \n",
      " 25  Bwd IAT Total             int32  \n",
      " 26  Bwd IAT Mean              float32\n",
      " 27  Bwd IAT Std               float32\n",
      " 28  Bwd IAT Max               int32  \n",
      " 29  Bwd IAT Min               int32  \n",
      " 30  Fwd PSH Flags             int8   \n",
      " 31  Bwd PSH Flags             int8   \n",
      " 32  Fwd URG Flags             int8   \n",
      " 33  Bwd URG Flags             int8   \n",
      " 34  Fwd Header Length         int64  \n",
      " 35  Bwd Header Length         int32  \n",
      " 36  Fwd Packets/s             float32\n",
      " 37  Bwd Packets/s             float32\n",
      " 38  Packet Length Min         int16  \n",
      " 39  Packet Length Max         int16  \n",
      " 40  Packet Length Mean        float32\n",
      " 41  Packet Length Std         float32\n",
      " 42  Packet Length Variance    float32\n",
      " 43  FIN Flag Count            int8   \n",
      " 44  SYN Flag Count            int8   \n",
      " 45  RST Flag Count            int8   \n",
      " 46  PSH Flag Count            int8   \n",
      " 47  ACK Flag Count            int8   \n",
      " 48  URG Flag Count            int8   \n",
      " 49  CWE Flag Count            int8   \n",
      " 50  ECE Flag Count            int8   \n",
      " 51  Down/Up Ratio             int16  \n",
      " 52  Avg Packet Size           float32\n",
      " 53  Avg Fwd Segment Size      float32\n",
      " 54  Avg Bwd Segment Size      float32\n",
      " 55  Fwd Avg Bytes/Bulk        int8   \n",
      " 56  Fwd Avg Packets/Bulk      int8   \n",
      " 57  Fwd Avg Bulk Rate         int8   \n",
      " 58  Bwd Avg Bytes/Bulk        int8   \n",
      " 59  Bwd Avg Packets/Bulk      int8   \n",
      " 60  Bwd Avg Bulk Rate         int8   \n",
      " 61  Subflow Fwd Packets       int32  \n",
      " 62  Subflow Fwd Bytes         int32  \n",
      " 63  Subflow Bwd Packets       int32  \n",
      " 64  Subflow Bwd Bytes         int32  \n",
      " 65  Init Fwd Win Bytes        int32  \n",
      " 66  Init Bwd Win Bytes        int32  \n",
      " 67  Fwd Act Data Packets      int32  \n",
      " 68  Fwd Seg Size Min          int32  \n",
      " 69  Active Mean               float32\n",
      " 70  Active Std                float32\n",
      " 71  Active Max                int32  \n",
      " 72  Active Min                int32  \n",
      " 73  Idle Mean                 float32\n",
      " 74  Idle Std                  float32\n",
      " 75  Idle Max                  int32  \n",
      " 76  Idle Min                  int32  \n",
      " 77  Label                     object \n",
      "dtypes: float32(22), float64(2), int16(7), int32(26), int64(1), int8(19), object(1)\n",
      "memory usage: 584.8+ MB\n"
     ]
    }
   ],
   "source": [
    "df.info()"
   ]
  },
  {
   "cell_type": "code",
   "execution_count": 6,
   "id": "1dc9f225-8f48-4715-b0ec-cec6051d7550",
   "metadata": {
    "scrolled": true
   },
   "outputs": [
    {
     "data": {
      "text/plain": [
       "Label\n",
       "Benign                        1977318\n",
       "DoS Hulk                       172846\n",
       "DDoS                           128014\n",
       "DoS GoldenEye                   10286\n",
       "FTP-Patator                      5931\n",
       "DoS slowloris                    5385\n",
       "DoS Slowhttptest                 5228\n",
       "SSH-Patator                      3219\n",
       "PortScan                         1956\n",
       "Web Attack � Brute Force         1470\n",
       "Bot                              1437\n",
       "Web Attack � XSS                  652\n",
       "Infiltration                       36\n",
       "Web Attack � Sql Injection         21\n",
       "Heartbleed                         11\n",
       "Name: count, dtype: int64"
      ]
     },
     "execution_count": 6,
     "metadata": {},
     "output_type": "execute_result"
    }
   ],
   "source": [
    "df['Label'].value_counts()"
   ]
  },
  {
   "cell_type": "code",
   "execution_count": 7,
   "id": "728473c6-b46b-45dd-82c1-5ad8c17f5cc5",
   "metadata": {},
   "outputs": [
    {
     "data": {
      "text/plain": [
       "Label\n",
       "Benign    1977318\n",
       "Name: count, dtype: int64"
      ]
     },
     "execution_count": 7,
     "metadata": {},
     "output_type": "execute_result"
    }
   ],
   "source": [
    "df_BENIGN = df.loc[df['Label'] == 'Benign']\n",
    "df_BENIGN['Label'].value_counts()"
   ]
  },
  {
   "cell_type": "code",
   "execution_count": 8,
   "id": "31205085-d7c9-450f-9037-fe14b047caa2",
   "metadata": {},
   "outputs": [
    {
     "data": {
      "text/plain": [
       "Label\n",
       "PortScan    1956\n",
       "Name: count, dtype: int64"
      ]
     },
     "execution_count": 8,
     "metadata": {},
     "output_type": "execute_result"
    }
   ],
   "source": [
    "df_Scan = df.loc[df['Label'] == 'PortScan']\n",
    "df_Scan['Label'].value_counts()"
   ]
  },
  {
   "cell_type": "code",
   "execution_count": 9,
   "id": "f063648b-3a71-415c-8270-b9acbd95f12b",
   "metadata": {},
   "outputs": [
    {
     "data": {
      "text/plain": [
       "Label\n",
       "Infiltration    36\n",
       "Name: count, dtype: int64"
      ]
     },
     "execution_count": 9,
     "metadata": {},
     "output_type": "execute_result"
    }
   ],
   "source": [
    "df_Worm1 = df.loc[df['Label'] == 'Infiltration']\n",
    "df_Worm1['Label'].value_counts()"
   ]
  },
  {
   "cell_type": "code",
   "execution_count": 10,
   "id": "11c4b8b2-0c6a-4ef1-95dd-959b8ba98678",
   "metadata": {},
   "outputs": [
    {
     "data": {
      "text/plain": [
       "Label\n",
       "Bot    1437\n",
       "Name: count, dtype: int64"
      ]
     },
     "execution_count": 10,
     "metadata": {},
     "output_type": "execute_result"
    }
   ],
   "source": [
    "df_Worm2 = df.loc[df['Label'] == 'Bot']\n",
    "df_Worm2['Label'].value_counts()"
   ]
  },
  {
   "cell_type": "code",
   "execution_count": 13,
   "id": "7eaa339d-156d-4970-8872-45af595e20f5",
   "metadata": {},
   "outputs": [
    {
     "data": {
      "text/plain": [
       "Label\n",
       "DDoS    128014\n",
       "Name: count, dtype: int64"
      ]
     },
     "execution_count": 13,
     "metadata": {},
     "output_type": "execute_result"
    }
   ],
   "source": [
    "df_DDoS = df.loc[df['Label'] == 'DDoS']\n",
    "df_DDoS['Label'].value_counts()"
   ]
  },
  {
   "cell_type": "code",
   "execution_count": 14,
   "id": "3e0b537d-ac4d-460f-aa95-abfbbe647e2d",
   "metadata": {},
   "outputs": [],
   "source": [
    "df_coat = pd.concat([df_BENIGN, df_Scan, df_Worm1, df_Worm2, df_DDoS])"
   ]
  },
  {
   "cell_type": "code",
   "execution_count": 15,
   "id": "cf786742-c3c6-4ebc-926c-20e19e14ff0f",
   "metadata": {},
   "outputs": [
    {
     "data": {
      "text/plain": [
       "Label\n",
       "Benign          1977318\n",
       "DDoS             128014\n",
       "PortScan           1956\n",
       "Bot                1437\n",
       "Infiltration         36\n",
       "Name: count, dtype: int64"
      ]
     },
     "execution_count": 15,
     "metadata": {},
     "output_type": "execute_result"
    }
   ],
   "source": [
    "df_coat['Label'].value_counts()"
   ]
  },
  {
   "cell_type": "code",
   "execution_count": 16,
   "id": "5a5de34b-e4f6-4f35-b6c8-45093684daa5",
   "metadata": {},
   "outputs": [],
   "source": [
    "df_coat['Label'] = df_coat['Label'].str.replace('PortScan', 'Scan')"
   ]
  },
  {
   "cell_type": "code",
   "execution_count": 17,
   "id": "f6bfeade-8744-4cd9-af48-b59a8f0a136a",
   "metadata": {},
   "outputs": [],
   "source": [
    "df_coat['Label'] = df_coat['Label'].str.replace('Infiltration', 'Worm')"
   ]
  },
  {
   "cell_type": "code",
   "execution_count": 18,
   "id": "46dd22a6-c0f8-401b-8a77-6db203612c71",
   "metadata": {},
   "outputs": [],
   "source": [
    "df_coat['Label'] = df_coat['Label'].str.replace('Bot', 'Worm')"
   ]
  },
  {
   "cell_type": "code",
   "execution_count": 19,
   "id": "28f673f2-334e-4c1a-9eea-18f7a5bb4743",
   "metadata": {},
   "outputs": [
    {
     "data": {
      "text/plain": [
       "Label\n",
       "Benign    1977318\n",
       "DDoS       128014\n",
       "Scan         1956\n",
       "Worm         1473\n",
       "Name: count, dtype: int64"
      ]
     },
     "execution_count": 19,
     "metadata": {},
     "output_type": "execute_result"
    }
   ],
   "source": [
    "df_coat['Label'].value_counts()"
   ]
  },
  {
   "cell_type": "code",
   "execution_count": 21,
   "id": "6730586d-0b6c-4400-b3ce-eaffd6f8cd18",
   "metadata": {},
   "outputs": [
    {
     "name": "stdout",
     "output_type": "stream",
     "text": [
      "<class 'pandas.core.frame.DataFrame'>\n",
      "Index: 2108761 entries, 0 to 194867\n",
      "Data columns (total 79 columns):\n",
      " #   Column                    Dtype  \n",
      "---  ------                    -----  \n",
      " 0   Protocol                  int8   \n",
      " 1   Flow Duration             int32  \n",
      " 2   Total Fwd Packets         int32  \n",
      " 3   Total Backward Packets    int32  \n",
      " 4   Fwd Packets Length Total  int32  \n",
      " 5   Bwd Packets Length Total  int32  \n",
      " 6   Fwd Packet Length Max     int16  \n",
      " 7   Fwd Packet Length Min     int16  \n",
      " 8   Fwd Packet Length Mean    float32\n",
      " 9   Fwd Packet Length Std     float32\n",
      " 10  Bwd Packet Length Max     int16  \n",
      " 11  Bwd Packet Length Min     int16  \n",
      " 12  Bwd Packet Length Mean    float32\n",
      " 13  Bwd Packet Length Std     float32\n",
      " 14  Flow Bytes/s              float64\n",
      " 15  Flow Packets/s            float64\n",
      " 16  Flow IAT Mean             float32\n",
      " 17  Flow IAT Std              float32\n",
      " 18  Flow IAT Max              int32  \n",
      " 19  Flow IAT Min              int32  \n",
      " 20  Fwd IAT Total             int32  \n",
      " 21  Fwd IAT Mean              float32\n",
      " 22  Fwd IAT Std               float32\n",
      " 23  Fwd IAT Max               int32  \n",
      " 24  Fwd IAT Min               int32  \n",
      " 25  Bwd IAT Total             int32  \n",
      " 26  Bwd IAT Mean              float32\n",
      " 27  Bwd IAT Std               float32\n",
      " 28  Bwd IAT Max               int32  \n",
      " 29  Bwd IAT Min               int32  \n",
      " 30  Fwd PSH Flags             int8   \n",
      " 31  Bwd PSH Flags             int8   \n",
      " 32  Fwd URG Flags             int8   \n",
      " 33  Bwd URG Flags             int8   \n",
      " 34  Fwd Header Length         int64  \n",
      " 35  Bwd Header Length         int32  \n",
      " 36  Fwd Packets/s             float32\n",
      " 37  Bwd Packets/s             float32\n",
      " 38  Packet Length Min         int16  \n",
      " 39  Packet Length Max         int16  \n",
      " 40  Packet Length Mean        float32\n",
      " 41  Packet Length Std         float32\n",
      " 42  Packet Length Variance    float32\n",
      " 43  FIN Flag Count            int8   \n",
      " 44  SYN Flag Count            int8   \n",
      " 45  RST Flag Count            int8   \n",
      " 46  PSH Flag Count            int8   \n",
      " 47  ACK Flag Count            int8   \n",
      " 48  URG Flag Count            int8   \n",
      " 49  CWE Flag Count            int8   \n",
      " 50  ECE Flag Count            int8   \n",
      " 51  Down/Up Ratio             int16  \n",
      " 52  Avg Packet Size           float32\n",
      " 53  Avg Fwd Segment Size      float32\n",
      " 54  Avg Bwd Segment Size      float32\n",
      " 55  Fwd Avg Bytes/Bulk        int8   \n",
      " 56  Fwd Avg Packets/Bulk      int8   \n",
      " 57  Fwd Avg Bulk Rate         int8   \n",
      " 58  Bwd Avg Bytes/Bulk        int8   \n",
      " 59  Bwd Avg Packets/Bulk      int8   \n",
      " 60  Bwd Avg Bulk Rate         int8   \n",
      " 61  Subflow Fwd Packets       int32  \n",
      " 62  Subflow Fwd Bytes         int32  \n",
      " 63  Subflow Bwd Packets       int32  \n",
      " 64  Subflow Bwd Bytes         int32  \n",
      " 65  Init Fwd Win Bytes        int32  \n",
      " 66  Init Bwd Win Bytes        int32  \n",
      " 67  Fwd Act Data Packets      int32  \n",
      " 68  Fwd Seg Size Min          int32  \n",
      " 69  Active Mean               float32\n",
      " 70  Active Std                float32\n",
      " 71  Active Max                int32  \n",
      " 72  Active Min                int32  \n",
      " 73  Idle Mean                 float32\n",
      " 74  Idle Std                  float32\n",
      " 75  Idle Max                  int32  \n",
      " 76  Idle Min                  int32  \n",
      " 77  Label                     object \n",
      " 78  Attack                    object \n",
      "dtypes: float32(22), float64(2), int16(7), int32(26), int64(1), int8(19), object(2)\n",
      "memory usage: 549.0+ MB\n"
     ]
    }
   ],
   "source": [
    "attack = df_coat.loc[:, \"Label\"].map(lambda lbl: \"0\" if lbl == \"Benign\" else \"1\")\n",
    "attack.name = \"Attack\"\n",
    "df_coat.loc[:, attack.name] = attack\n",
    "\n",
    "df_coat.info()"
   ]
  },
  {
   "cell_type": "code",
   "execution_count": 30,
   "id": "6bc37464-f245-4a27-b03e-f5de3681533f",
   "metadata": {},
   "outputs": [],
   "source": [
    "df_coat['Attack'] = df_coat['Attack'].astype(int)"
   ]
  },
  {
   "cell_type": "code",
   "execution_count": 31,
   "id": "80483823-2c3b-47a4-b057-a6e0c0e5f375",
   "metadata": {},
   "outputs": [
    {
     "name": "stdout",
     "output_type": "stream",
     "text": [
      "<class 'pandas.core.frame.DataFrame'>\n",
      "Index: 2108761 entries, 0 to 194867\n",
      "Data columns (total 79 columns):\n",
      " #   Column                    Dtype  \n",
      "---  ------                    -----  \n",
      " 0   Protocol                  int8   \n",
      " 1   Flow Duration             int32  \n",
      " 2   Total Fwd Packets         int32  \n",
      " 3   Total Backward Packets    int32  \n",
      " 4   Fwd Packets Length Total  int32  \n",
      " 5   Bwd Packets Length Total  int32  \n",
      " 6   Fwd Packet Length Max     int16  \n",
      " 7   Fwd Packet Length Min     int16  \n",
      " 8   Fwd Packet Length Mean    float32\n",
      " 9   Fwd Packet Length Std     float32\n",
      " 10  Bwd Packet Length Max     int16  \n",
      " 11  Bwd Packet Length Min     int16  \n",
      " 12  Bwd Packet Length Mean    float32\n",
      " 13  Bwd Packet Length Std     float32\n",
      " 14  Flow Bytes/s              float64\n",
      " 15  Flow Packets/s            float64\n",
      " 16  Flow IAT Mean             float32\n",
      " 17  Flow IAT Std              float32\n",
      " 18  Flow IAT Max              int32  \n",
      " 19  Flow IAT Min              int32  \n",
      " 20  Fwd IAT Total             int32  \n",
      " 21  Fwd IAT Mean              float32\n",
      " 22  Fwd IAT Std               float32\n",
      " 23  Fwd IAT Max               int32  \n",
      " 24  Fwd IAT Min               int32  \n",
      " 25  Bwd IAT Total             int32  \n",
      " 26  Bwd IAT Mean              float32\n",
      " 27  Bwd IAT Std               float32\n",
      " 28  Bwd IAT Max               int32  \n",
      " 29  Bwd IAT Min               int32  \n",
      " 30  Fwd PSH Flags             int8   \n",
      " 31  Bwd PSH Flags             int8   \n",
      " 32  Fwd URG Flags             int8   \n",
      " 33  Bwd URG Flags             int8   \n",
      " 34  Fwd Header Length         int64  \n",
      " 35  Bwd Header Length         int32  \n",
      " 36  Fwd Packets/s             float32\n",
      " 37  Bwd Packets/s             float32\n",
      " 38  Packet Length Min         int16  \n",
      " 39  Packet Length Max         int16  \n",
      " 40  Packet Length Mean        float32\n",
      " 41  Packet Length Std         float32\n",
      " 42  Packet Length Variance    float32\n",
      " 43  FIN Flag Count            int8   \n",
      " 44  SYN Flag Count            int8   \n",
      " 45  RST Flag Count            int8   \n",
      " 46  PSH Flag Count            int8   \n",
      " 47  ACK Flag Count            int8   \n",
      " 48  URG Flag Count            int8   \n",
      " 49  CWE Flag Count            int8   \n",
      " 50  ECE Flag Count            int8   \n",
      " 51  Down/Up Ratio             int16  \n",
      " 52  Avg Packet Size           float32\n",
      " 53  Avg Fwd Segment Size      float32\n",
      " 54  Avg Bwd Segment Size      float32\n",
      " 55  Fwd Avg Bytes/Bulk        int8   \n",
      " 56  Fwd Avg Packets/Bulk      int8   \n",
      " 57  Fwd Avg Bulk Rate         int8   \n",
      " 58  Bwd Avg Bytes/Bulk        int8   \n",
      " 59  Bwd Avg Packets/Bulk      int8   \n",
      " 60  Bwd Avg Bulk Rate         int8   \n",
      " 61  Subflow Fwd Packets       int32  \n",
      " 62  Subflow Fwd Bytes         int32  \n",
      " 63  Subflow Bwd Packets       int32  \n",
      " 64  Subflow Bwd Bytes         int32  \n",
      " 65  Init Fwd Win Bytes        int32  \n",
      " 66  Init Bwd Win Bytes        int32  \n",
      " 67  Fwd Act Data Packets      int32  \n",
      " 68  Fwd Seg Size Min          int32  \n",
      " 69  Active Mean               float32\n",
      " 70  Active Std                float32\n",
      " 71  Active Max                int32  \n",
      " 72  Active Min                int32  \n",
      " 73  Idle Mean                 float32\n",
      " 74  Idle Std                  float32\n",
      " 75  Idle Max                  int32  \n",
      " 76  Idle Min                  int32  \n",
      " 77  Label                     object \n",
      " 78  Attack                    int64  \n",
      "dtypes: float32(22), float64(2), int16(7), int32(26), int64(2), int8(19), object(1)\n",
      "memory usage: 549.0+ MB\n"
     ]
    }
   ],
   "source": [
    "df_coat.info()"
   ]
  },
  {
   "cell_type": "code",
   "execution_count": 32,
   "id": "5c5df263-a642-4239-bdea-53077b32e088",
   "metadata": {},
   "outputs": [],
   "source": [
    "df_coat.to_parquet(f\"./CoAt_CIC-IDS2017.parquet\")"
   ]
  },
  {
   "cell_type": "code",
   "execution_count": 9,
   "id": "63a7d00d-e8cb-4d1e-9f21-8831509d036d",
   "metadata": {},
   "outputs": [
    {
     "name": "stdout",
     "output_type": "stream",
     "text": [
      "<class 'pandas.core.frame.DataFrame'>\n",
      "Index: 2108761 entries, 0 to 194867\n",
      "Data columns (total 79 columns):\n",
      " #   Column                    Dtype  \n",
      "---  ------                    -----  \n",
      " 0   Protocol                  int8   \n",
      " 1   Flow Duration             int32  \n",
      " 2   Total Fwd Packets         int32  \n",
      " 3   Total Backward Packets    int32  \n",
      " 4   Fwd Packets Length Total  int32  \n",
      " 5   Bwd Packets Length Total  int32  \n",
      " 6   Fwd Packet Length Max     int16  \n",
      " 7   Fwd Packet Length Min     int16  \n",
      " 8   Fwd Packet Length Mean    float32\n",
      " 9   Fwd Packet Length Std     float32\n",
      " 10  Bwd Packet Length Max     int16  \n",
      " 11  Bwd Packet Length Min     int16  \n",
      " 12  Bwd Packet Length Mean    float32\n",
      " 13  Bwd Packet Length Std     float32\n",
      " 14  Flow Bytes/s              float64\n",
      " 15  Flow Packets/s            float64\n",
      " 16  Flow IAT Mean             float32\n",
      " 17  Flow IAT Std              float32\n",
      " 18  Flow IAT Max              int32  \n",
      " 19  Flow IAT Min              int32  \n",
      " 20  Fwd IAT Total             int32  \n",
      " 21  Fwd IAT Mean              float32\n",
      " 22  Fwd IAT Std               float32\n",
      " 23  Fwd IAT Max               int32  \n",
      " 24  Fwd IAT Min               int32  \n",
      " 25  Bwd IAT Total             int32  \n",
      " 26  Bwd IAT Mean              float32\n",
      " 27  Bwd IAT Std               float32\n",
      " 28  Bwd IAT Max               int32  \n",
      " 29  Bwd IAT Min               int32  \n",
      " 30  Fwd PSH Flags             int8   \n",
      " 31  Bwd PSH Flags             int8   \n",
      " 32  Fwd URG Flags             int8   \n",
      " 33  Bwd URG Flags             int8   \n",
      " 34  Fwd Header Length         int64  \n",
      " 35  Bwd Header Length         int32  \n",
      " 36  Fwd Packets/s             float32\n",
      " 37  Bwd Packets/s             float32\n",
      " 38  Packet Length Min         int16  \n",
      " 39  Packet Length Max         int16  \n",
      " 40  Packet Length Mean        float32\n",
      " 41  Packet Length Std         float32\n",
      " 42  Packet Length Variance    float32\n",
      " 43  FIN Flag Count            int8   \n",
      " 44  SYN Flag Count            int8   \n",
      " 45  RST Flag Count            int8   \n",
      " 46  PSH Flag Count            int8   \n",
      " 47  ACK Flag Count            int8   \n",
      " 48  URG Flag Count            int8   \n",
      " 49  CWE Flag Count            int8   \n",
      " 50  ECE Flag Count            int8   \n",
      " 51  Down/Up Ratio             int16  \n",
      " 52  Avg Packet Size           float32\n",
      " 53  Avg Fwd Segment Size      float32\n",
      " 54  Avg Bwd Segment Size      float32\n",
      " 55  Fwd Avg Bytes/Bulk        int8   \n",
      " 56  Fwd Avg Packets/Bulk      int8   \n",
      " 57  Fwd Avg Bulk Rate         int8   \n",
      " 58  Bwd Avg Bytes/Bulk        int8   \n",
      " 59  Bwd Avg Packets/Bulk      int8   \n",
      " 60  Bwd Avg Bulk Rate         int8   \n",
      " 61  Subflow Fwd Packets       int32  \n",
      " 62  Subflow Fwd Bytes         int32  \n",
      " 63  Subflow Bwd Packets       int32  \n",
      " 64  Subflow Bwd Bytes         int32  \n",
      " 65  Init Fwd Win Bytes        int32  \n",
      " 66  Init Bwd Win Bytes        int32  \n",
      " 67  Fwd Act Data Packets      int32  \n",
      " 68  Fwd Seg Size Min          int32  \n",
      " 69  Active Mean               float32\n",
      " 70  Active Std                float32\n",
      " 71  Active Max                int32  \n",
      " 72  Active Min                int32  \n",
      " 73  Idle Mean                 float32\n",
      " 74  Idle Std                  float32\n",
      " 75  Idle Max                  int32  \n",
      " 76  Idle Min                  int32  \n",
      " 77  Label                     object \n",
      " 78  Attack                    int64  \n",
      "dtypes: float32(22), float64(2), int16(7), int32(26), int64(2), int8(19), object(1)\n",
      "memory usage: 549.0+ MB\n"
     ]
    }
   ],
   "source": [
    "df_origin = pd.read_parquet('./CoAt_CIC-IDS2017.parquet', engine='pyarrow')\n",
    "df_origin.info()"
   ]
  },
  {
   "cell_type": "code",
   "execution_count": 10,
   "id": "f6f882df-6d84-4051-a8fb-9780867f0b84",
   "metadata": {},
   "outputs": [],
   "source": [
    "df_origin['Flow Duration'] = df_origin['Flow Duration'].astype('int64')\n",
    "df_origin['Fwd Packets Length Total'] = df_origin['Fwd Packets Length Total'].astype('float64')\n",
    "df_origin['Bwd Packets Length Total'] = df_origin['Bwd Packets Length Total'].astype('float64')\n",
    "df_origin['Fwd Packet Length Max'] = df_origin['Fwd Packet Length Max'].astype('float64')\n",
    "df_origin['Fwd Packet Length Min'] = df_origin['Fwd Packet Length Min'].astype('float32')\n",
    "df_origin['Bwd Packet Length Max'] = df_origin['Bwd Packet Length Max'].astype('float64')\n",
    "df_origin['Bwd Packet Length Min'] = df_origin['Bwd Packet Length Min'].astype('float32')\n",
    "df_origin['Flow IAT Max'] = df_origin['Flow IAT Max'].astype('float64')\n",
    "df_origin['Flow IAT Min'] = df_origin['Flow IAT Min'].astype('float64')\n",
    "df_origin['Fwd IAT Total'] = df_origin['Fwd IAT Total'].astype('float64')\n",
    "df_origin['Fwd IAT Max'] = df_origin['Fwd IAT Max'].astype('float64')\n",
    "df_origin['Fwd IAT Min'] = df_origin['Fwd IAT Min'].astype('float64')\n",
    "df_origin['Bwd IAT Total'] = df_origin['Bwd IAT Total'].astype('float64')\n",
    "df_origin['Bwd IAT Max'] = df_origin['Bwd IAT Max'].astype('float64')\n",
    "df_origin['Bwd IAT Min'] = df_origin['Bwd IAT Min'].astype('float64')\n",
    "df_origin['Fwd PSH Flags'] = df_origin['Fwd PSH Flags'].astype('int16')\n",
    "df_origin['Bwd PSH Flags'] = df_origin['Bwd PSH Flags'].astype('int16')\n",
    "df_origin['Fwd Header Length'] = df_origin['Fwd Header Length'].astype('int32')\n",
    "df_origin['Packet Length Min'] = df_origin['Packet Length Min'].astype('float32')\n",
    "df_origin['Packet Length Max'] = df_origin['Packet Length Max'].astype('float64')\n",
    "df_origin['RST Flag Count'] = df_origin['RST Flag Count'].astype('int16')\n",
    "df_origin['PSH Flag Count'] = df_origin['PSH Flag Count'].astype('int16')\n",
    "df_origin['ACK Flag Count'] = df_origin['ACK Flag Count'].astype('int32')\n",
    "df_origin['Down/Up Ratio'] = df_origin['Down/Up Ratio'].astype('float32')\n",
    "df_origin['Fwd Avg Bytes/Bulk'] = df_origin['Fwd Avg Bytes/Bulk'].astype('int32')\n",
    "df_origin['Fwd Avg Packets/Bulk'] = df_origin['Fwd Avg Packets/Bulk'].astype('int16')\n",
    "df_origin['Fwd Avg Bulk Rate'] = df_origin['Fwd Avg Bulk Rate'].astype('int32')\n",
    "df_origin['Bwd Avg Bytes/Bulk'] = df_origin['Bwd Avg Bytes/Bulk'].astype('int32')\n",
    "df_origin['Bwd Avg Packets/Bulk'] = df_origin['Bwd Avg Packets/Bulk'].astype('int32')\n",
    "df_origin['Bwd Avg Bulk Rate'] = df_origin['Bwd Avg Bulk Rate'].astype('int32')\n",
    "df_origin['Fwd Seg Size Min'] = df_origin['Fwd Seg Size Min'].astype('int8')\n",
    "df_origin['Active Max'] = df_origin['Active Max'].astype('float64')\n",
    "df_origin['Active Min'] = df_origin['Active Min'].astype('float64')\n",
    "df_origin['Idle Max'] = df_origin['Idle Max'].astype('float64')\n",
    "df_origin['Idle Min'] = df_origin['Idle Min'].astype('float64')"
   ]
  },
  {
   "cell_type": "code",
   "execution_count": 11,
   "id": "218879a6-01ff-4329-96cd-7ca7758c09f2",
   "metadata": {},
   "outputs": [
    {
     "name": "stdout",
     "output_type": "stream",
     "text": [
      "<class 'pandas.core.frame.DataFrame'>\n",
      "Index: 2108761 entries, 0 to 194867\n",
      "Data columns (total 79 columns):\n",
      " #   Column                    Dtype  \n",
      "---  ------                    -----  \n",
      " 0   Protocol                  int8   \n",
      " 1   Flow Duration             int64  \n",
      " 2   Total Fwd Packets         int32  \n",
      " 3   Total Backward Packets    int32  \n",
      " 4   Fwd Packets Length Total  float64\n",
      " 5   Bwd Packets Length Total  float64\n",
      " 6   Fwd Packet Length Max     float64\n",
      " 7   Fwd Packet Length Min     float32\n",
      " 8   Fwd Packet Length Mean    float32\n",
      " 9   Fwd Packet Length Std     float32\n",
      " 10  Bwd Packet Length Max     float64\n",
      " 11  Bwd Packet Length Min     float32\n",
      " 12  Bwd Packet Length Mean    float32\n",
      " 13  Bwd Packet Length Std     float32\n",
      " 14  Flow Bytes/s              float64\n",
      " 15  Flow Packets/s            float64\n",
      " 16  Flow IAT Mean             float32\n",
      " 17  Flow IAT Std              float32\n",
      " 18  Flow IAT Max              float64\n",
      " 19  Flow IAT Min              float64\n",
      " 20  Fwd IAT Total             float64\n",
      " 21  Fwd IAT Mean              float32\n",
      " 22  Fwd IAT Std               float32\n",
      " 23  Fwd IAT Max               float64\n",
      " 24  Fwd IAT Min               float64\n",
      " 25  Bwd IAT Total             float64\n",
      " 26  Bwd IAT Mean              float32\n",
      " 27  Bwd IAT Std               float32\n",
      " 28  Bwd IAT Max               float64\n",
      " 29  Bwd IAT Min               float64\n",
      " 30  Fwd PSH Flags             int16  \n",
      " 31  Bwd PSH Flags             int16  \n",
      " 32  Fwd URG Flags             int8   \n",
      " 33  Bwd URG Flags             int8   \n",
      " 34  Fwd Header Length         int32  \n",
      " 35  Bwd Header Length         int32  \n",
      " 36  Fwd Packets/s             float32\n",
      " 37  Bwd Packets/s             float32\n",
      " 38  Packet Length Min         float32\n",
      " 39  Packet Length Max         float64\n",
      " 40  Packet Length Mean        float32\n",
      " 41  Packet Length Std         float32\n",
      " 42  Packet Length Variance    float32\n",
      " 43  FIN Flag Count            int8   \n",
      " 44  SYN Flag Count            int8   \n",
      " 45  RST Flag Count            int16  \n",
      " 46  PSH Flag Count            int16  \n",
      " 47  ACK Flag Count            int32  \n",
      " 48  URG Flag Count            int8   \n",
      " 49  CWE Flag Count            int8   \n",
      " 50  ECE Flag Count            int8   \n",
      " 51  Down/Up Ratio             float32\n",
      " 52  Avg Packet Size           float32\n",
      " 53  Avg Fwd Segment Size      float32\n",
      " 54  Avg Bwd Segment Size      float32\n",
      " 55  Fwd Avg Bytes/Bulk        int32  \n",
      " 56  Fwd Avg Packets/Bulk      int16  \n",
      " 57  Fwd Avg Bulk Rate         int32  \n",
      " 58  Bwd Avg Bytes/Bulk        int32  \n",
      " 59  Bwd Avg Packets/Bulk      int32  \n",
      " 60  Bwd Avg Bulk Rate         int32  \n",
      " 61  Subflow Fwd Packets       int32  \n",
      " 62  Subflow Fwd Bytes         int32  \n",
      " 63  Subflow Bwd Packets       int32  \n",
      " 64  Subflow Bwd Bytes         int32  \n",
      " 65  Init Fwd Win Bytes        int32  \n",
      " 66  Init Bwd Win Bytes        int32  \n",
      " 67  Fwd Act Data Packets      int32  \n",
      " 68  Fwd Seg Size Min          int8   \n",
      " 69  Active Mean               float32\n",
      " 70  Active Std                float32\n",
      " 71  Active Max                float64\n",
      " 72  Active Min                float64\n",
      " 73  Idle Mean                 float32\n",
      " 74  Idle Std                  float32\n",
      " 75  Idle Max                  float64\n",
      " 76  Idle Min                  float64\n",
      " 77  Label                     object \n",
      " 78  Attack                    int64  \n",
      "dtypes: float32(26), float64(19), int16(5), int32(17), int64(2), int8(9), object(1)\n",
      "memory usage: 754.2+ MB\n"
     ]
    }
   ],
   "source": [
    "df_origin.info()"
   ]
  },
  {
   "cell_type": "code",
   "execution_count": 12,
   "id": "b269be23-74e2-46f2-8069-0bd122c4e717",
   "metadata": {},
   "outputs": [],
   "source": [
    "df_origin.to_parquet(f\"./CoAt_CIC-IDS2017-V2.parquet\")"
   ]
  },
  {
   "cell_type": "code",
   "execution_count": null,
   "id": "bc024e4e-044d-4814-86f0-b40bc7baac81",
   "metadata": {},
   "outputs": [],
   "source": []
  }
 ],
 "metadata": {
  "kernelspec": {
   "display_name": "Python 3 (ipykernel)",
   "language": "python",
   "name": "python3"
  },
  "language_info": {
   "codemirror_mode": {
    "name": "ipython",
    "version": 3
   },
   "file_extension": ".py",
   "mimetype": "text/x-python",
   "name": "python",
   "nbconvert_exporter": "python",
   "pygments_lexer": "ipython3",
   "version": "3.12.5"
  }
 },
 "nbformat": 4,
 "nbformat_minor": 5
}
