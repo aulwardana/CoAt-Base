{
 "cells": [
  {
   "cell_type": "code",
   "execution_count": 1,
   "id": "e62769d4-772b-432e-a573-1983aec66b8f",
   "metadata": {},
   "outputs": [],
   "source": [
    "import pandas as pd\n",
    "import numpy as np"
   ]
  },
  {
   "cell_type": "code",
   "execution_count": 2,
   "id": "61dfbf7d-178e-4cc1-892c-cf7e588ac179",
   "metadata": {},
   "outputs": [],
   "source": [
    "df = pd.read_parquet('./NF-UQ-NIDS-V2.parquet', engine='pyarrow')"
   ]
  },
  {
   "cell_type": "code",
   "execution_count": 3,
   "id": "1a36431d-dca6-42bd-a93a-48a7b17685c2",
   "metadata": {},
   "outputs": [
    {
     "name": "stdout",
     "output_type": "stream",
     "text": [
      "<class 'pandas.core.frame.DataFrame'>\n",
      "RangeIndex: 62672013 entries, 0 to 62672012\n",
      "Data columns (total 44 columns):\n",
      " #   Column                       Dtype  \n",
      "---  ------                       -----  \n",
      " 0   L4_SRC_PORT                  int16  \n",
      " 1   L4_DST_PORT                  int16  \n",
      " 2   PROTOCOL                     int16  \n",
      " 3   L7_PROTO                     float32\n",
      " 4   IN_BYTES                     int32  \n",
      " 5   IN_PKTS                      int32  \n",
      " 6   OUT_BYTES                    int32  \n",
      " 7   OUT_PKTS                     int32  \n",
      " 8   TCP_FLAGS                    int16  \n",
      " 9   CLIENT_TCP_FLAGS             int16  \n",
      " 10  SERVER_TCP_FLAGS             int16  \n",
      " 11  FLOW_DURATION_MILLISECONDS   int32  \n",
      " 12  DURATION_IN                  int32  \n",
      " 13  DURATION_OUT                 int32  \n",
      " 14  MIN_TTL                      int16  \n",
      " 15  MAX_TTL                      int16  \n",
      " 16  LONGEST_FLOW_PKT             int32  \n",
      " 17  SHORTEST_FLOW_PKT            int16  \n",
      " 18  MIN_IP_PKT_LEN               int16  \n",
      " 19  MAX_IP_PKT_LEN               int32  \n",
      " 20  SRC_TO_DST_SECOND_BYTES      float32\n",
      " 21  DST_TO_SRC_SECOND_BYTES      float32\n",
      " 22  RETRANSMITTED_IN_BYTES       int32  \n",
      " 23  RETRANSMITTED_IN_PKTS        int16  \n",
      " 24  RETRANSMITTED_OUT_BYTES      int32  \n",
      " 25  RETRANSMITTED_OUT_PKTS       int16  \n",
      " 26  SRC_TO_DST_AVG_THROUGHPUT    int64  \n",
      " 27  DST_TO_SRC_AVG_THROUGHPUT    int64  \n",
      " 28  NUM_PKTS_UP_TO_128_BYTES     int32  \n",
      " 29  NUM_PKTS_128_TO_256_BYTES    int32  \n",
      " 30  NUM_PKTS_256_TO_512_BYTES    int32  \n",
      " 31  NUM_PKTS_512_TO_1024_BYTES   int32  \n",
      " 32  NUM_PKTS_1024_TO_1514_BYTES  int32  \n",
      " 33  TCP_WIN_MAX_IN               int32  \n",
      " 34  TCP_WIN_MAX_OUT              int32  \n",
      " 35  ICMP_TYPE                    int32  \n",
      " 36  ICMP_IPV4_TYPE               int16  \n",
      " 37  DNS_QUERY_ID                 int32  \n",
      " 38  DNS_QUERY_TYPE               int32  \n",
      " 39  DNS_TTL_ANSWER               int32  \n",
      " 40  FTP_COMMAND_RET_CODE         float32\n",
      " 41  Label                        int8   \n",
      " 42  Attack                       object \n",
      " 43  Dataset                      object \n",
      "dtypes: float32(4), int16(13), int32(22), int64(2), int8(1), object(2)\n",
      "memory usage: 9.5+ GB\n"
     ]
    }
   ],
   "source": [
    "df.info()"
   ]
  },
  {
   "cell_type": "code",
   "execution_count": 4,
   "id": "d1a9ac98-e92d-45dc-aeba-15f42b590a11",
   "metadata": {},
   "outputs": [
    {
     "data": {
      "text/plain": [
       "Label\n",
       "1    41928190\n",
       "0    20743823\n",
       "Name: count, dtype: int64"
      ]
     },
     "execution_count": 4,
     "metadata": {},
     "output_type": "execute_result"
    }
   ],
   "source": [
    "df['Label'].value_counts()"
   ]
  },
  {
   "cell_type": "code",
   "execution_count": 5,
   "id": "98d2aeb1-bf14-49a6-87f6-149eab07e1df",
   "metadata": {},
   "outputs": [
    {
     "data": {
      "text/plain": [
       "Attack\n",
       "Benign            20743823\n",
       "DDoS              17302868\n",
       "DoS               14787587\n",
       "scanning           3002169\n",
       "xss                2449955\n",
       "Reconnaissance     2374188\n",
       "password            993718\n",
       "injection           660899\n",
       "Brute Force         123910\n",
       "Infilteration       115513\n",
       "Exploits             29905\n",
       "Bot                  28033\n",
       "Fuzzers              20645\n",
       "Backdoor             17092\n",
       "mitm                  7682\n",
       "Generic               5992\n",
       "ransomware            3357\n",
       "Theft                 2316\n",
       "Shellcode             1427\n",
       "Analysis               770\n",
       "Worms                  164\n",
       "Name: count, dtype: int64"
      ]
     },
     "execution_count": 5,
     "metadata": {},
     "output_type": "execute_result"
    }
   ],
   "source": [
    "df['Attack'].value_counts()"
   ]
  },
  {
   "cell_type": "code",
   "execution_count": 6,
   "id": "11c7523f-c8bc-4baa-93e5-0cfc2a5bbd3a",
   "metadata": {},
   "outputs": [
    {
     "data": {
      "text/plain": [
       "Attack\n",
       "Benign    20743823\n",
       "Name: count, dtype: int64"
      ]
     },
     "execution_count": 6,
     "metadata": {},
     "output_type": "execute_result"
    }
   ],
   "source": [
    "df_BENIGN = df.loc[df['Attack'] == 'Benign']\n",
    "df_BENIGN['Attack'].value_counts()"
   ]
  },
  {
   "cell_type": "code",
   "execution_count": 7,
   "id": "7fe9bb07-756b-4aa6-9954-0fb3fb99773c",
   "metadata": {},
   "outputs": [
    {
     "data": {
      "text/plain": [
       "Attack\n",
       "scanning    3002169\n",
       "Name: count, dtype: int64"
      ]
     },
     "execution_count": 7,
     "metadata": {},
     "output_type": "execute_result"
    }
   ],
   "source": [
    "df_Scan1 = df.loc[df['Attack'] == 'scanning']\n",
    "df_Scan1['Attack'].value_counts()"
   ]
  },
  {
   "cell_type": "code",
   "execution_count": 8,
   "id": "6172f42f-fc13-4062-abac-2e74f045784b",
   "metadata": {},
   "outputs": [
    {
     "data": {
      "text/plain": [
       "Attack\n",
       "Reconnaissance    2374188\n",
       "Name: count, dtype: int64"
      ]
     },
     "execution_count": 8,
     "metadata": {},
     "output_type": "execute_result"
    }
   ],
   "source": [
    "df_Scan2 = df.loc[df['Attack'] == 'Reconnaissance']\n",
    "df_Scan2['Attack'].value_counts()"
   ]
  },
  {
   "cell_type": "code",
   "execution_count": 9,
   "id": "a5b8827f-acb9-4d6b-ba5b-bbb15863d49b",
   "metadata": {},
   "outputs": [
    {
     "data": {
      "text/plain": [
       "Attack\n",
       "Fuzzers    20645\n",
       "Name: count, dtype: int64"
      ]
     },
     "execution_count": 9,
     "metadata": {},
     "output_type": "execute_result"
    }
   ],
   "source": [
    "df_Scan3 = df.loc[df['Attack'] == 'Fuzzers']\n",
    "df_Scan3['Attack'].value_counts()"
   ]
  },
  {
   "cell_type": "code",
   "execution_count": 10,
   "id": "217704cd-fb70-4c18-87b6-eb91ea864b08",
   "metadata": {},
   "outputs": [
    {
     "data": {
      "text/plain": [
       "Attack\n",
       "Analysis    770\n",
       "Name: count, dtype: int64"
      ]
     },
     "execution_count": 10,
     "metadata": {},
     "output_type": "execute_result"
    }
   ],
   "source": [
    "df_Scan4 = df.loc[df['Attack'] == 'Analysis']\n",
    "df_Scan4['Attack'].value_counts()"
   ]
  },
  {
   "cell_type": "code",
   "execution_count": 11,
   "id": "54a247bf-066b-4195-be0d-0d3932fb202c",
   "metadata": {},
   "outputs": [
    {
     "data": {
      "text/plain": [
       "Attack\n",
       "Infilteration    115513\n",
       "Name: count, dtype: int64"
      ]
     },
     "execution_count": 11,
     "metadata": {},
     "output_type": "execute_result"
    }
   ],
   "source": [
    "df_Worm1 = df.loc[df['Attack'] == 'Infilteration']\n",
    "df_Worm1['Attack'].value_counts()"
   ]
  },
  {
   "cell_type": "code",
   "execution_count": 12,
   "id": "b515e3b7-8d86-4c8b-b3b4-11dae6866400",
   "metadata": {},
   "outputs": [
    {
     "data": {
      "text/plain": [
       "Attack\n",
       "Exploits    29905\n",
       "Name: count, dtype: int64"
      ]
     },
     "execution_count": 12,
     "metadata": {},
     "output_type": "execute_result"
    }
   ],
   "source": [
    "df_Worm2 = df.loc[df['Attack'] == 'Exploits']\n",
    "df_Worm2['Attack'].value_counts()"
   ]
  },
  {
   "cell_type": "code",
   "execution_count": 13,
   "id": "93fa9222-1a79-4124-8381-186635495685",
   "metadata": {},
   "outputs": [
    {
     "data": {
      "text/plain": [
       "Attack\n",
       "Bot    28033\n",
       "Name: count, dtype: int64"
      ]
     },
     "execution_count": 13,
     "metadata": {},
     "output_type": "execute_result"
    }
   ],
   "source": [
    "df_Worm3 = df.loc[df['Attack'] == 'Bot']\n",
    "df_Worm3['Attack'].value_counts()"
   ]
  },
  {
   "cell_type": "code",
   "execution_count": 14,
   "id": "c08691d0-c6c1-4b76-b1be-1c0d27663eba",
   "metadata": {},
   "outputs": [
    {
     "data": {
      "text/plain": [
       "Attack\n",
       "Backdoor    17092\n",
       "Name: count, dtype: int64"
      ]
     },
     "execution_count": 14,
     "metadata": {},
     "output_type": "execute_result"
    }
   ],
   "source": [
    "df_Worm4 = df.loc[df['Attack'] == 'Backdoor']\n",
    "df_Worm4['Attack'].value_counts()"
   ]
  },
  {
   "cell_type": "code",
   "execution_count": 15,
   "id": "e261a7c7-fa1f-4fde-8fe8-0a0b00538345",
   "metadata": {},
   "outputs": [
    {
     "data": {
      "text/plain": [
       "Attack\n",
       "Shellcode    1427\n",
       "Name: count, dtype: int64"
      ]
     },
     "execution_count": 15,
     "metadata": {},
     "output_type": "execute_result"
    }
   ],
   "source": [
    "df_Worm5 = df.loc[df['Attack'] == 'Shellcode']\n",
    "df_Worm5['Attack'].value_counts()"
   ]
  },
  {
   "cell_type": "code",
   "execution_count": 16,
   "id": "d99e6f4f-42ca-42b3-adcb-4dafd7e3ed73",
   "metadata": {},
   "outputs": [
    {
     "data": {
      "text/plain": [
       "Attack\n",
       "Worms    164\n",
       "Name: count, dtype: int64"
      ]
     },
     "execution_count": 16,
     "metadata": {},
     "output_type": "execute_result"
    }
   ],
   "source": [
    "df_Worm6 = df.loc[df['Attack'] == 'Worms']\n",
    "df_Worm6['Attack'].value_counts()"
   ]
  },
  {
   "cell_type": "code",
   "execution_count": 17,
   "id": "86e7bcc9-3a0a-47bd-ada5-687c8d311605",
   "metadata": {},
   "outputs": [
    {
     "data": {
      "text/plain": [
       "Attack\n",
       "DDoS    17302868\n",
       "Name: count, dtype: int64"
      ]
     },
     "execution_count": 17,
     "metadata": {},
     "output_type": "execute_result"
    }
   ],
   "source": [
    "df_DDoS = df.loc[df['Attack'] == 'DDoS']\n",
    "df_DDoS['Attack'].value_counts()"
   ]
  },
  {
   "cell_type": "code",
   "execution_count": 18,
   "id": "38b3fdcc-a40f-4940-a125-6a78959a19fe",
   "metadata": {},
   "outputs": [],
   "source": [
    "df_coat = pd.concat([df_BENIGN, df_Scan1, df_Scan2, df_Scan3, df_Scan4, df_Worm1, df_Worm2, df_Worm3, df_Worm4, df_Worm5, df_Worm6, df_DDoS])"
   ]
  },
  {
   "cell_type": "code",
   "execution_count": 19,
   "id": "83e0de2c-a828-42ac-a2a3-5059250e6e4f",
   "metadata": {},
   "outputs": [
    {
     "name": "stdout",
     "output_type": "stream",
     "text": [
      "<class 'pandas.core.frame.DataFrame'>\n",
      "Index: 43636597 entries, 2 to 62672010\n",
      "Data columns (total 44 columns):\n",
      " #   Column                       Dtype  \n",
      "---  ------                       -----  \n",
      " 0   L4_SRC_PORT                  int16  \n",
      " 1   L4_DST_PORT                  int16  \n",
      " 2   PROTOCOL                     int16  \n",
      " 3   L7_PROTO                     float32\n",
      " 4   IN_BYTES                     int32  \n",
      " 5   IN_PKTS                      int32  \n",
      " 6   OUT_BYTES                    int32  \n",
      " 7   OUT_PKTS                     int32  \n",
      " 8   TCP_FLAGS                    int16  \n",
      " 9   CLIENT_TCP_FLAGS             int16  \n",
      " 10  SERVER_TCP_FLAGS             int16  \n",
      " 11  FLOW_DURATION_MILLISECONDS   int32  \n",
      " 12  DURATION_IN                  int32  \n",
      " 13  DURATION_OUT                 int32  \n",
      " 14  MIN_TTL                      int16  \n",
      " 15  MAX_TTL                      int16  \n",
      " 16  LONGEST_FLOW_PKT             int32  \n",
      " 17  SHORTEST_FLOW_PKT            int16  \n",
      " 18  MIN_IP_PKT_LEN               int16  \n",
      " 19  MAX_IP_PKT_LEN               int32  \n",
      " 20  SRC_TO_DST_SECOND_BYTES      float32\n",
      " 21  DST_TO_SRC_SECOND_BYTES      float32\n",
      " 22  RETRANSMITTED_IN_BYTES       int32  \n",
      " 23  RETRANSMITTED_IN_PKTS        int16  \n",
      " 24  RETRANSMITTED_OUT_BYTES      int32  \n",
      " 25  RETRANSMITTED_OUT_PKTS       int16  \n",
      " 26  SRC_TO_DST_AVG_THROUGHPUT    int64  \n",
      " 27  DST_TO_SRC_AVG_THROUGHPUT    int64  \n",
      " 28  NUM_PKTS_UP_TO_128_BYTES     int32  \n",
      " 29  NUM_PKTS_128_TO_256_BYTES    int32  \n",
      " 30  NUM_PKTS_256_TO_512_BYTES    int32  \n",
      " 31  NUM_PKTS_512_TO_1024_BYTES   int32  \n",
      " 32  NUM_PKTS_1024_TO_1514_BYTES  int32  \n",
      " 33  TCP_WIN_MAX_IN               int32  \n",
      " 34  TCP_WIN_MAX_OUT              int32  \n",
      " 35  ICMP_TYPE                    int32  \n",
      " 36  ICMP_IPV4_TYPE               int16  \n",
      " 37  DNS_QUERY_ID                 int32  \n",
      " 38  DNS_QUERY_TYPE               int32  \n",
      " 39  DNS_TTL_ANSWER               int32  \n",
      " 40  FTP_COMMAND_RET_CODE         float32\n",
      " 41  Label                        int8   \n",
      " 42  Attack                       object \n",
      " 43  Dataset                      object \n",
      "dtypes: float32(4), int16(13), int32(22), int64(2), int8(1), object(2)\n",
      "memory usage: 6.9+ GB\n"
     ]
    }
   ],
   "source": [
    "df_coat.info()"
   ]
  },
  {
   "cell_type": "code",
   "execution_count": 20,
   "id": "7e4ad63a-fe14-4453-8cf5-5498c151b0d5",
   "metadata": {},
   "outputs": [
    {
     "data": {
      "text/plain": [
       "Attack\n",
       "Benign            20743823\n",
       "DDoS              17302868\n",
       "scanning           3002169\n",
       "Reconnaissance     2374188\n",
       "Infilteration       115513\n",
       "Exploits             29905\n",
       "Bot                  28033\n",
       "Fuzzers              20645\n",
       "Backdoor             17092\n",
       "Shellcode             1427\n",
       "Analysis               770\n",
       "Worms                  164\n",
       "Name: count, dtype: int64"
      ]
     },
     "execution_count": 20,
     "metadata": {},
     "output_type": "execute_result"
    }
   ],
   "source": [
    "df_coat['Attack'].value_counts()"
   ]
  },
  {
   "cell_type": "code",
   "execution_count": 21,
   "id": "b73f5352-bd71-42e7-a815-bce22cc81f6f",
   "metadata": {},
   "outputs": [],
   "source": [
    "df_coat['Attack'] = df_coat['Attack'].str.replace('scanning', 'Scan')\n",
    "df_coat['Attack'] = df_coat['Attack'].str.replace('Reconnaissance', 'Scan')\n",
    "df_coat['Attack'] = df_coat['Attack'].str.replace('Fuzzers', 'Scan')\n",
    "df_coat['Attack'] = df_coat['Attack'].str.replace('Analysis', 'Scan')\n",
    "df_coat['Attack'] = df_coat['Attack'].str.replace('Infilteration', 'Worm')\n",
    "df_coat['Attack'] = df_coat['Attack'].str.replace('Exploits', 'Worm')\n",
    "df_coat['Attack'] = df_coat['Attack'].str.replace('Bot', 'Worm')\n",
    "df_coat['Attack'] = df_coat['Attack'].str.replace('Backdoor', 'Worm')\n",
    "df_coat['Attack'] = df_coat['Attack'].str.replace('Shellcode', 'Worm')\n",
    "df_coat['Attack'] = df_coat['Attack'].str.replace('Worms', 'Worm')"
   ]
  },
  {
   "cell_type": "code",
   "execution_count": 22,
   "id": "d513b017-a6cb-4e31-b6a4-09818e65bddb",
   "metadata": {},
   "outputs": [
    {
     "data": {
      "text/plain": [
       "Attack\n",
       "Benign    20743823\n",
       "DDoS      17302868\n",
       "Scan       5397772\n",
       "Worm        192134\n",
       "Name: count, dtype: int64"
      ]
     },
     "execution_count": 22,
     "metadata": {},
     "output_type": "execute_result"
    }
   ],
   "source": [
    "df_coat['Attack'].value_counts()"
   ]
  },
  {
   "cell_type": "code",
   "execution_count": 23,
   "id": "a927df17-9b77-4a75-9624-4588dc3d9a4b",
   "metadata": {},
   "outputs": [
    {
     "name": "stdout",
     "output_type": "stream",
     "text": [
      "<class 'pandas.core.frame.DataFrame'>\n",
      "Index: 43636597 entries, 2 to 62672010\n",
      "Data columns (total 43 columns):\n",
      " #   Column                       Dtype  \n",
      "---  ------                       -----  \n",
      " 0   L4_SRC_PORT                  int16  \n",
      " 1   L4_DST_PORT                  int16  \n",
      " 2   PROTOCOL                     int16  \n",
      " 3   L7_PROTO                     float32\n",
      " 4   IN_BYTES                     int32  \n",
      " 5   IN_PKTS                      int32  \n",
      " 6   OUT_BYTES                    int32  \n",
      " 7   OUT_PKTS                     int32  \n",
      " 8   TCP_FLAGS                    int16  \n",
      " 9   CLIENT_TCP_FLAGS             int16  \n",
      " 10  SERVER_TCP_FLAGS             int16  \n",
      " 11  FLOW_DURATION_MILLISECONDS   int32  \n",
      " 12  DURATION_IN                  int32  \n",
      " 13  DURATION_OUT                 int32  \n",
      " 14  MIN_TTL                      int16  \n",
      " 15  MAX_TTL                      int16  \n",
      " 16  LONGEST_FLOW_PKT             int32  \n",
      " 17  SHORTEST_FLOW_PKT            int16  \n",
      " 18  MIN_IP_PKT_LEN               int16  \n",
      " 19  MAX_IP_PKT_LEN               int32  \n",
      " 20  SRC_TO_DST_SECOND_BYTES      float32\n",
      " 21  DST_TO_SRC_SECOND_BYTES      float32\n",
      " 22  RETRANSMITTED_IN_BYTES       int32  \n",
      " 23  RETRANSMITTED_IN_PKTS        int16  \n",
      " 24  RETRANSMITTED_OUT_BYTES      int32  \n",
      " 25  RETRANSMITTED_OUT_PKTS       int16  \n",
      " 26  SRC_TO_DST_AVG_THROUGHPUT    int64  \n",
      " 27  DST_TO_SRC_AVG_THROUGHPUT    int64  \n",
      " 28  NUM_PKTS_UP_TO_128_BYTES     int32  \n",
      " 29  NUM_PKTS_128_TO_256_BYTES    int32  \n",
      " 30  NUM_PKTS_256_TO_512_BYTES    int32  \n",
      " 31  NUM_PKTS_512_TO_1024_BYTES   int32  \n",
      " 32  NUM_PKTS_1024_TO_1514_BYTES  int32  \n",
      " 33  TCP_WIN_MAX_IN               int32  \n",
      " 34  TCP_WIN_MAX_OUT              int32  \n",
      " 35  ICMP_TYPE                    int32  \n",
      " 36  ICMP_IPV4_TYPE               int16  \n",
      " 37  DNS_QUERY_ID                 int32  \n",
      " 38  DNS_QUERY_TYPE               int32  \n",
      " 39  DNS_TTL_ANSWER               int32  \n",
      " 40  FTP_COMMAND_RET_CODE         float32\n",
      " 41  Label                        int8   \n",
      " 42  Attack                       object \n",
      "dtypes: float32(4), int16(13), int32(22), int64(2), int8(1), object(1)\n",
      "memory usage: 6.6+ GB\n"
     ]
    }
   ],
   "source": [
    "df_coat = df_coat.drop(df_coat.columns[[43]], axis=1)\n",
    "\n",
    "df_coat.info()"
   ]
  },
  {
   "cell_type": "code",
   "execution_count": 24,
   "id": "a7811526-afd9-48f4-80eb-d3387a74dc44",
   "metadata": {},
   "outputs": [],
   "source": [
    "df_coat.rename(columns = {'Label':'Attacks'}, inplace = True)"
   ]
  },
  {
   "cell_type": "code",
   "execution_count": 25,
   "id": "54e18b1f-4a65-48e6-a215-cb9d9a87b247",
   "metadata": {},
   "outputs": [],
   "source": [
    "df_coat.rename(columns = {'Attack':'Label'}, inplace = True)"
   ]
  },
  {
   "cell_type": "code",
   "execution_count": 26,
   "id": "4b6d837c-9bd9-4d62-987c-10ffd0d93c11",
   "metadata": {},
   "outputs": [],
   "source": [
    "df_coat.rename(columns = {'Attacks':'Attack'}, inplace = True)"
   ]
  },
  {
   "cell_type": "code",
   "execution_count": 27,
   "id": "44346d40-b242-49ff-835a-8043c7450f1d",
   "metadata": {},
   "outputs": [
    {
     "name": "stdout",
     "output_type": "stream",
     "text": [
      "<class 'pandas.core.frame.DataFrame'>\n",
      "Index: 43636597 entries, 2 to 62672010\n",
      "Data columns (total 43 columns):\n",
      " #   Column                       Dtype  \n",
      "---  ------                       -----  \n",
      " 0   L4_SRC_PORT                  int16  \n",
      " 1   L4_DST_PORT                  int16  \n",
      " 2   PROTOCOL                     int16  \n",
      " 3   L7_PROTO                     float32\n",
      " 4   IN_BYTES                     int32  \n",
      " 5   IN_PKTS                      int32  \n",
      " 6   OUT_BYTES                    int32  \n",
      " 7   OUT_PKTS                     int32  \n",
      " 8   TCP_FLAGS                    int16  \n",
      " 9   CLIENT_TCP_FLAGS             int16  \n",
      " 10  SERVER_TCP_FLAGS             int16  \n",
      " 11  FLOW_DURATION_MILLISECONDS   int32  \n",
      " 12  DURATION_IN                  int32  \n",
      " 13  DURATION_OUT                 int32  \n",
      " 14  MIN_TTL                      int16  \n",
      " 15  MAX_TTL                      int16  \n",
      " 16  LONGEST_FLOW_PKT             int32  \n",
      " 17  SHORTEST_FLOW_PKT            int16  \n",
      " 18  MIN_IP_PKT_LEN               int16  \n",
      " 19  MAX_IP_PKT_LEN               int32  \n",
      " 20  SRC_TO_DST_SECOND_BYTES      float32\n",
      " 21  DST_TO_SRC_SECOND_BYTES      float32\n",
      " 22  RETRANSMITTED_IN_BYTES       int32  \n",
      " 23  RETRANSMITTED_IN_PKTS        int16  \n",
      " 24  RETRANSMITTED_OUT_BYTES      int32  \n",
      " 25  RETRANSMITTED_OUT_PKTS       int16  \n",
      " 26  SRC_TO_DST_AVG_THROUGHPUT    int64  \n",
      " 27  DST_TO_SRC_AVG_THROUGHPUT    int64  \n",
      " 28  NUM_PKTS_UP_TO_128_BYTES     int32  \n",
      " 29  NUM_PKTS_128_TO_256_BYTES    int32  \n",
      " 30  NUM_PKTS_256_TO_512_BYTES    int32  \n",
      " 31  NUM_PKTS_512_TO_1024_BYTES   int32  \n",
      " 32  NUM_PKTS_1024_TO_1514_BYTES  int32  \n",
      " 33  TCP_WIN_MAX_IN               int32  \n",
      " 34  TCP_WIN_MAX_OUT              int32  \n",
      " 35  ICMP_TYPE                    int32  \n",
      " 36  ICMP_IPV4_TYPE               int16  \n",
      " 37  DNS_QUERY_ID                 int32  \n",
      " 38  DNS_QUERY_TYPE               int32  \n",
      " 39  DNS_TTL_ANSWER               int32  \n",
      " 40  FTP_COMMAND_RET_CODE         float32\n",
      " 41  Attack                       int8   \n",
      " 42  Label                        object \n",
      "dtypes: float32(4), int16(13), int32(22), int64(2), int8(1), object(1)\n",
      "memory usage: 6.6+ GB\n"
     ]
    }
   ],
   "source": [
    "df_coat.info()"
   ]
  },
  {
   "cell_type": "code",
   "execution_count": 28,
   "id": "93a185dd-aed4-4434-bea1-666f9e24f79c",
   "metadata": {},
   "outputs": [],
   "source": [
    "col_to_move = 'Attack'\n",
    "df_coat = df_coat[[col for col in df_coat.columns if col != col_to_move] + [col_to_move]]"
   ]
  },
  {
   "cell_type": "code",
   "execution_count": 29,
   "id": "2fdb9966-17b8-49bb-919f-3fc09e1ec156",
   "metadata": {},
   "outputs": [
    {
     "name": "stdout",
     "output_type": "stream",
     "text": [
      "<class 'pandas.core.frame.DataFrame'>\n",
      "Index: 43636597 entries, 2 to 62672010\n",
      "Data columns (total 43 columns):\n",
      " #   Column                       Dtype  \n",
      "---  ------                       -----  \n",
      " 0   L4_SRC_PORT                  int16  \n",
      " 1   L4_DST_PORT                  int16  \n",
      " 2   PROTOCOL                     int16  \n",
      " 3   L7_PROTO                     float32\n",
      " 4   IN_BYTES                     int32  \n",
      " 5   IN_PKTS                      int32  \n",
      " 6   OUT_BYTES                    int32  \n",
      " 7   OUT_PKTS                     int32  \n",
      " 8   TCP_FLAGS                    int16  \n",
      " 9   CLIENT_TCP_FLAGS             int16  \n",
      " 10  SERVER_TCP_FLAGS             int16  \n",
      " 11  FLOW_DURATION_MILLISECONDS   int32  \n",
      " 12  DURATION_IN                  int32  \n",
      " 13  DURATION_OUT                 int32  \n",
      " 14  MIN_TTL                      int16  \n",
      " 15  MAX_TTL                      int16  \n",
      " 16  LONGEST_FLOW_PKT             int32  \n",
      " 17  SHORTEST_FLOW_PKT            int16  \n",
      " 18  MIN_IP_PKT_LEN               int16  \n",
      " 19  MAX_IP_PKT_LEN               int32  \n",
      " 20  SRC_TO_DST_SECOND_BYTES      float32\n",
      " 21  DST_TO_SRC_SECOND_BYTES      float32\n",
      " 22  RETRANSMITTED_IN_BYTES       int32  \n",
      " 23  RETRANSMITTED_IN_PKTS        int16  \n",
      " 24  RETRANSMITTED_OUT_BYTES      int32  \n",
      " 25  RETRANSMITTED_OUT_PKTS       int16  \n",
      " 26  SRC_TO_DST_AVG_THROUGHPUT    int64  \n",
      " 27  DST_TO_SRC_AVG_THROUGHPUT    int64  \n",
      " 28  NUM_PKTS_UP_TO_128_BYTES     int32  \n",
      " 29  NUM_PKTS_128_TO_256_BYTES    int32  \n",
      " 30  NUM_PKTS_256_TO_512_BYTES    int32  \n",
      " 31  NUM_PKTS_512_TO_1024_BYTES   int32  \n",
      " 32  NUM_PKTS_1024_TO_1514_BYTES  int32  \n",
      " 33  TCP_WIN_MAX_IN               int32  \n",
      " 34  TCP_WIN_MAX_OUT              int32  \n",
      " 35  ICMP_TYPE                    int32  \n",
      " 36  ICMP_IPV4_TYPE               int16  \n",
      " 37  DNS_QUERY_ID                 int32  \n",
      " 38  DNS_QUERY_TYPE               int32  \n",
      " 39  DNS_TTL_ANSWER               int32  \n",
      " 40  FTP_COMMAND_RET_CODE         float32\n",
      " 41  Label                        object \n",
      " 42  Attack                       int8   \n",
      "dtypes: float32(4), int16(13), int32(22), int64(2), int8(1), object(1)\n",
      "memory usage: 6.6+ GB\n"
     ]
    }
   ],
   "source": [
    "df_coat.info()"
   ]
  },
  {
   "cell_type": "code",
   "execution_count": 30,
   "id": "7ccadf96-2fb1-414c-821a-ad0dd4eb5683",
   "metadata": {},
   "outputs": [],
   "source": [
    "df_coat.to_parquet(f\"./CoAt_NF-UQ-NIDS-V2.parquet\")"
   ]
  },
  {
   "cell_type": "code",
   "execution_count": null,
   "id": "c450c157-9a83-4461-a7bb-02cf113281b7",
   "metadata": {},
   "outputs": [],
   "source": []
  }
 ],
 "metadata": {
  "kernelspec": {
   "display_name": "Python 3 (ipykernel)",
   "language": "python",
   "name": "python3"
  },
  "language_info": {
   "codemirror_mode": {
    "name": "ipython",
    "version": 3
   },
   "file_extension": ".py",
   "mimetype": "text/x-python",
   "name": "python",
   "nbconvert_exporter": "python",
   "pygments_lexer": "ipython3",
   "version": "3.12.5"
  }
 },
 "nbformat": 4,
 "nbformat_minor": 5
}
