{
 "cells": [
  {
   "cell_type": "code",
   "execution_count": 1,
   "id": "21703673-4d7a-4fc6-abcb-417159573250",
   "metadata": {},
   "outputs": [],
   "source": [
    "import pandas as pd\n",
    "import numpy as np"
   ]
  },
  {
   "cell_type": "code",
   "execution_count": 2,
   "id": "85465709-cae6-4588-a6fb-0bbc617fd243",
   "metadata": {},
   "outputs": [],
   "source": [
    "df = pd.read_parquet('./CIC-ToN-IoT-V2.parquet', engine='pyarrow')"
   ]
  },
  {
   "cell_type": "code",
   "execution_count": 3,
   "id": "e71f1dc5-b8e7-4c8c-9785-7f1cf5524842",
   "metadata": {},
   "outputs": [
    {
     "name": "stdout",
     "output_type": "stream",
     "text": [
      "<class 'pandas.core.frame.DataFrame'>\n",
      "RangeIndex: 4847499 entries, 0 to 4847498\n",
      "Data columns (total 79 columns):\n",
      " #   Column                    Dtype   \n",
      "---  ------                    -----   \n",
      " 0   Protocol                  int8    \n",
      " 1   Flow Duration             int64   \n",
      " 2   Total Fwd Packets         int32   \n",
      " 3   Total Backward Packets    int32   \n",
      " 4   Fwd Packets Length Total  float32 \n",
      " 5   Bwd Packets Length Total  float32 \n",
      " 6   Fwd Packet Length Max     float32 \n",
      " 7   Fwd Packet Length Min     float32 \n",
      " 8   Fwd Packet Length Mean    float32 \n",
      " 9   Fwd Packet Length Std     float32 \n",
      " 10  Bwd Packet Length Max     float32 \n",
      " 11  Bwd Packet Length Min     float32 \n",
      " 12  Bwd Packet Length Mean    float32 \n",
      " 13  Bwd Packet Length Std     float32 \n",
      " 14  Flow Bytes/s              float32 \n",
      " 15  Flow Packets/s            float64 \n",
      " 16  Flow IAT Mean             float32 \n",
      " 17  Flow IAT Std              float32 \n",
      " 18  Flow IAT Max              float32 \n",
      " 19  Flow IAT Min              float32 \n",
      " 20  Fwd IAT Total             float32 \n",
      " 21  Fwd IAT Mean              float32 \n",
      " 22  Fwd IAT Std               float32 \n",
      " 23  Fwd IAT Max               float32 \n",
      " 24  Fwd IAT Min               float32 \n",
      " 25  Bwd IAT Total             float32 \n",
      " 26  Bwd IAT Mean              float32 \n",
      " 27  Bwd IAT Std               float32 \n",
      " 28  Bwd IAT Max               float32 \n",
      " 29  Bwd IAT Min               float32 \n",
      " 30  Fwd PSH Flags             int8    \n",
      " 31  Bwd PSH Flags             int8    \n",
      " 32  Fwd URG Flags             int8    \n",
      " 33  Bwd URG Flags             int8    \n",
      " 34  Fwd Header Length         int32   \n",
      " 35  Bwd Header Length         int32   \n",
      " 36  Fwd Packets/s             float32 \n",
      " 37  Bwd Packets/s             float32 \n",
      " 38  Packet Length Min         float32 \n",
      " 39  Packet Length Max         float32 \n",
      " 40  Packet Length Mean        float32 \n",
      " 41  Packet Length Std         float32 \n",
      " 42  Packet Length Variance    float32 \n",
      " 43  FIN Flag Count            int8    \n",
      " 44  SYN Flag Count            int32   \n",
      " 45  RST Flag Count            int32   \n",
      " 46  PSH Flag Count            int32   \n",
      " 47  ACK Flag Count            int32   \n",
      " 48  URG Flag Count            int8    \n",
      " 49  CWE Flag Count            int8    \n",
      " 50  ECE Flag Count            int8    \n",
      " 51  Down/Up Ratio             float32 \n",
      " 52  Avg Packet Size           float32 \n",
      " 53  Avg Fwd Segment Size      float32 \n",
      " 54  Avg Bwd Segment Size      float32 \n",
      " 55  Fwd Avg Bytes/Bulk        int8    \n",
      " 56  Fwd Avg Packets/Bulk      int8    \n",
      " 57  Fwd Avg Bulk Rate         int8    \n",
      " 58  Bwd Avg Bytes/Bulk        int32   \n",
      " 59  Bwd Avg Packets/Bulk      int32   \n",
      " 60  Bwd Avg Bulk Rate         int32   \n",
      " 61  Subflow Fwd Packets       int8    \n",
      " 62  Subflow Fwd Bytes         int16   \n",
      " 63  Subflow Bwd Packets       int8    \n",
      " 64  Subflow Bwd Bytes         int16   \n",
      " 65  Init Fwd Win Bytes        int32   \n",
      " 66  Init Bwd Win Bytes        int32   \n",
      " 67  Fwd Act Data Packets      int32   \n",
      " 68  Fwd Seg Size Min          int8    \n",
      " 69  Active Mean               float32 \n",
      " 70  Active Std                float32 \n",
      " 71  Active Max                float32 \n",
      " 72  Active Min                float32 \n",
      " 73  Idle Mean                 float32 \n",
      " 74  Idle Std                  float32 \n",
      " 75  Idle Max                  float32 \n",
      " 76  Idle Min                  float32 \n",
      " 77  Label                     int8    \n",
      " 78  Attack                    category\n",
      "dtypes: category(1), float32(44), float64(1), int16(2), int32(14), int64(1), int8(16)\n",
      "memory usage: 1.2 GB\n"
     ]
    }
   ],
   "source": [
    "df.info()"
   ]
  },
  {
   "cell_type": "code",
   "execution_count": 4,
   "id": "c23d8dd6-f4ae-4f9f-895e-5d4bc8c1a792",
   "metadata": {},
   "outputs": [
    {
     "data": {
      "text/plain": [
       "Label\n",
       "1    2723632\n",
       "0    2123867\n",
       "Name: count, dtype: int64"
      ]
     },
     "execution_count": 4,
     "metadata": {},
     "output_type": "execute_result"
    }
   ],
   "source": [
    "df['Label'].value_counts()"
   ]
  },
  {
   "cell_type": "code",
   "execution_count": 5,
   "id": "9cadd55a-5526-4f50-9bc5-0a332b2e2241",
   "metadata": {},
   "outputs": [
    {
     "data": {
      "text/plain": [
       "Attack\n",
       "Benign        2123867\n",
       "xss           2057122\n",
       "password       328648\n",
       "injection      269499\n",
       "scanning        35564\n",
       "backdoor        27145\n",
       "ransomware       4790\n",
       "mitm              517\n",
       "ddos              202\n",
       "dos               145\n",
       "Name: count, dtype: int64"
      ]
     },
     "execution_count": 5,
     "metadata": {},
     "output_type": "execute_result"
    }
   ],
   "source": [
    "df['Attack'].value_counts()"
   ]
  },
  {
   "cell_type": "code",
   "execution_count": 6,
   "id": "64c3458f-1f7a-4c59-be24-d7711bb1ec83",
   "metadata": {},
   "outputs": [],
   "source": [
    "df.rename(columns={'Label': 'Attack', 'Attack': 'Label'}, inplace=True)"
   ]
  },
  {
   "cell_type": "code",
   "execution_count": 7,
   "id": "3d2dbcdb-3e38-4632-acb4-1941051afff0",
   "metadata": {},
   "outputs": [],
   "source": [
    "df['Label'] = df['Label'].astype(object)"
   ]
  },
  {
   "cell_type": "code",
   "execution_count": 8,
   "id": "97a1e4e1-0e36-4ad0-89ad-25d31f5b3437",
   "metadata": {},
   "outputs": [],
   "source": [
    "df['Attack'] = df['Attack'].astype(int)"
   ]
  },
  {
   "cell_type": "code",
   "execution_count": 9,
   "id": "d8f063b7-b015-447b-b48a-a583883cdbc8",
   "metadata": {},
   "outputs": [
    {
     "name": "stdout",
     "output_type": "stream",
     "text": [
      "<class 'pandas.core.frame.DataFrame'>\n",
      "RangeIndex: 4847499 entries, 0 to 4847498\n",
      "Data columns (total 79 columns):\n",
      " #   Column                    Dtype  \n",
      "---  ------                    -----  \n",
      " 0   Protocol                  int8   \n",
      " 1   Flow Duration             int64  \n",
      " 2   Total Fwd Packets         int32  \n",
      " 3   Total Backward Packets    int32  \n",
      " 4   Fwd Packets Length Total  float32\n",
      " 5   Bwd Packets Length Total  float32\n",
      " 6   Fwd Packet Length Max     float32\n",
      " 7   Fwd Packet Length Min     float32\n",
      " 8   Fwd Packet Length Mean    float32\n",
      " 9   Fwd Packet Length Std     float32\n",
      " 10  Bwd Packet Length Max     float32\n",
      " 11  Bwd Packet Length Min     float32\n",
      " 12  Bwd Packet Length Mean    float32\n",
      " 13  Bwd Packet Length Std     float32\n",
      " 14  Flow Bytes/s              float32\n",
      " 15  Flow Packets/s            float64\n",
      " 16  Flow IAT Mean             float32\n",
      " 17  Flow IAT Std              float32\n",
      " 18  Flow IAT Max              float32\n",
      " 19  Flow IAT Min              float32\n",
      " 20  Fwd IAT Total             float32\n",
      " 21  Fwd IAT Mean              float32\n",
      " 22  Fwd IAT Std               float32\n",
      " 23  Fwd IAT Max               float32\n",
      " 24  Fwd IAT Min               float32\n",
      " 25  Bwd IAT Total             float32\n",
      " 26  Bwd IAT Mean              float32\n",
      " 27  Bwd IAT Std               float32\n",
      " 28  Bwd IAT Max               float32\n",
      " 29  Bwd IAT Min               float32\n",
      " 30  Fwd PSH Flags             int8   \n",
      " 31  Bwd PSH Flags             int8   \n",
      " 32  Fwd URG Flags             int8   \n",
      " 33  Bwd URG Flags             int8   \n",
      " 34  Fwd Header Length         int32  \n",
      " 35  Bwd Header Length         int32  \n",
      " 36  Fwd Packets/s             float32\n",
      " 37  Bwd Packets/s             float32\n",
      " 38  Packet Length Min         float32\n",
      " 39  Packet Length Max         float32\n",
      " 40  Packet Length Mean        float32\n",
      " 41  Packet Length Std         float32\n",
      " 42  Packet Length Variance    float32\n",
      " 43  FIN Flag Count            int8   \n",
      " 44  SYN Flag Count            int32  \n",
      " 45  RST Flag Count            int32  \n",
      " 46  PSH Flag Count            int32  \n",
      " 47  ACK Flag Count            int32  \n",
      " 48  URG Flag Count            int8   \n",
      " 49  CWE Flag Count            int8   \n",
      " 50  ECE Flag Count            int8   \n",
      " 51  Down/Up Ratio             float32\n",
      " 52  Avg Packet Size           float32\n",
      " 53  Avg Fwd Segment Size      float32\n",
      " 54  Avg Bwd Segment Size      float32\n",
      " 55  Fwd Avg Bytes/Bulk        int8   \n",
      " 56  Fwd Avg Packets/Bulk      int8   \n",
      " 57  Fwd Avg Bulk Rate         int8   \n",
      " 58  Bwd Avg Bytes/Bulk        int32  \n",
      " 59  Bwd Avg Packets/Bulk      int32  \n",
      " 60  Bwd Avg Bulk Rate         int32  \n",
      " 61  Subflow Fwd Packets       int8   \n",
      " 62  Subflow Fwd Bytes         int16  \n",
      " 63  Subflow Bwd Packets       int8   \n",
      " 64  Subflow Bwd Bytes         int16  \n",
      " 65  Init Fwd Win Bytes        int32  \n",
      " 66  Init Bwd Win Bytes        int32  \n",
      " 67  Fwd Act Data Packets      int32  \n",
      " 68  Fwd Seg Size Min          int8   \n",
      " 69  Active Mean               float32\n",
      " 70  Active Std                float32\n",
      " 71  Active Max                float32\n",
      " 72  Active Min                float32\n",
      " 73  Idle Mean                 float32\n",
      " 74  Idle Std                  float32\n",
      " 75  Idle Max                  float32\n",
      " 76  Idle Min                  float32\n",
      " 77  Attack                    int64  \n",
      " 78  Label                     object \n",
      "dtypes: float32(44), float64(1), int16(2), int32(14), int64(2), int8(15), object(1)\n",
      "memory usage: 1.3+ GB\n"
     ]
    }
   ],
   "source": [
    "df.info()"
   ]
  },
  {
   "cell_type": "code",
   "execution_count": 10,
   "id": "58acc327-9397-4726-b986-339b2f5a9602",
   "metadata": {},
   "outputs": [
    {
     "data": {
      "text/plain": [
       "Label\n",
       "Benign        2123867\n",
       "xss           2057122\n",
       "password       328648\n",
       "injection      269499\n",
       "scanning        35564\n",
       "backdoor        27145\n",
       "ransomware       4790\n",
       "mitm              517\n",
       "ddos              202\n",
       "dos               145\n",
       "Name: count, dtype: int64"
      ]
     },
     "execution_count": 10,
     "metadata": {},
     "output_type": "execute_result"
    }
   ],
   "source": [
    "df['Label'].value_counts()"
   ]
  },
  {
   "cell_type": "code",
   "execution_count": 11,
   "id": "732732f0-4c79-4e9d-8611-8a746c956cbd",
   "metadata": {},
   "outputs": [
    {
     "data": {
      "text/plain": [
       "Attack\n",
       "1    2723632\n",
       "0    2123867\n",
       "Name: count, dtype: int64"
      ]
     },
     "execution_count": 11,
     "metadata": {},
     "output_type": "execute_result"
    }
   ],
   "source": [
    "df['Attack'].value_counts()"
   ]
  },
  {
   "cell_type": "code",
   "execution_count": 12,
   "id": "ff2ade15-de20-4736-bc8b-c49e31d758d0",
   "metadata": {},
   "outputs": [
    {
     "data": {
      "text/plain": [
       "Label\n",
       "Benign    2123867\n",
       "Name: count, dtype: int64"
      ]
     },
     "execution_count": 12,
     "metadata": {},
     "output_type": "execute_result"
    }
   ],
   "source": [
    "df_BENIGN = df.loc[df['Label'] == 'Benign']\n",
    "df_BENIGN['Label'].value_counts()"
   ]
  },
  {
   "cell_type": "code",
   "execution_count": 13,
   "id": "48b94bcd-7257-4702-a250-988a4eea32b7",
   "metadata": {},
   "outputs": [
    {
     "data": {
      "text/plain": [
       "Label\n",
       "scanning    35564\n",
       "Name: count, dtype: int64"
      ]
     },
     "execution_count": 13,
     "metadata": {},
     "output_type": "execute_result"
    }
   ],
   "source": [
    "df_Scan = df.loc[df['Label'] == 'scanning']\n",
    "df_Scan['Label'].value_counts()"
   ]
  },
  {
   "cell_type": "code",
   "execution_count": 14,
   "id": "5e8f3d99-cb63-492e-be3b-857e59141f8f",
   "metadata": {},
   "outputs": [
    {
     "data": {
      "text/plain": [
       "Label\n",
       "backdoor    27145\n",
       "Name: count, dtype: int64"
      ]
     },
     "execution_count": 14,
     "metadata": {},
     "output_type": "execute_result"
    }
   ],
   "source": [
    "df_Worm = df.loc[df['Label'] == 'backdoor']\n",
    "df_Worm['Label'].value_counts()"
   ]
  },
  {
   "cell_type": "code",
   "execution_count": 15,
   "id": "70144080-7b35-4a27-8103-746ca9efdc1b",
   "metadata": {},
   "outputs": [
    {
     "data": {
      "text/plain": [
       "Label\n",
       "ddos    202\n",
       "Name: count, dtype: int64"
      ]
     },
     "execution_count": 15,
     "metadata": {},
     "output_type": "execute_result"
    }
   ],
   "source": [
    "df_DDoS = df.loc[df['Label'] == 'ddos']\n",
    "df_DDoS['Label'].value_counts()"
   ]
  },
  {
   "cell_type": "code",
   "execution_count": 16,
   "id": "c618b23d-9481-460c-8102-e33b25f18fad",
   "metadata": {},
   "outputs": [],
   "source": [
    "df_coat = pd.concat([df_BENIGN, df_Scan, df_Worm, df_DDoS])"
   ]
  },
  {
   "cell_type": "code",
   "execution_count": 17,
   "id": "eb1374a8-dc4b-4700-8fcc-1930f54afef6",
   "metadata": {},
   "outputs": [
    {
     "data": {
      "text/plain": [
       "Label\n",
       "Benign      2123867\n",
       "scanning      35564\n",
       "backdoor      27145\n",
       "ddos            202\n",
       "Name: count, dtype: int64"
      ]
     },
     "execution_count": 17,
     "metadata": {},
     "output_type": "execute_result"
    }
   ],
   "source": [
    "df_coat['Label'].value_counts()"
   ]
  },
  {
   "cell_type": "code",
   "execution_count": 18,
   "id": "ee097c12-d7ae-4bf6-8485-da92aa8ce546",
   "metadata": {},
   "outputs": [],
   "source": [
    "df_coat['Label'] = df_coat['Label'].str.replace('scanning', 'Scan')"
   ]
  },
  {
   "cell_type": "code",
   "execution_count": 19,
   "id": "d3247039-5acd-43f8-8052-a9a6cb5d3661",
   "metadata": {},
   "outputs": [],
   "source": [
    "df_coat['Label'] = df_coat['Label'].str.replace('backdoor', 'Worm')"
   ]
  },
  {
   "cell_type": "code",
   "execution_count": 20,
   "id": "f08389a9-ac8e-4c8e-9879-dbc5bf3b1703",
   "metadata": {},
   "outputs": [],
   "source": [
    "df_coat['Label'] = df_coat['Label'].str.replace('ddos', 'DDoS')"
   ]
  },
  {
   "cell_type": "code",
   "execution_count": 21,
   "id": "1f9d2a38-8b06-42d6-bb6f-03f9c68b1205",
   "metadata": {},
   "outputs": [
    {
     "data": {
      "text/plain": [
       "Label\n",
       "Benign    2123867\n",
       "Scan        35564\n",
       "Worm        27145\n",
       "DDoS          202\n",
       "Name: count, dtype: int64"
      ]
     },
     "execution_count": 21,
     "metadata": {},
     "output_type": "execute_result"
    }
   ],
   "source": [
    "df_coat['Label'].value_counts()"
   ]
  },
  {
   "cell_type": "code",
   "execution_count": 22,
   "id": "7c22382d-d4b8-4676-b9bb-01941a47bce2",
   "metadata": {},
   "outputs": [
    {
     "name": "stdout",
     "output_type": "stream",
     "text": [
      "<class 'pandas.core.frame.DataFrame'>\n",
      "Index: 2186778 entries, 0 to 38122\n",
      "Data columns (total 79 columns):\n",
      " #   Column                    Dtype  \n",
      "---  ------                    -----  \n",
      " 0   Protocol                  int8   \n",
      " 1   Flow Duration             int64  \n",
      " 2   Total Fwd Packets         int32  \n",
      " 3   Total Backward Packets    int32  \n",
      " 4   Fwd Packets Length Total  float32\n",
      " 5   Bwd Packets Length Total  float32\n",
      " 6   Fwd Packet Length Max     float32\n",
      " 7   Fwd Packet Length Min     float32\n",
      " 8   Fwd Packet Length Mean    float32\n",
      " 9   Fwd Packet Length Std     float32\n",
      " 10  Bwd Packet Length Max     float32\n",
      " 11  Bwd Packet Length Min     float32\n",
      " 12  Bwd Packet Length Mean    float32\n",
      " 13  Bwd Packet Length Std     float32\n",
      " 14  Flow Bytes/s              float32\n",
      " 15  Flow Packets/s            float64\n",
      " 16  Flow IAT Mean             float32\n",
      " 17  Flow IAT Std              float32\n",
      " 18  Flow IAT Max              float32\n",
      " 19  Flow IAT Min              float32\n",
      " 20  Fwd IAT Total             float32\n",
      " 21  Fwd IAT Mean              float32\n",
      " 22  Fwd IAT Std               float32\n",
      " 23  Fwd IAT Max               float32\n",
      " 24  Fwd IAT Min               float32\n",
      " 25  Bwd IAT Total             float32\n",
      " 26  Bwd IAT Mean              float32\n",
      " 27  Bwd IAT Std               float32\n",
      " 28  Bwd IAT Max               float32\n",
      " 29  Bwd IAT Min               float32\n",
      " 30  Fwd PSH Flags             int8   \n",
      " 31  Bwd PSH Flags             int8   \n",
      " 32  Fwd URG Flags             int8   \n",
      " 33  Bwd URG Flags             int8   \n",
      " 34  Fwd Header Length         int32  \n",
      " 35  Bwd Header Length         int32  \n",
      " 36  Fwd Packets/s             float32\n",
      " 37  Bwd Packets/s             float32\n",
      " 38  Packet Length Min         float32\n",
      " 39  Packet Length Max         float32\n",
      " 40  Packet Length Mean        float32\n",
      " 41  Packet Length Std         float32\n",
      " 42  Packet Length Variance    float32\n",
      " 43  FIN Flag Count            int8   \n",
      " 44  SYN Flag Count            int32  \n",
      " 45  RST Flag Count            int32  \n",
      " 46  PSH Flag Count            int32  \n",
      " 47  ACK Flag Count            int32  \n",
      " 48  URG Flag Count            int8   \n",
      " 49  CWE Flag Count            int8   \n",
      " 50  ECE Flag Count            int8   \n",
      " 51  Down/Up Ratio             float32\n",
      " 52  Avg Packet Size           float32\n",
      " 53  Avg Fwd Segment Size      float32\n",
      " 54  Avg Bwd Segment Size      float32\n",
      " 55  Fwd Avg Bytes/Bulk        int8   \n",
      " 56  Fwd Avg Packets/Bulk      int8   \n",
      " 57  Fwd Avg Bulk Rate         int8   \n",
      " 58  Bwd Avg Bytes/Bulk        int32  \n",
      " 59  Bwd Avg Packets/Bulk      int32  \n",
      " 60  Bwd Avg Bulk Rate         int32  \n",
      " 61  Subflow Fwd Packets       int8   \n",
      " 62  Subflow Fwd Bytes         int16  \n",
      " 63  Subflow Bwd Packets       int8   \n",
      " 64  Subflow Bwd Bytes         int16  \n",
      " 65  Init Fwd Win Bytes        int32  \n",
      " 66  Init Bwd Win Bytes        int32  \n",
      " 67  Fwd Act Data Packets      int32  \n",
      " 68  Fwd Seg Size Min          int8   \n",
      " 69  Active Mean               float32\n",
      " 70  Active Std                float32\n",
      " 71  Active Max                float32\n",
      " 72  Active Min                float32\n",
      " 73  Idle Mean                 float32\n",
      " 74  Idle Std                  float32\n",
      " 75  Idle Max                  float32\n",
      " 76  Idle Min                  float32\n",
      " 77  Attack                    int64  \n",
      " 78  Label                     object \n",
      "dtypes: float32(44), float64(1), int16(2), int32(14), int64(2), int8(15), object(1)\n",
      "memory usage: 606.9+ MB\n"
     ]
    }
   ],
   "source": [
    "df_coat.info()"
   ]
  },
  {
   "cell_type": "code",
   "execution_count": 23,
   "id": "18f5f24d-80cc-4517-bc10-de6155ff7e29",
   "metadata": {},
   "outputs": [],
   "source": [
    "df_coat.to_parquet(f\"./CoAt_CIC-ToN-IoT.parquet\")"
   ]
  },
  {
   "cell_type": "code",
   "execution_count": 6,
   "id": "9301c305-cd0d-45b9-80a6-c91320da7380",
   "metadata": {},
   "outputs": [
    {
     "name": "stdout",
     "output_type": "stream",
     "text": [
      "<class 'pandas.core.frame.DataFrame'>\n",
      "Index: 2186778 entries, 0 to 38122\n",
      "Data columns (total 79 columns):\n",
      " #   Column                    Dtype  \n",
      "---  ------                    -----  \n",
      " 0   Protocol                  int8   \n",
      " 1   Flow Duration             int64  \n",
      " 2   Total Fwd Packets         int32  \n",
      " 3   Total Backward Packets    int32  \n",
      " 4   Fwd Packets Length Total  float32\n",
      " 5   Bwd Packets Length Total  float32\n",
      " 6   Fwd Packet Length Max     float32\n",
      " 7   Fwd Packet Length Min     float32\n",
      " 8   Fwd Packet Length Mean    float32\n",
      " 9   Fwd Packet Length Std     float32\n",
      " 10  Bwd Packet Length Max     float32\n",
      " 11  Bwd Packet Length Min     float32\n",
      " 12  Bwd Packet Length Mean    float32\n",
      " 13  Bwd Packet Length Std     float32\n",
      " 14  Flow Bytes/s              float32\n",
      " 15  Flow Packets/s            float64\n",
      " 16  Flow IAT Mean             float32\n",
      " 17  Flow IAT Std              float32\n",
      " 18  Flow IAT Max              float32\n",
      " 19  Flow IAT Min              float32\n",
      " 20  Fwd IAT Total             float32\n",
      " 21  Fwd IAT Mean              float32\n",
      " 22  Fwd IAT Std               float32\n",
      " 23  Fwd IAT Max               float32\n",
      " 24  Fwd IAT Min               float32\n",
      " 25  Bwd IAT Total             float32\n",
      " 26  Bwd IAT Mean              float32\n",
      " 27  Bwd IAT Std               float32\n",
      " 28  Bwd IAT Max               float32\n",
      " 29  Bwd IAT Min               float32\n",
      " 30  Fwd PSH Flags             int8   \n",
      " 31  Bwd PSH Flags             int8   \n",
      " 32  Fwd URG Flags             int8   \n",
      " 33  Bwd URG Flags             int8   \n",
      " 34  Fwd Header Length         int32  \n",
      " 35  Bwd Header Length         int32  \n",
      " 36  Fwd Packets/s             float32\n",
      " 37  Bwd Packets/s             float32\n",
      " 38  Packet Length Min         float32\n",
      " 39  Packet Length Max         float32\n",
      " 40  Packet Length Mean        float32\n",
      " 41  Packet Length Std         float32\n",
      " 42  Packet Length Variance    float32\n",
      " 43  FIN Flag Count            int8   \n",
      " 44  SYN Flag Count            int32  \n",
      " 45  RST Flag Count            int32  \n",
      " 46  PSH Flag Count            int32  \n",
      " 47  ACK Flag Count            int32  \n",
      " 48  URG Flag Count            int8   \n",
      " 49  CWE Flag Count            int8   \n",
      " 50  ECE Flag Count            int8   \n",
      " 51  Down/Up Ratio             float32\n",
      " 52  Avg Packet Size           float32\n",
      " 53  Avg Fwd Segment Size      float32\n",
      " 54  Avg Bwd Segment Size      float32\n",
      " 55  Fwd Avg Bytes/Bulk        int8   \n",
      " 56  Fwd Avg Packets/Bulk      int8   \n",
      " 57  Fwd Avg Bulk Rate         int8   \n",
      " 58  Bwd Avg Bytes/Bulk        int32  \n",
      " 59  Bwd Avg Packets/Bulk      int32  \n",
      " 60  Bwd Avg Bulk Rate         int32  \n",
      " 61  Subflow Fwd Packets       int8   \n",
      " 62  Subflow Fwd Bytes         int16  \n",
      " 63  Subflow Bwd Packets       int8   \n",
      " 64  Subflow Bwd Bytes         int16  \n",
      " 65  Init Fwd Win Bytes        int32  \n",
      " 66  Init Bwd Win Bytes        int32  \n",
      " 67  Fwd Act Data Packets      int32  \n",
      " 68  Fwd Seg Size Min          int8   \n",
      " 69  Active Mean               float32\n",
      " 70  Active Std                float32\n",
      " 71  Active Max                float32\n",
      " 72  Active Min                float32\n",
      " 73  Idle Mean                 float32\n",
      " 74  Idle Std                  float32\n",
      " 75  Idle Max                  float32\n",
      " 76  Idle Min                  float32\n",
      " 77  Attack                    int64  \n",
      " 78  Label                     object \n",
      "dtypes: float32(44), float64(1), int16(2), int32(14), int64(2), int8(15), object(1)\n",
      "memory usage: 606.9+ MB\n"
     ]
    }
   ],
   "source": [
    "df_origin = pd.read_parquet('./CoAt_CIC-ToN-IoT.parquet', engine='pyarrow')\n",
    "df_origin.info()"
   ]
  },
  {
   "cell_type": "code",
   "execution_count": 7,
   "id": "06d84f71-fbe5-42e3-8460-6a9bfcb04fe7",
   "metadata": {},
   "outputs": [],
   "source": [
    "df_origin['Flow Duration'] = df_origin['Flow Duration'].astype('int64')\n",
    "df_origin['Total Backward Packets'] = df_origin['Total Backward Packets'].astype('int32')\n",
    "df_origin['Fwd Packets Length Total'] = df_origin['Fwd Packets Length Total'].astype('float64')\n",
    "df_origin['Bwd Packets Length Total'] = df_origin['Bwd Packets Length Total'].astype('float64')\n",
    "df_origin['Fwd Packet Length Max'] = df_origin['Fwd Packet Length Max'].astype('float64')\n",
    "df_origin['Bwd Packet Length Max'] = df_origin['Bwd Packet Length Max'].astype('float64')\n",
    "df_origin['Flow IAT Max'] = df_origin['Flow IAT Max'].astype('float64')\n",
    "df_origin['Flow IAT Min'] = df_origin['Flow IAT Min'].astype('float64')\n",
    "df_origin['Fwd IAT Total'] = df_origin['Fwd IAT Total'].astype('float64')\n",
    "df_origin['Fwd IAT Max'] = df_origin['Fwd IAT Max'].astype('float64')\n",
    "df_origin['Fwd IAT Min'] = df_origin['Fwd IAT Min'].astype('float64')\n",
    "df_origin['Bwd IAT Total'] = df_origin['Bwd IAT Total'].astype('float64')\n",
    "df_origin['Bwd IAT Max'] = df_origin['Bwd IAT Max'].astype('float64')\n",
    "df_origin['Bwd IAT Min'] = df_origin['Bwd IAT Min'].astype('float64')\n",
    "df_origin['Fwd PSH Flags'] = df_origin['Fwd PSH Flags'].astype('int16')\n",
    "df_origin['Bwd PSH Flags'] = df_origin['Bwd PSH Flags'].astype('int16')\n",
    "df_origin['Packet Length Max'] = df_origin['Packet Length Max'].astype('float64')\n",
    "df_origin['Init Fwd Win Bytes'] = df_origin['Init Fwd Win Bytes'].astype('int32')\n",
    "df_origin['Active Max'] = df_origin['Active Max'].astype('float64')\n",
    "df_origin['Active Min'] = df_origin['Active Min'].astype('float64')\n",
    "df_origin['Idle Max'] = df_origin['Idle Max'].astype('float64')\n",
    "df_origin['Idle Min'] = df_origin['Idle Min'].astype('float64')\n",
    "df_origin['RST Flag Count'] = df_origin['RST Flag Count'].astype('int16')\n",
    "df_origin['PSH Flag Count'] = df_origin['PSH Flag Count'].astype('int16')\n",
    "df_origin['ACK Flag Count'] = df_origin['ACK Flag Count'].astype('int32')\n",
    "df_origin['Fwd Avg Bytes/Bulk'] = df_origin['Fwd Avg Bytes/Bulk'].astype('int32')\n",
    "df_origin['Fwd Avg Packets/Bulk'] = df_origin['Fwd Avg Packets/Bulk'].astype('int16')\n",
    "df_origin['Fwd Avg Bulk Rate'] = df_origin['Fwd Avg Bulk Rate'].astype('int32')\n",
    "df_origin['Bwd Avg Bytes/Bulk'] = df_origin['Bwd Avg Bytes/Bulk'].astype('int32')\n",
    "df_origin['Bwd Avg Packets/Bulk'] = df_origin['Bwd Avg Packets/Bulk'].astype('int32')\n",
    "df_origin['Bwd Avg Bulk Rate'] = df_origin['Bwd Avg Bulk Rate'].astype('int32')\n",
    "df_origin['Subflow Bwd Packets'] = df_origin['Subflow Bwd Packets'].astype('int32')\n",
    "df_origin['Flow Bytes/s'] = df_origin['Flow Bytes/s'].astype('float64')\n",
    "df_origin['Subflow Fwd Packets'] = df_origin['Subflow Fwd Packets'].astype('int32')\n",
    "df_origin['Subflow Fwd Bytes'] = df_origin['Subflow Fwd Bytes'].astype('int32')\n",
    "df_origin['Subflow Bwd Bytes'] = df_origin['Subflow Bwd Bytes'].astype('int32')\n",
    "df_origin['SYN Flag Count'] = df_origin['SYN Flag Count'].astype('int8')"
   ]
  },
  {
   "cell_type": "code",
   "execution_count": 8,
   "id": "db6c236e-f43c-4688-84e5-c6fe9c361022",
   "metadata": {},
   "outputs": [
    {
     "name": "stdout",
     "output_type": "stream",
     "text": [
      "<class 'pandas.core.frame.DataFrame'>\n",
      "Index: 2186778 entries, 0 to 38122\n",
      "Data columns (total 79 columns):\n",
      " #   Column                    Dtype  \n",
      "---  ------                    -----  \n",
      " 0   Protocol                  int8   \n",
      " 1   Flow Duration             int64  \n",
      " 2   Total Fwd Packets         int32  \n",
      " 3   Total Backward Packets    int32  \n",
      " 4   Fwd Packets Length Total  float64\n",
      " 5   Bwd Packets Length Total  float64\n",
      " 6   Fwd Packet Length Max     float64\n",
      " 7   Fwd Packet Length Min     float32\n",
      " 8   Fwd Packet Length Mean    float32\n",
      " 9   Fwd Packet Length Std     float32\n",
      " 10  Bwd Packet Length Max     float64\n",
      " 11  Bwd Packet Length Min     float32\n",
      " 12  Bwd Packet Length Mean    float32\n",
      " 13  Bwd Packet Length Std     float32\n",
      " 14  Flow Bytes/s              float64\n",
      " 15  Flow Packets/s            float64\n",
      " 16  Flow IAT Mean             float32\n",
      " 17  Flow IAT Std              float32\n",
      " 18  Flow IAT Max              float64\n",
      " 19  Flow IAT Min              float64\n",
      " 20  Fwd IAT Total             float64\n",
      " 21  Fwd IAT Mean              float32\n",
      " 22  Fwd IAT Std               float32\n",
      " 23  Fwd IAT Max               float64\n",
      " 24  Fwd IAT Min               float64\n",
      " 25  Bwd IAT Total             float64\n",
      " 26  Bwd IAT Mean              float32\n",
      " 27  Bwd IAT Std               float32\n",
      " 28  Bwd IAT Max               float64\n",
      " 29  Bwd IAT Min               float64\n",
      " 30  Fwd PSH Flags             int16  \n",
      " 31  Bwd PSH Flags             int16  \n",
      " 32  Fwd URG Flags             int8   \n",
      " 33  Bwd URG Flags             int8   \n",
      " 34  Fwd Header Length         int32  \n",
      " 35  Bwd Header Length         int32  \n",
      " 36  Fwd Packets/s             float32\n",
      " 37  Bwd Packets/s             float32\n",
      " 38  Packet Length Min         float32\n",
      " 39  Packet Length Max         float64\n",
      " 40  Packet Length Mean        float32\n",
      " 41  Packet Length Std         float32\n",
      " 42  Packet Length Variance    float32\n",
      " 43  FIN Flag Count            int8   \n",
      " 44  SYN Flag Count            int8   \n",
      " 45  RST Flag Count            int16  \n",
      " 46  PSH Flag Count            int16  \n",
      " 47  ACK Flag Count            int32  \n",
      " 48  URG Flag Count            int8   \n",
      " 49  CWE Flag Count            int8   \n",
      " 50  ECE Flag Count            int8   \n",
      " 51  Down/Up Ratio             float32\n",
      " 52  Avg Packet Size           float32\n",
      " 53  Avg Fwd Segment Size      float32\n",
      " 54  Avg Bwd Segment Size      float32\n",
      " 55  Fwd Avg Bytes/Bulk        int32  \n",
      " 56  Fwd Avg Packets/Bulk      int16  \n",
      " 57  Fwd Avg Bulk Rate         int32  \n",
      " 58  Bwd Avg Bytes/Bulk        int32  \n",
      " 59  Bwd Avg Packets/Bulk      int32  \n",
      " 60  Bwd Avg Bulk Rate         int32  \n",
      " 61  Subflow Fwd Packets       int32  \n",
      " 62  Subflow Fwd Bytes         int32  \n",
      " 63  Subflow Bwd Packets       int32  \n",
      " 64  Subflow Bwd Bytes         int32  \n",
      " 65  Init Fwd Win Bytes        int32  \n",
      " 66  Init Bwd Win Bytes        int32  \n",
      " 67  Fwd Act Data Packets      int32  \n",
      " 68  Fwd Seg Size Min          int8   \n",
      " 69  Active Mean               float32\n",
      " 70  Active Std                float32\n",
      " 71  Active Max                float64\n",
      " 72  Active Min                float64\n",
      " 73  Idle Mean                 float32\n",
      " 74  Idle Std                  float32\n",
      " 75  Idle Max                  float64\n",
      " 76  Idle Min                  float64\n",
      " 77  Attack                    int64  \n",
      " 78  Label                     object \n",
      "dtypes: float32(26), float64(19), int16(5), int32(17), int64(2), int8(9), object(1)\n",
      "memory usage: 782.1+ MB\n"
     ]
    }
   ],
   "source": [
    "df_origin.info()"
   ]
  },
  {
   "cell_type": "code",
   "execution_count": 10,
   "id": "902f70a0-7843-411a-b04e-c0ce678052eb",
   "metadata": {},
   "outputs": [],
   "source": [
    "col_to_move = 'Attack'\n",
    "df_origin = df_origin[[col for col in df_origin.columns if col != col_to_move] + [col_to_move]]"
   ]
  },
  {
   "cell_type": "code",
   "execution_count": 11,
   "id": "cbec7ff2-9935-404f-97e2-af1d9861bede",
   "metadata": {},
   "outputs": [
    {
     "name": "stdout",
     "output_type": "stream",
     "text": [
      "<class 'pandas.core.frame.DataFrame'>\n",
      "Index: 2186778 entries, 0 to 38122\n",
      "Data columns (total 79 columns):\n",
      " #   Column                    Dtype  \n",
      "---  ------                    -----  \n",
      " 0   Protocol                  int8   \n",
      " 1   Flow Duration             int64  \n",
      " 2   Total Fwd Packets         int32  \n",
      " 3   Total Backward Packets    int32  \n",
      " 4   Fwd Packets Length Total  float64\n",
      " 5   Bwd Packets Length Total  float64\n",
      " 6   Fwd Packet Length Max     float64\n",
      " 7   Fwd Packet Length Min     float32\n",
      " 8   Fwd Packet Length Mean    float32\n",
      " 9   Fwd Packet Length Std     float32\n",
      " 10  Bwd Packet Length Max     float64\n",
      " 11  Bwd Packet Length Min     float32\n",
      " 12  Bwd Packet Length Mean    float32\n",
      " 13  Bwd Packet Length Std     float32\n",
      " 14  Flow Bytes/s              float64\n",
      " 15  Flow Packets/s            float64\n",
      " 16  Flow IAT Mean             float32\n",
      " 17  Flow IAT Std              float32\n",
      " 18  Flow IAT Max              float64\n",
      " 19  Flow IAT Min              float64\n",
      " 20  Fwd IAT Total             float64\n",
      " 21  Fwd IAT Mean              float32\n",
      " 22  Fwd IAT Std               float32\n",
      " 23  Fwd IAT Max               float64\n",
      " 24  Fwd IAT Min               float64\n",
      " 25  Bwd IAT Total             float64\n",
      " 26  Bwd IAT Mean              float32\n",
      " 27  Bwd IAT Std               float32\n",
      " 28  Bwd IAT Max               float64\n",
      " 29  Bwd IAT Min               float64\n",
      " 30  Fwd PSH Flags             int16  \n",
      " 31  Bwd PSH Flags             int16  \n",
      " 32  Fwd URG Flags             int8   \n",
      " 33  Bwd URG Flags             int8   \n",
      " 34  Fwd Header Length         int32  \n",
      " 35  Bwd Header Length         int32  \n",
      " 36  Fwd Packets/s             float32\n",
      " 37  Bwd Packets/s             float32\n",
      " 38  Packet Length Min         float32\n",
      " 39  Packet Length Max         float64\n",
      " 40  Packet Length Mean        float32\n",
      " 41  Packet Length Std         float32\n",
      " 42  Packet Length Variance    float32\n",
      " 43  FIN Flag Count            int8   \n",
      " 44  SYN Flag Count            int8   \n",
      " 45  RST Flag Count            int16  \n",
      " 46  PSH Flag Count            int16  \n",
      " 47  ACK Flag Count            int32  \n",
      " 48  URG Flag Count            int8   \n",
      " 49  CWE Flag Count            int8   \n",
      " 50  ECE Flag Count            int8   \n",
      " 51  Down/Up Ratio             float32\n",
      " 52  Avg Packet Size           float32\n",
      " 53  Avg Fwd Segment Size      float32\n",
      " 54  Avg Bwd Segment Size      float32\n",
      " 55  Fwd Avg Bytes/Bulk        int32  \n",
      " 56  Fwd Avg Packets/Bulk      int16  \n",
      " 57  Fwd Avg Bulk Rate         int32  \n",
      " 58  Bwd Avg Bytes/Bulk        int32  \n",
      " 59  Bwd Avg Packets/Bulk      int32  \n",
      " 60  Bwd Avg Bulk Rate         int32  \n",
      " 61  Subflow Fwd Packets       int32  \n",
      " 62  Subflow Fwd Bytes         int32  \n",
      " 63  Subflow Bwd Packets       int32  \n",
      " 64  Subflow Bwd Bytes         int32  \n",
      " 65  Init Fwd Win Bytes        int32  \n",
      " 66  Init Bwd Win Bytes        int32  \n",
      " 67  Fwd Act Data Packets      int32  \n",
      " 68  Fwd Seg Size Min          int8   \n",
      " 69  Active Mean               float32\n",
      " 70  Active Std                float32\n",
      " 71  Active Max                float64\n",
      " 72  Active Min                float64\n",
      " 73  Idle Mean                 float32\n",
      " 74  Idle Std                  float32\n",
      " 75  Idle Max                  float64\n",
      " 76  Idle Min                  float64\n",
      " 77  Label                     object \n",
      " 78  Attack                    int64  \n",
      "dtypes: float32(26), float64(19), int16(5), int32(17), int64(2), int8(9), object(1)\n",
      "memory usage: 782.1+ MB\n"
     ]
    }
   ],
   "source": [
    "df_origin.info()"
   ]
  },
  {
   "cell_type": "code",
   "execution_count": 12,
   "id": "91db6327-ce75-44cb-bbd8-19e602637a71",
   "metadata": {},
   "outputs": [],
   "source": [
    "df_origin.to_parquet(f\"./CoAt_CIC-ToN-IoT-V2.parquet\")"
   ]
  },
  {
   "cell_type": "code",
   "execution_count": null,
   "id": "12889d82-12ab-4fdf-8311-715e8104348e",
   "metadata": {},
   "outputs": [],
   "source": []
  }
 ],
 "metadata": {
  "kernelspec": {
   "display_name": "Python 3 (ipykernel)",
   "language": "python",
   "name": "python3"
  },
  "language_info": {
   "codemirror_mode": {
    "name": "ipython",
    "version": 3
   },
   "file_extension": ".py",
   "mimetype": "text/x-python",
   "name": "python",
   "nbconvert_exporter": "python",
   "pygments_lexer": "ipython3",
   "version": "3.12.5"
  }
 },
 "nbformat": 4,
 "nbformat_minor": 5
}
