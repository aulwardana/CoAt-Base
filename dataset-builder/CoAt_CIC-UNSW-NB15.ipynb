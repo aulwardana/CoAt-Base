{
 "cells": [
  {
   "cell_type": "code",
   "execution_count": 1,
   "id": "860c8797-f660-4d44-baf9-d332dffca44d",
   "metadata": {},
   "outputs": [],
   "source": [
    "import pandas as pd\n",
    "import numpy as np"
   ]
  },
  {
   "cell_type": "code",
   "execution_count": 2,
   "id": "feb2fe0a-5556-4683-8179-088309a21e26",
   "metadata": {},
   "outputs": [],
   "source": [
    "df = pd.read_csv('./CICFlowMeter_out.csv')"
   ]
  },
  {
   "cell_type": "code",
   "execution_count": 3,
   "id": "3c75cfd0-5929-457f-b473-74c619dc6a92",
   "metadata": {},
   "outputs": [
    {
     "name": "stdout",
     "output_type": "stream",
     "text": [
      "<class 'pandas.core.frame.DataFrame'>\n",
      "RangeIndex: 3540241 entries, 0 to 3540240\n",
      "Data columns (total 84 columns):\n",
      " #   Column                      Dtype  \n",
      "---  ------                      -----  \n",
      " 0   Flow ID                     object \n",
      " 1   Src IP                      object \n",
      " 2   Src Port                    int64  \n",
      " 3   Dst IP                      object \n",
      " 4   Dst Port                    int64  \n",
      " 5   Protocol                    int64  \n",
      " 6   Timestamp                   object \n",
      " 7   Flow Duration               int64  \n",
      " 8   Total Fwd Packet            int64  \n",
      " 9   Total Bwd packets           int64  \n",
      " 10  Total Length of Fwd Packet  float64\n",
      " 11  Total Length of Bwd Packet  float64\n",
      " 12  Fwd Packet Length Max       float64\n",
      " 13  Fwd Packet Length Min       float64\n",
      " 14  Fwd Packet Length Mean      float64\n",
      " 15  Fwd Packet Length Std       float64\n",
      " 16  Bwd Packet Length Max       float64\n",
      " 17  Bwd Packet Length Min       float64\n",
      " 18  Bwd Packet Length Mean      float64\n",
      " 19  Bwd Packet Length Std       float64\n",
      " 20  Flow Bytes/s                float64\n",
      " 21  Flow Packets/s              float64\n",
      " 22  Flow IAT Mean               float64\n",
      " 23  Flow IAT Std                float64\n",
      " 24  Flow IAT Max                float64\n",
      " 25  Flow IAT Min                float64\n",
      " 26  Fwd IAT Total               float64\n",
      " 27  Fwd IAT Mean                float64\n",
      " 28  Fwd IAT Std                 float64\n",
      " 29  Fwd IAT Max                 float64\n",
      " 30  Fwd IAT Min                 float64\n",
      " 31  Bwd IAT Total               float64\n",
      " 32  Bwd IAT Mean                float64\n",
      " 33  Bwd IAT Std                 float64\n",
      " 34  Bwd IAT Max                 float64\n",
      " 35  Bwd IAT Min                 float64\n",
      " 36  Fwd PSH Flags               int64  \n",
      " 37  Bwd PSH Flags               int64  \n",
      " 38  Fwd URG Flags               int64  \n",
      " 39  Bwd URG Flags               int64  \n",
      " 40  Fwd Header Length           int64  \n",
      " 41  Bwd Header Length           int64  \n",
      " 42  Fwd Packets/s               float64\n",
      " 43  Bwd Packets/s               float64\n",
      " 44  Packet Length Min           float64\n",
      " 45  Packet Length Max           float64\n",
      " 46  Packet Length Mean          float64\n",
      " 47  Packet Length Std           float64\n",
      " 48  Packet Length Variance      float64\n",
      " 49  FIN Flag Count              int64  \n",
      " 50  SYN Flag Count              int64  \n",
      " 51  RST Flag Count              int64  \n",
      " 52  PSH Flag Count              int64  \n",
      " 53  ACK Flag Count              int64  \n",
      " 54  URG Flag Count              int64  \n",
      " 55  CWR Flag Count              int64  \n",
      " 56  ECE Flag Count              int64  \n",
      " 57  Down/Up Ratio               float64\n",
      " 58  Average Packet Size         float64\n",
      " 59  Fwd Segment Size Avg        float64\n",
      " 60  Bwd Segment Size Avg        float64\n",
      " 61  Fwd Bytes/Bulk Avg          int64  \n",
      " 62  Fwd Packet/Bulk Avg         int64  \n",
      " 63  Fwd Bulk Rate Avg           int64  \n",
      " 64  Bwd Bytes/Bulk Avg          int64  \n",
      " 65  Bwd Packet/Bulk Avg         int64  \n",
      " 66  Bwd Bulk Rate Avg           int64  \n",
      " 67  Subflow Fwd Packets         int64  \n",
      " 68  Subflow Fwd Bytes           int64  \n",
      " 69  Subflow Bwd Packets         int64  \n",
      " 70  Subflow Bwd Bytes           int64  \n",
      " 71  FWD Init Win Bytes          int64  \n",
      " 72  Bwd Init Win Bytes          int64  \n",
      " 73  Fwd Act Data Pkts           int64  \n",
      " 74  Fwd Seg Size Min            int64  \n",
      " 75  Active Mean                 float64\n",
      " 76  Active Std                  float64\n",
      " 77  Active Max                  float64\n",
      " 78  Active Min                  float64\n",
      " 79  Idle Mean                   float64\n",
      " 80  Idle Std                    float64\n",
      " 81  Idle Max                    float64\n",
      " 82  Idle Min                    float64\n",
      " 83  Label                       object \n",
      "dtypes: float64(45), int64(34), object(5)\n",
      "memory usage: 2.2+ GB\n"
     ]
    }
   ],
   "source": [
    "df.info()"
   ]
  },
  {
   "cell_type": "code",
   "execution_count": 4,
   "id": "44590dfb-e934-4ebe-b251-30cabe48cb10",
   "metadata": {},
   "outputs": [],
   "source": [
    "df.to_parquet(f\"./CIC-UNSW-NB15.parquet\")"
   ]
  },
  {
   "cell_type": "code",
   "execution_count": 5,
   "id": "e1a5a722-ae0c-4cf2-826b-5c3f72dbbe3c",
   "metadata": {},
   "outputs": [],
   "source": [
    "df1 = pd.read_parquet('./CIC-UNSW-NB15.parquet', engine='pyarrow')"
   ]
  },
  {
   "cell_type": "code",
   "execution_count": 6,
   "id": "145323c3-126b-4f10-99cb-0ac6b1097f19",
   "metadata": {},
   "outputs": [
    {
     "name": "stdout",
     "output_type": "stream",
     "text": [
      "<class 'pandas.core.frame.DataFrame'>\n",
      "RangeIndex: 3540241 entries, 0 to 3540240\n",
      "Data columns (total 78 columns):\n",
      " #   Column                      Dtype  \n",
      "---  ------                      -----  \n",
      " 0   Protocol                    int64  \n",
      " 1   Flow Duration               int64  \n",
      " 2   Total Fwd Packet            int64  \n",
      " 3   Total Bwd packets           int64  \n",
      " 4   Total Length of Fwd Packet  float64\n",
      " 5   Total Length of Bwd Packet  float64\n",
      " 6   Fwd Packet Length Max       float64\n",
      " 7   Fwd Packet Length Min       float64\n",
      " 8   Fwd Packet Length Mean      float64\n",
      " 9   Fwd Packet Length Std       float64\n",
      " 10  Bwd Packet Length Max       float64\n",
      " 11  Bwd Packet Length Min       float64\n",
      " 12  Bwd Packet Length Mean      float64\n",
      " 13  Bwd Packet Length Std       float64\n",
      " 14  Flow Bytes/s                float64\n",
      " 15  Flow Packets/s              float64\n",
      " 16  Flow IAT Mean               float64\n",
      " 17  Flow IAT Std                float64\n",
      " 18  Flow IAT Max                float64\n",
      " 19  Flow IAT Min                float64\n",
      " 20  Fwd IAT Total               float64\n",
      " 21  Fwd IAT Mean                float64\n",
      " 22  Fwd IAT Std                 float64\n",
      " 23  Fwd IAT Max                 float64\n",
      " 24  Fwd IAT Min                 float64\n",
      " 25  Bwd IAT Total               float64\n",
      " 26  Bwd IAT Mean                float64\n",
      " 27  Bwd IAT Std                 float64\n",
      " 28  Bwd IAT Max                 float64\n",
      " 29  Bwd IAT Min                 float64\n",
      " 30  Fwd PSH Flags               int64  \n",
      " 31  Bwd PSH Flags               int64  \n",
      " 32  Fwd URG Flags               int64  \n",
      " 33  Bwd URG Flags               int64  \n",
      " 34  Fwd Header Length           int64  \n",
      " 35  Bwd Header Length           int64  \n",
      " 36  Fwd Packets/s               float64\n",
      " 37  Bwd Packets/s               float64\n",
      " 38  Packet Length Min           float64\n",
      " 39  Packet Length Max           float64\n",
      " 40  Packet Length Mean          float64\n",
      " 41  Packet Length Std           float64\n",
      " 42  Packet Length Variance      float64\n",
      " 43  FIN Flag Count              int64  \n",
      " 44  SYN Flag Count              int64  \n",
      " 45  RST Flag Count              int64  \n",
      " 46  PSH Flag Count              int64  \n",
      " 47  ACK Flag Count              int64  \n",
      " 48  URG Flag Count              int64  \n",
      " 49  CWR Flag Count              int64  \n",
      " 50  ECE Flag Count              int64  \n",
      " 51  Down/Up Ratio               float64\n",
      " 52  Average Packet Size         float64\n",
      " 53  Fwd Segment Size Avg        float64\n",
      " 54  Bwd Segment Size Avg        float64\n",
      " 55  Fwd Bytes/Bulk Avg          int64  \n",
      " 56  Fwd Packet/Bulk Avg         int64  \n",
      " 57  Fwd Bulk Rate Avg           int64  \n",
      " 58  Bwd Bytes/Bulk Avg          int64  \n",
      " 59  Bwd Packet/Bulk Avg         int64  \n",
      " 60  Bwd Bulk Rate Avg           int64  \n",
      " 61  Subflow Fwd Packets         int64  \n",
      " 62  Subflow Fwd Bytes           int64  \n",
      " 63  Subflow Bwd Packets         int64  \n",
      " 64  Subflow Bwd Bytes           int64  \n",
      " 65  FWD Init Win Bytes          int64  \n",
      " 66  Bwd Init Win Bytes          int64  \n",
      " 67  Fwd Act Data Pkts           int64  \n",
      " 68  Fwd Seg Size Min            int64  \n",
      " 69  Active Mean                 float64\n",
      " 70  Active Std                  float64\n",
      " 71  Active Max                  float64\n",
      " 72  Active Min                  float64\n",
      " 73  Idle Mean                   float64\n",
      " 74  Idle Std                    float64\n",
      " 75  Idle Max                    float64\n",
      " 76  Idle Min                    float64\n",
      " 77  Label                       object \n",
      "dtypes: float64(45), int64(32), object(1)\n",
      "memory usage: 2.1+ GB\n"
     ]
    }
   ],
   "source": [
    "df1 = df1.drop(df1.columns[[0, 1, 2, 3, 4, 6]], axis=1)\n",
    "df1.info()"
   ]
  },
  {
   "cell_type": "code",
   "execution_count": 7,
   "id": "fb4da744-a567-4bcc-82a5-61137a2f6abe",
   "metadata": {},
   "outputs": [
    {
     "data": {
      "text/plain": [
       "Label\n",
       "Benign            3450658\n",
       "Exploits            30951\n",
       "Fuzzers             29613\n",
       "Reconnaissance      16735\n",
       "Generic              4632\n",
       "DoS                  4467\n",
       "Shellcode            2102\n",
       "Backdoor              452\n",
       "Analysis              385\n",
       "Worms                 246\n",
       "Name: count, dtype: int64"
      ]
     },
     "execution_count": 7,
     "metadata": {},
     "output_type": "execute_result"
    }
   ],
   "source": [
    "df1['Label'].value_counts()"
   ]
  },
  {
   "cell_type": "code",
   "execution_count": 8,
   "id": "f16375e4-2aef-42c1-9166-cf26a71ac573",
   "metadata": {},
   "outputs": [
    {
     "data": {
      "text/plain": [
       "Label\n",
       "Benign    3450658\n",
       "Name: count, dtype: int64"
      ]
     },
     "execution_count": 8,
     "metadata": {},
     "output_type": "execute_result"
    }
   ],
   "source": [
    "df_BENIGN = df1.loc[df1['Label'] == 'Benign']\n",
    "df_BENIGN['Label'].value_counts()"
   ]
  },
  {
   "cell_type": "code",
   "execution_count": 9,
   "id": "95eefea8-c5da-4f81-b80b-f09782d0e0df",
   "metadata": {},
   "outputs": [
    {
     "data": {
      "text/plain": [
       "Label\n",
       "Fuzzers    29613\n",
       "Name: count, dtype: int64"
      ]
     },
     "execution_count": 9,
     "metadata": {},
     "output_type": "execute_result"
    }
   ],
   "source": [
    "df_Scan1 = df1.loc[df1['Label'] == 'Fuzzers']\n",
    "df_Scan1['Label'].value_counts()"
   ]
  },
  {
   "cell_type": "code",
   "execution_count": 10,
   "id": "609a68bf-4479-4f53-9893-df58d0b5762b",
   "metadata": {},
   "outputs": [
    {
     "data": {
      "text/plain": [
       "Label\n",
       "Reconnaissance    16735\n",
       "Name: count, dtype: int64"
      ]
     },
     "execution_count": 10,
     "metadata": {},
     "output_type": "execute_result"
    }
   ],
   "source": [
    "df_Scan2 = df1.loc[df1['Label'] == 'Reconnaissance']\n",
    "df_Scan2['Label'].value_counts()"
   ]
  },
  {
   "cell_type": "code",
   "execution_count": 11,
   "id": "88b686ba-eed0-4c39-b631-1caa058a58fb",
   "metadata": {},
   "outputs": [
    {
     "data": {
      "text/plain": [
       "Label\n",
       "Analysis    385\n",
       "Name: count, dtype: int64"
      ]
     },
     "execution_count": 11,
     "metadata": {},
     "output_type": "execute_result"
    }
   ],
   "source": [
    "df_Scan3 = df1.loc[df1['Label'] == 'Analysis']\n",
    "df_Scan3['Label'].value_counts()"
   ]
  },
  {
   "cell_type": "code",
   "execution_count": 12,
   "id": "f2c1219a-3b50-4be5-8f50-24b5dfd92b47",
   "metadata": {},
   "outputs": [
    {
     "data": {
      "text/plain": [
       "Label\n",
       "Exploits    30951\n",
       "Name: count, dtype: int64"
      ]
     },
     "execution_count": 12,
     "metadata": {},
     "output_type": "execute_result"
    }
   ],
   "source": [
    "df_Worm1 = df1.loc[df1['Label'] == 'Exploits']\n",
    "df_Worm1['Label'].value_counts()"
   ]
  },
  {
   "cell_type": "code",
   "execution_count": 13,
   "id": "3027cd92-1614-496f-a6ff-de599eebb2c0",
   "metadata": {},
   "outputs": [
    {
     "data": {
      "text/plain": [
       "Label\n",
       "Backdoor    452\n",
       "Name: count, dtype: int64"
      ]
     },
     "execution_count": 13,
     "metadata": {},
     "output_type": "execute_result"
    }
   ],
   "source": [
    "df_Worm2 = df1.loc[df1['Label'] == 'Backdoor']\n",
    "df_Worm2['Label'].value_counts()"
   ]
  },
  {
   "cell_type": "code",
   "execution_count": 14,
   "id": "577d1df5-b32d-4db4-aa49-6e60c881d41f",
   "metadata": {},
   "outputs": [
    {
     "data": {
      "text/plain": [
       "Label\n",
       "Shellcode    2102\n",
       "Name: count, dtype: int64"
      ]
     },
     "execution_count": 14,
     "metadata": {},
     "output_type": "execute_result"
    }
   ],
   "source": [
    "df_Worm3 = df1.loc[df1['Label'] == 'Shellcode']\n",
    "df_Worm3['Label'].value_counts()"
   ]
  },
  {
   "cell_type": "code",
   "execution_count": 15,
   "id": "f0a09ee3-c271-4ec1-bfe4-5e738e848b8c",
   "metadata": {},
   "outputs": [
    {
     "data": {
      "text/plain": [
       "Label\n",
       "Worms    246\n",
       "Name: count, dtype: int64"
      ]
     },
     "execution_count": 15,
     "metadata": {},
     "output_type": "execute_result"
    }
   ],
   "source": [
    "df_Worm4 = df1.loc[df1['Label'] == 'Worms']\n",
    "df_Worm4['Label'].value_counts()"
   ]
  },
  {
   "cell_type": "code",
   "execution_count": 16,
   "id": "112aa197-f642-4a68-8304-ff76bbb53216",
   "metadata": {},
   "outputs": [],
   "source": [
    "df_coat = pd.concat([df_BENIGN, df_Scan1, df_Scan2, df_Scan3, df_Worm1, df_Worm2, df_Worm3, df_Worm4])"
   ]
  },
  {
   "cell_type": "code",
   "execution_count": 17,
   "id": "aa1bc6b3-a82c-48f3-962f-2aac6e438469",
   "metadata": {},
   "outputs": [
    {
     "data": {
      "text/plain": [
       "Label\n",
       "Benign            3450658\n",
       "Exploits            30951\n",
       "Fuzzers             29613\n",
       "Reconnaissance      16735\n",
       "Shellcode            2102\n",
       "Backdoor              452\n",
       "Analysis              385\n",
       "Worms                 246\n",
       "Name: count, dtype: int64"
      ]
     },
     "execution_count": 17,
     "metadata": {},
     "output_type": "execute_result"
    }
   ],
   "source": [
    "df_coat['Label'].value_counts()"
   ]
  },
  {
   "cell_type": "code",
   "execution_count": 18,
   "id": "a0eb1cbd-99ba-471f-99b3-a6590bc50a36",
   "metadata": {},
   "outputs": [],
   "source": [
    "df_coat['Label'] = df_coat['Label'].str.replace('Fuzzers', 'Scan')"
   ]
  },
  {
   "cell_type": "code",
   "execution_count": 19,
   "id": "c3694848-b781-4249-ba18-8a30488fdb67",
   "metadata": {},
   "outputs": [],
   "source": [
    "df_coat['Label'] = df_coat['Label'].str.replace('Reconnaissance', 'Scan')"
   ]
  },
  {
   "cell_type": "code",
   "execution_count": 20,
   "id": "c998c1f7-4d83-443d-9ee9-072408117928",
   "metadata": {},
   "outputs": [],
   "source": [
    "df_coat['Label'] = df_coat['Label'].str.replace('Analysis', 'Scan')"
   ]
  },
  {
   "cell_type": "code",
   "execution_count": 21,
   "id": "311ce1b8-539d-42a9-8592-f3c027d235c2",
   "metadata": {},
   "outputs": [],
   "source": [
    "df_coat['Label'] = df_coat['Label'].str.replace('Exploits', 'Worm')"
   ]
  },
  {
   "cell_type": "code",
   "execution_count": 22,
   "id": "a1171c79-3c23-4158-b7e4-32eb40567e9b",
   "metadata": {},
   "outputs": [],
   "source": [
    "df_coat['Label'] = df_coat['Label'].str.replace('Backdoor', 'Worm')"
   ]
  },
  {
   "cell_type": "code",
   "execution_count": 23,
   "id": "2c9a8aac-23ba-4c8b-beea-72ed71bf484a",
   "metadata": {},
   "outputs": [],
   "source": [
    "df_coat['Label'] = df_coat['Label'].str.replace('Shellcode', 'Worm')"
   ]
  },
  {
   "cell_type": "code",
   "execution_count": 24,
   "id": "31aa5a1e-c788-4c34-959f-5b244e8dc92d",
   "metadata": {},
   "outputs": [],
   "source": [
    "df_coat['Label'] = df_coat['Label'].str.replace('Worms', 'Worm')"
   ]
  },
  {
   "cell_type": "code",
   "execution_count": 25,
   "id": "3e3d5c68-c590-455b-b60e-0e5d1e81e9f8",
   "metadata": {},
   "outputs": [
    {
     "data": {
      "text/plain": [
       "Label\n",
       "Benign    3450658\n",
       "Scan        46733\n",
       "Worm        33751\n",
       "Name: count, dtype: int64"
      ]
     },
     "execution_count": 25,
     "metadata": {},
     "output_type": "execute_result"
    }
   ],
   "source": [
    "df_coat['Label'].value_counts()"
   ]
  },
  {
   "cell_type": "code",
   "execution_count": 26,
   "id": "990b634f-3afe-40b9-ac46-4cc7a1bda226",
   "metadata": {},
   "outputs": [
    {
     "name": "stdout",
     "output_type": "stream",
     "text": [
      "<class 'pandas.core.frame.DataFrame'>\n",
      "Index: 3531142 entries, 26 to 3508839\n",
      "Data columns (total 79 columns):\n",
      " #   Column                      Dtype  \n",
      "---  ------                      -----  \n",
      " 0   Protocol                    int64  \n",
      " 1   Flow Duration               int64  \n",
      " 2   Total Fwd Packet            int64  \n",
      " 3   Total Bwd packets           int64  \n",
      " 4   Total Length of Fwd Packet  float64\n",
      " 5   Total Length of Bwd Packet  float64\n",
      " 6   Fwd Packet Length Max       float64\n",
      " 7   Fwd Packet Length Min       float64\n",
      " 8   Fwd Packet Length Mean      float64\n",
      " 9   Fwd Packet Length Std       float64\n",
      " 10  Bwd Packet Length Max       float64\n",
      " 11  Bwd Packet Length Min       float64\n",
      " 12  Bwd Packet Length Mean      float64\n",
      " 13  Bwd Packet Length Std       float64\n",
      " 14  Flow Bytes/s                float64\n",
      " 15  Flow Packets/s              float64\n",
      " 16  Flow IAT Mean               float64\n",
      " 17  Flow IAT Std                float64\n",
      " 18  Flow IAT Max                float64\n",
      " 19  Flow IAT Min                float64\n",
      " 20  Fwd IAT Total               float64\n",
      " 21  Fwd IAT Mean                float64\n",
      " 22  Fwd IAT Std                 float64\n",
      " 23  Fwd IAT Max                 float64\n",
      " 24  Fwd IAT Min                 float64\n",
      " 25  Bwd IAT Total               float64\n",
      " 26  Bwd IAT Mean                float64\n",
      " 27  Bwd IAT Std                 float64\n",
      " 28  Bwd IAT Max                 float64\n",
      " 29  Bwd IAT Min                 float64\n",
      " 30  Fwd PSH Flags               int64  \n",
      " 31  Bwd PSH Flags               int64  \n",
      " 32  Fwd URG Flags               int64  \n",
      " 33  Bwd URG Flags               int64  \n",
      " 34  Fwd Header Length           int64  \n",
      " 35  Bwd Header Length           int64  \n",
      " 36  Fwd Packets/s               float64\n",
      " 37  Bwd Packets/s               float64\n",
      " 38  Packet Length Min           float64\n",
      " 39  Packet Length Max           float64\n",
      " 40  Packet Length Mean          float64\n",
      " 41  Packet Length Std           float64\n",
      " 42  Packet Length Variance      float64\n",
      " 43  FIN Flag Count              int64  \n",
      " 44  SYN Flag Count              int64  \n",
      " 45  RST Flag Count              int64  \n",
      " 46  PSH Flag Count              int64  \n",
      " 47  ACK Flag Count              int64  \n",
      " 48  URG Flag Count              int64  \n",
      " 49  CWR Flag Count              int64  \n",
      " 50  ECE Flag Count              int64  \n",
      " 51  Down/Up Ratio               float64\n",
      " 52  Average Packet Size         float64\n",
      " 53  Fwd Segment Size Avg        float64\n",
      " 54  Bwd Segment Size Avg        float64\n",
      " 55  Fwd Bytes/Bulk Avg          int64  \n",
      " 56  Fwd Packet/Bulk Avg         int64  \n",
      " 57  Fwd Bulk Rate Avg           int64  \n",
      " 58  Bwd Bytes/Bulk Avg          int64  \n",
      " 59  Bwd Packet/Bulk Avg         int64  \n",
      " 60  Bwd Bulk Rate Avg           int64  \n",
      " 61  Subflow Fwd Packets         int64  \n",
      " 62  Subflow Fwd Bytes           int64  \n",
      " 63  Subflow Bwd Packets         int64  \n",
      " 64  Subflow Bwd Bytes           int64  \n",
      " 65  FWD Init Win Bytes          int64  \n",
      " 66  Bwd Init Win Bytes          int64  \n",
      " 67  Fwd Act Data Pkts           int64  \n",
      " 68  Fwd Seg Size Min            int64  \n",
      " 69  Active Mean                 float64\n",
      " 70  Active Std                  float64\n",
      " 71  Active Max                  float64\n",
      " 72  Active Min                  float64\n",
      " 73  Idle Mean                   float64\n",
      " 74  Idle Std                    float64\n",
      " 75  Idle Max                    float64\n",
      " 76  Idle Min                    float64\n",
      " 77  Label                       object \n",
      " 78  Attack                      object \n",
      "dtypes: float64(45), int64(32), object(2)\n",
      "memory usage: 2.1+ GB\n"
     ]
    }
   ],
   "source": [
    "attack = df_coat.loc[:, \"Label\"].map(lambda lbl: \"0\" if lbl == \"Benign\" else \"1\")\n",
    "attack.name = \"Attack\"\n",
    "df_coat.loc[:, attack.name] = attack\n",
    "\n",
    "df_coat.info()"
   ]
  },
  {
   "cell_type": "code",
   "execution_count": 27,
   "id": "cc592d51-de30-4ef8-808b-a37d05ff14da",
   "metadata": {},
   "outputs": [],
   "source": [
    "df_coat['Attack'] = df_coat['Attack'].astype(int)"
   ]
  },
  {
   "cell_type": "code",
   "execution_count": 28,
   "id": "1aba14ee-8f02-4cf7-8908-f6348b376154",
   "metadata": {},
   "outputs": [
    {
     "name": "stdout",
     "output_type": "stream",
     "text": [
      "<class 'pandas.core.frame.DataFrame'>\n",
      "Index: 3531142 entries, 26 to 3508839\n",
      "Data columns (total 79 columns):\n",
      " #   Column                      Dtype  \n",
      "---  ------                      -----  \n",
      " 0   Protocol                    int64  \n",
      " 1   Flow Duration               int64  \n",
      " 2   Total Fwd Packet            int64  \n",
      " 3   Total Bwd packets           int64  \n",
      " 4   Total Length of Fwd Packet  float64\n",
      " 5   Total Length of Bwd Packet  float64\n",
      " 6   Fwd Packet Length Max       float64\n",
      " 7   Fwd Packet Length Min       float64\n",
      " 8   Fwd Packet Length Mean      float64\n",
      " 9   Fwd Packet Length Std       float64\n",
      " 10  Bwd Packet Length Max       float64\n",
      " 11  Bwd Packet Length Min       float64\n",
      " 12  Bwd Packet Length Mean      float64\n",
      " 13  Bwd Packet Length Std       float64\n",
      " 14  Flow Bytes/s                float64\n",
      " 15  Flow Packets/s              float64\n",
      " 16  Flow IAT Mean               float64\n",
      " 17  Flow IAT Std                float64\n",
      " 18  Flow IAT Max                float64\n",
      " 19  Flow IAT Min                float64\n",
      " 20  Fwd IAT Total               float64\n",
      " 21  Fwd IAT Mean                float64\n",
      " 22  Fwd IAT Std                 float64\n",
      " 23  Fwd IAT Max                 float64\n",
      " 24  Fwd IAT Min                 float64\n",
      " 25  Bwd IAT Total               float64\n",
      " 26  Bwd IAT Mean                float64\n",
      " 27  Bwd IAT Std                 float64\n",
      " 28  Bwd IAT Max                 float64\n",
      " 29  Bwd IAT Min                 float64\n",
      " 30  Fwd PSH Flags               int64  \n",
      " 31  Bwd PSH Flags               int64  \n",
      " 32  Fwd URG Flags               int64  \n",
      " 33  Bwd URG Flags               int64  \n",
      " 34  Fwd Header Length           int64  \n",
      " 35  Bwd Header Length           int64  \n",
      " 36  Fwd Packets/s               float64\n",
      " 37  Bwd Packets/s               float64\n",
      " 38  Packet Length Min           float64\n",
      " 39  Packet Length Max           float64\n",
      " 40  Packet Length Mean          float64\n",
      " 41  Packet Length Std           float64\n",
      " 42  Packet Length Variance      float64\n",
      " 43  FIN Flag Count              int64  \n",
      " 44  SYN Flag Count              int64  \n",
      " 45  RST Flag Count              int64  \n",
      " 46  PSH Flag Count              int64  \n",
      " 47  ACK Flag Count              int64  \n",
      " 48  URG Flag Count              int64  \n",
      " 49  CWR Flag Count              int64  \n",
      " 50  ECE Flag Count              int64  \n",
      " 51  Down/Up Ratio               float64\n",
      " 52  Average Packet Size         float64\n",
      " 53  Fwd Segment Size Avg        float64\n",
      " 54  Bwd Segment Size Avg        float64\n",
      " 55  Fwd Bytes/Bulk Avg          int64  \n",
      " 56  Fwd Packet/Bulk Avg         int64  \n",
      " 57  Fwd Bulk Rate Avg           int64  \n",
      " 58  Bwd Bytes/Bulk Avg          int64  \n",
      " 59  Bwd Packet/Bulk Avg         int64  \n",
      " 60  Bwd Bulk Rate Avg           int64  \n",
      " 61  Subflow Fwd Packets         int64  \n",
      " 62  Subflow Fwd Bytes           int64  \n",
      " 63  Subflow Bwd Packets         int64  \n",
      " 64  Subflow Bwd Bytes           int64  \n",
      " 65  FWD Init Win Bytes          int64  \n",
      " 66  Bwd Init Win Bytes          int64  \n",
      " 67  Fwd Act Data Pkts           int64  \n",
      " 68  Fwd Seg Size Min            int64  \n",
      " 69  Active Mean                 float64\n",
      " 70  Active Std                  float64\n",
      " 71  Active Max                  float64\n",
      " 72  Active Min                  float64\n",
      " 73  Idle Mean                   float64\n",
      " 74  Idle Std                    float64\n",
      " 75  Idle Max                    float64\n",
      " 76  Idle Min                    float64\n",
      " 77  Label                       object \n",
      " 78  Attack                      int64  \n",
      "dtypes: float64(45), int64(33), object(1)\n",
      "memory usage: 2.1+ GB\n"
     ]
    }
   ],
   "source": [
    "df_coat.info()"
   ]
  },
  {
   "cell_type": "code",
   "execution_count": 29,
   "id": "0d95fa7c-7801-4b9c-88b8-bf40a41b5ba4",
   "metadata": {},
   "outputs": [],
   "source": [
    "df_coat.to_parquet(f\"./CoAt_CIC-UNSW-NB15.parquet\")"
   ]
  },
  {
   "cell_type": "code",
   "execution_count": 30,
   "id": "a5ab2e5b-13e8-4ddc-ac57-f37f6dbb20dd",
   "metadata": {},
   "outputs": [],
   "source": [
    "df_coat_origin = pd.read_parquet('./CoAt_CIC-UNSW-NB15.parquet', engine='pyarrow')\n",
    "df_coat_feed = pd.read_parquet('/home/administrator/dataset/CoAt/feeding-dataset/Feed_DDoS_CIC-UNSW-NB15.parquet', engine='pyarrow')"
   ]
  },
  {
   "cell_type": "code",
   "execution_count": 31,
   "id": "8ddfd46e-3964-4108-b7af-1743fde011ed",
   "metadata": {},
   "outputs": [],
   "source": [
    "df_coat_origin.rename(columns = {'Total Fwd Packet':'Total Fwd Packets', \n",
    "                                   'Total Bwd packets':'Total Backward Packets',\n",
    "                                   'Total Length of Fwd Packet':'Fwd Packets Length Total',\n",
    "                                   'Total Length of Bwd Packet':'Bwd Packets Length Total',\n",
    "                                   'CWR Flag Count':'CWE Flag Count',\n",
    "                                   'Average Packet Size':'Avg Packet Size',\n",
    "                                   'Fwd Segment Size Avg':'Avg Fwd Segment Size',\n",
    "                                   'Bwd Segment Size Avg':'Avg Bwd Segment Size',\n",
    "                                   'Fwd Bytes/Bulk Avg':'Fwd Avg Bytes/Bulk',\n",
    "                                   'Fwd Packet/Bulk Avg':'Fwd Avg Packets/Bulk',\n",
    "                                   'Fwd Bulk Rate Avg':'Fwd Avg Bulk Rate',\n",
    "                                   'Bwd Bytes/Bulk Avg':'Bwd Avg Bytes/Bulk',\n",
    "                                   'Bwd Packet/Bulk Avg':'Bwd Avg Packets/Bulk',\n",
    "                                   'Bwd Bulk Rate Avg':'Bwd Avg Bulk Rate',\n",
    "                                   'Fwd Act Data Pkts':'Fwd Act Data Packets',\n",
    "                                   'Bwd Init Win Bytes':'Init Bwd Win Bytes',\n",
    "                                   'FWD Init Win Bytes':'Init Fwd Win Bytes'}, inplace = True)"
   ]
  },
  {
   "cell_type": "code",
   "execution_count": 32,
   "id": "cdfc64d1-1b87-416f-bddd-786d7c3a5e8a",
   "metadata": {},
   "outputs": [],
   "source": [
    "df_coat_cmb = pd.concat([df_coat_origin, df_coat_feed])"
   ]
  },
  {
   "cell_type": "code",
   "execution_count": 11,
   "id": "eb6be1c6-522b-491c-80d5-eb6fba291b1c",
   "metadata": {},
   "outputs": [
    {
     "name": "stdout",
     "output_type": "stream",
     "text": [
      "<class 'pandas.core.frame.DataFrame'>\n",
      "Index: 3630918 entries, 26 to 362173\n",
      "Data columns (total 79 columns):\n",
      " #   Column                    Dtype  \n",
      "---  ------                    -----  \n",
      " 0   Protocol                  int64  \n",
      " 1   Flow Duration             int64  \n",
      " 2   Total Fwd Packets         int64  \n",
      " 3   Total Backward Packets    int64  \n",
      " 4   Fwd Packets Length Total  float64\n",
      " 5   Bwd Packets Length Total  float64\n",
      " 6   Fwd Packet Length Max     float64\n",
      " 7   Fwd Packet Length Min     float64\n",
      " 8   Fwd Packet Length Mean    float64\n",
      " 9   Fwd Packet Length Std     float64\n",
      " 10  Bwd Packet Length Max     float64\n",
      " 11  Bwd Packet Length Min     float64\n",
      " 12  Bwd Packet Length Mean    float64\n",
      " 13  Bwd Packet Length Std     float64\n",
      " 14  Flow Bytes/s              float64\n",
      " 15  Flow Packets/s            float64\n",
      " 16  Flow IAT Mean             float64\n",
      " 17  Flow IAT Std              float64\n",
      " 18  Flow IAT Max              float64\n",
      " 19  Flow IAT Min              float64\n",
      " 20  Fwd IAT Total             float64\n",
      " 21  Fwd IAT Mean              float64\n",
      " 22  Fwd IAT Std               float64\n",
      " 23  Fwd IAT Max               float64\n",
      " 24  Fwd IAT Min               float64\n",
      " 25  Bwd IAT Total             float64\n",
      " 26  Bwd IAT Mean              float64\n",
      " 27  Bwd IAT Std               float64\n",
      " 28  Bwd IAT Max               float64\n",
      " 29  Bwd IAT Min               float64\n",
      " 30  Fwd PSH Flags             int64  \n",
      " 31  Bwd PSH Flags             int64  \n",
      " 32  Fwd URG Flags             int64  \n",
      " 33  Bwd URG Flags             int64  \n",
      " 34  Fwd Header Length         int64  \n",
      " 35  Bwd Header Length         int64  \n",
      " 36  Fwd Packets/s             float64\n",
      " 37  Bwd Packets/s             float64\n",
      " 38  Packet Length Min         float64\n",
      " 39  Packet Length Max         float64\n",
      " 40  Packet Length Mean        float64\n",
      " 41  Packet Length Std         float64\n",
      " 42  Packet Length Variance    float64\n",
      " 43  FIN Flag Count            int64  \n",
      " 44  SYN Flag Count            int64  \n",
      " 45  RST Flag Count            int64  \n",
      " 46  PSH Flag Count            int64  \n",
      " 47  ACK Flag Count            int64  \n",
      " 48  URG Flag Count            int64  \n",
      " 49  CWE Flag Count            int64  \n",
      " 50  ECE Flag Count            int64  \n",
      " 51  Down/Up Ratio             float64\n",
      " 52  Avg Packet Size           float64\n",
      " 53  Avg Fwd Segment Size      float64\n",
      " 54  Avg Bwd Segment Size      float64\n",
      " 55  Fwd Avg Bytes/Bulk        int64  \n",
      " 56  Fwd Avg Packets/Bulk      int64  \n",
      " 57  Fwd Avg Bulk Rate         int64  \n",
      " 58  Bwd Avg Bytes/Bulk        int64  \n",
      " 59  Bwd Avg Packets/Bulk      int64  \n",
      " 60  Bwd Avg Bulk Rate         int64  \n",
      " 61  Subflow Fwd Packets       int64  \n",
      " 62  Subflow Fwd Bytes         int64  \n",
      " 63  Subflow Bwd Packets       int64  \n",
      " 64  Subflow Bwd Bytes         int64  \n",
      " 65  Init Fwd Win Bytes        int64  \n",
      " 66  Init Bwd Win Bytes        int64  \n",
      " 67  Fwd Act Data Packets      int64  \n",
      " 68  Fwd Seg Size Min          int64  \n",
      " 69  Active Mean               float64\n",
      " 70  Active Std                float64\n",
      " 71  Active Max                float64\n",
      " 72  Active Min                float64\n",
      " 73  Idle Mean                 float64\n",
      " 74  Idle Std                  float64\n",
      " 75  Idle Max                  float64\n",
      " 76  Idle Min                  float64\n",
      " 77  Label                     object \n",
      " 78  Attack                    int64  \n",
      "dtypes: float64(45), int64(33), object(1)\n",
      "memory usage: 2.2+ GB\n"
     ]
    }
   ],
   "source": [
    "df_coat_cmb.info()"
   ]
  },
  {
   "cell_type": "code",
   "execution_count": 12,
   "id": "e3a13334-5d92-46c9-bf36-428718c691a6",
   "metadata": {},
   "outputs": [
    {
     "data": {
      "text/plain": [
       "Label\n",
       "Benign    3450658\n",
       "DDoS        95144\n",
       "Scan        46348\n",
       "Worm        38768\n",
       "Name: count, dtype: int64"
      ]
     },
     "execution_count": 12,
     "metadata": {},
     "output_type": "execute_result"
    }
   ],
   "source": [
    "df_coat_cmb['Label'].value_counts()"
   ]
  },
  {
   "cell_type": "code",
   "execution_count": 13,
   "id": "b83a8c33-9b9a-4616-9af2-0d5c2f31737f",
   "metadata": {},
   "outputs": [
    {
     "data": {
      "text/plain": [
       "Attack\n",
       "0    3450658\n",
       "1     180260\n",
       "Name: count, dtype: int64"
      ]
     },
     "execution_count": 13,
     "metadata": {},
     "output_type": "execute_result"
    }
   ],
   "source": [
    "df_coat_cmb['Attack'].value_counts()"
   ]
  },
  {
   "cell_type": "code",
   "execution_count": 14,
   "id": "6b3dcca3-db3b-4b24-b2c0-eb1448e9760b",
   "metadata": {},
   "outputs": [],
   "source": [
    "df_coat_cmb.to_parquet(f\"./CoAt_CIC-UNSW-NB15_Feeded.parquet\")"
   ]
  },
  {
   "cell_type": "code",
   "execution_count": 18,
   "id": "583c7ead-eb9b-4c79-9644-3f444fb623d6",
   "metadata": {},
   "outputs": [
    {
     "name": "stdout",
     "output_type": "stream",
     "text": [
      "<class 'pandas.core.frame.DataFrame'>\n",
      "Index: 3630918 entries, 26 to 362173\n",
      "Data columns (total 79 columns):\n",
      " #   Column                    Dtype  \n",
      "---  ------                    -----  \n",
      " 0   Protocol                  int64  \n",
      " 1   Flow Duration             int64  \n",
      " 2   Total Fwd Packets         int64  \n",
      " 3   Total Backward Packets    int64  \n",
      " 4   Fwd Packets Length Total  float64\n",
      " 5   Bwd Packets Length Total  float64\n",
      " 6   Fwd Packet Length Max     float64\n",
      " 7   Fwd Packet Length Min     float64\n",
      " 8   Fwd Packet Length Mean    float64\n",
      " 9   Fwd Packet Length Std     float64\n",
      " 10  Bwd Packet Length Max     float64\n",
      " 11  Bwd Packet Length Min     float64\n",
      " 12  Bwd Packet Length Mean    float64\n",
      " 13  Bwd Packet Length Std     float64\n",
      " 14  Flow Bytes/s              float64\n",
      " 15  Flow Packets/s            float64\n",
      " 16  Flow IAT Mean             float64\n",
      " 17  Flow IAT Std              float64\n",
      " 18  Flow IAT Max              float64\n",
      " 19  Flow IAT Min              float64\n",
      " 20  Fwd IAT Total             float64\n",
      " 21  Fwd IAT Mean              float64\n",
      " 22  Fwd IAT Std               float64\n",
      " 23  Fwd IAT Max               float64\n",
      " 24  Fwd IAT Min               float64\n",
      " 25  Bwd IAT Total             float64\n",
      " 26  Bwd IAT Mean              float64\n",
      " 27  Bwd IAT Std               float64\n",
      " 28  Bwd IAT Max               float64\n",
      " 29  Bwd IAT Min               float64\n",
      " 30  Fwd PSH Flags             int64  \n",
      " 31  Bwd PSH Flags             int64  \n",
      " 32  Fwd URG Flags             int64  \n",
      " 33  Bwd URG Flags             int64  \n",
      " 34  Fwd Header Length         int64  \n",
      " 35  Bwd Header Length         int64  \n",
      " 36  Fwd Packets/s             float64\n",
      " 37  Bwd Packets/s             float64\n",
      " 38  Packet Length Min         float64\n",
      " 39  Packet Length Max         float64\n",
      " 40  Packet Length Mean        float64\n",
      " 41  Packet Length Std         float64\n",
      " 42  Packet Length Variance    float64\n",
      " 43  FIN Flag Count            int64  \n",
      " 44  SYN Flag Count            int64  \n",
      " 45  RST Flag Count            int64  \n",
      " 46  PSH Flag Count            int64  \n",
      " 47  ACK Flag Count            int64  \n",
      " 48  URG Flag Count            int64  \n",
      " 49  CWE Flag Count            int64  \n",
      " 50  ECE Flag Count            int64  \n",
      " 51  Down/Up Ratio             float64\n",
      " 52  Avg Packet Size           float64\n",
      " 53  Avg Fwd Segment Size      float64\n",
      " 54  Avg Bwd Segment Size      float64\n",
      " 55  Fwd Avg Bytes/Bulk        int64  \n",
      " 56  Fwd Avg Packets/Bulk      int64  \n",
      " 57  Fwd Avg Bulk Rate         int64  \n",
      " 58  Bwd Avg Bytes/Bulk        int64  \n",
      " 59  Bwd Avg Packets/Bulk      int64  \n",
      " 60  Bwd Avg Bulk Rate         int64  \n",
      " 61  Subflow Fwd Packets       int64  \n",
      " 62  Subflow Fwd Bytes         int64  \n",
      " 63  Subflow Bwd Packets       int64  \n",
      " 64  Subflow Bwd Bytes         int64  \n",
      " 65  Init Fwd Win Bytes        int64  \n",
      " 66  Init Bwd Win Bytes        int64  \n",
      " 67  Fwd Act Data Packets      int64  \n",
      " 68  Fwd Seg Size Min          int64  \n",
      " 69  Active Mean               float64\n",
      " 70  Active Std                float64\n",
      " 71  Active Max                float64\n",
      " 72  Active Min                float64\n",
      " 73  Idle Mean                 float64\n",
      " 74  Idle Std                  float64\n",
      " 75  Idle Max                  float64\n",
      " 76  Idle Min                  float64\n",
      " 77  Label                     object \n",
      " 78  Attack                    int64  \n",
      "dtypes: float64(45), int64(33), object(1)\n",
      "memory usage: 2.2+ GB\n"
     ]
    }
   ],
   "source": [
    "df_origin = pd.read_parquet('./CoAt_CIC-UNSW-NB15_Feeded.parquet', engine='pyarrow')\n",
    "df_origin.info()"
   ]
  },
  {
   "cell_type": "code",
   "execution_count": 19,
   "id": "42871924-79ec-42d7-860f-89b36f61050a",
   "metadata": {},
   "outputs": [],
   "source": [
    "df_origin['Protocol'] = df_origin['Protocol'].astype('int8')\n",
    "df_origin['Total Fwd Packets'] = df_origin['Total Fwd Packets'].astype('int32')\n",
    "df_origin['Total Backward Packets'] = df_origin['Total Backward Packets'].astype('int32')\n",
    "df_origin['Fwd Packet Length Min'] = df_origin['Fwd Packet Length Min'].astype('float32')\n",
    "df_origin['Fwd Packet Length Mean'] = df_origin['Fwd Packet Length Mean'].astype('float32')\n",
    "df_origin['Fwd Packet Length Std'] = df_origin['Fwd Packet Length Std'].astype('float32')\n",
    "df_origin['Bwd Packet Length Min'] = df_origin['Bwd Packet Length Min'].astype('float32')\n",
    "df_origin['Bwd Packet Length Mean'] = df_origin['Bwd Packet Length Mean'].astype('float32')\n",
    "df_origin['Bwd Packet Length Std'] = df_origin['Bwd Packet Length Std'].astype('float32')\n",
    "df_origin['Flow IAT Mean'] = df_origin['Flow IAT Mean'].astype('float32')\n",
    "df_origin['Flow IAT Std'] = df_origin['Flow IAT Std'].astype('float32')\n",
    "df_origin['Fwd IAT Mean'] = df_origin['Fwd IAT Mean'].astype('float32')\n",
    "df_origin['Fwd IAT Std'] = df_origin['Fwd IAT Std'].astype('float32')\n",
    "df_origin['Bwd IAT Mean'] = df_origin['Bwd IAT Mean'].astype('float32')\n",
    "df_origin['Bwd IAT Std'] = df_origin['Bwd IAT Std'].astype('float32')\n",
    "df_origin['Fwd PSH Flags'] = df_origin['Fwd PSH Flags'].astype('int16')\n",
    "df_origin['Bwd PSH Flags'] = df_origin['Bwd PSH Flags'].astype('int16')\n",
    "df_origin['Fwd URG Flags'] = df_origin['Fwd URG Flags'].astype('int8')\n",
    "df_origin['Bwd URG Flags'] = df_origin['Bwd URG Flags'].astype('int8')\n",
    "df_origin['Fwd Header Length'] = df_origin['Fwd Header Length'].astype('int32')\n",
    "df_origin['Bwd Header Length'] = df_origin['Bwd Header Length'].astype('int32')\n",
    "df_origin['Fwd Packets/s'] = df_origin['Fwd Packets/s'].astype('float32')\n",
    "df_origin['Bwd Packets/s'] = df_origin['Bwd Packets/s'].astype('float32')\n",
    "df_origin['Packet Length Min'] = df_origin['Packet Length Min'].astype('float32')\n",
    "df_origin['Packet Length Mean'] = df_origin['Packet Length Mean'].astype('float32')\n",
    "df_origin['Packet Length Std'] = df_origin['Packet Length Std'].astype('float32')\n",
    "df_origin['Packet Length Variance'] = df_origin['Packet Length Variance'].astype('float32')\n",
    "df_origin['FIN Flag Count'] = df_origin['FIN Flag Count'].astype('int8')\n",
    "df_origin['SYN Flag Count'] = df_origin['SYN Flag Count'].astype('int8')\n",
    "df_origin['RST Flag Count'] = df_origin['RST Flag Count'].astype('int16')\n",
    "df_origin['PSH Flag Count'] = df_origin['PSH Flag Count'].astype('int16')\n",
    "df_origin['ACK Flag Count'] = df_origin['ACK Flag Count'].astype('int32')\n",
    "df_origin['URG Flag Count'] = df_origin['URG Flag Count'].astype('int8')\n",
    "df_origin['CWE Flag Count'] = df_origin['CWE Flag Count'].astype('int8')\n",
    "df_origin['ECE Flag Count'] = df_origin['ECE Flag Count'].astype('int8')\n",
    "df_origin['Down/Up Ratio'] = df_origin['Down/Up Ratio'].astype('float32')\n",
    "df_origin['Avg Packet Size'] = df_origin['Avg Packet Size'].astype('float32')\n",
    "df_origin['Avg Fwd Segment Size'] = df_origin['Avg Fwd Segment Size'].astype('float32')\n",
    "df_origin['Avg Bwd Segment Size'] = df_origin['Avg Bwd Segment Size'].astype('float32')\n",
    "df_origin['Fwd Avg Bytes/Bulk'] = df_origin['Fwd Avg Bytes/Bulk'].astype('int32')\n",
    "df_origin['Fwd Avg Packets/Bulk'] = df_origin['Fwd Avg Packets/Bulk'].astype('int16')\n",
    "df_origin['Fwd Avg Bulk Rate'] = df_origin['Fwd Avg Bulk Rate'].astype('int32')\n",
    "df_origin['Bwd Avg Bytes/Bulk'] = df_origin['Bwd Avg Bytes/Bulk'].astype('int32')\n",
    "df_origin['Bwd Avg Packets/Bulk'] = df_origin['Bwd Avg Packets/Bulk'].astype('int32')\n",
    "df_origin['Bwd Avg Bulk Rate'] = df_origin['Bwd Avg Bulk Rate'].astype('int32')\n",
    "df_origin['Subflow Fwd Packets'] = df_origin['Subflow Fwd Packets'].astype('int32')\n",
    "df_origin['Subflow Fwd Bytes'] = df_origin['Subflow Fwd Bytes'].astype('int32')\n",
    "df_origin['Subflow Bwd Packets'] = df_origin['Subflow Bwd Packets'].astype('int32')\n",
    "df_origin['Subflow Bwd Bytes'] = df_origin['Subflow Bwd Bytes'].astype('int32')\n",
    "df_origin['Init Fwd Win Bytes'] = df_origin['Init Fwd Win Bytes'].astype('int32')\n",
    "df_origin['Init Bwd Win Bytes'] = df_origin['Init Bwd Win Bytes'].astype('int32')\n",
    "df_origin['Fwd Act Data Packets'] = df_origin['Fwd Act Data Packets'].astype('int32')\n",
    "df_origin['Fwd Seg Size Min'] = df_origin['Fwd Seg Size Min'].astype('int8')\n",
    "df_origin['Active Mean'] = df_origin['Active Mean'].astype('float32')\n",
    "df_origin['Active Std'] = df_origin['Active Std'].astype('float32')\n",
    "df_origin['Active Max'] = df_origin['Active Max'].astype('float64')\n",
    "df_origin['Active Min'] = df_origin['Active Min'].astype('float64')\n",
    "df_origin['Idle Mean'] = df_origin['Idle Mean'].astype('float32')\n",
    "df_origin['Idle Std'] = df_origin['Idle Std'].astype('float32')\n",
    "df_origin['Idle Max'] = df_origin['Idle Max'].astype('float64')\n",
    "df_origin['Idle Min'] = df_origin['Idle Min'].astype('float64')"
   ]
  },
  {
   "cell_type": "code",
   "execution_count": 20,
   "id": "3c7a41ff-44ae-49a0-acca-0e84dbe72881",
   "metadata": {},
   "outputs": [
    {
     "name": "stdout",
     "output_type": "stream",
     "text": [
      "<class 'pandas.core.frame.DataFrame'>\n",
      "Index: 3630918 entries, 26 to 362173\n",
      "Data columns (total 79 columns):\n",
      " #   Column                    Dtype  \n",
      "---  ------                    -----  \n",
      " 0   Protocol                  int8   \n",
      " 1   Flow Duration             int64  \n",
      " 2   Total Fwd Packets         int32  \n",
      " 3   Total Backward Packets    int32  \n",
      " 4   Fwd Packets Length Total  float64\n",
      " 5   Bwd Packets Length Total  float64\n",
      " 6   Fwd Packet Length Max     float64\n",
      " 7   Fwd Packet Length Min     float32\n",
      " 8   Fwd Packet Length Mean    float32\n",
      " 9   Fwd Packet Length Std     float32\n",
      " 10  Bwd Packet Length Max     float64\n",
      " 11  Bwd Packet Length Min     float32\n",
      " 12  Bwd Packet Length Mean    float32\n",
      " 13  Bwd Packet Length Std     float32\n",
      " 14  Flow Bytes/s              float64\n",
      " 15  Flow Packets/s            float64\n",
      " 16  Flow IAT Mean             float32\n",
      " 17  Flow IAT Std              float32\n",
      " 18  Flow IAT Max              float64\n",
      " 19  Flow IAT Min              float64\n",
      " 20  Fwd IAT Total             float64\n",
      " 21  Fwd IAT Mean              float32\n",
      " 22  Fwd IAT Std               float32\n",
      " 23  Fwd IAT Max               float64\n",
      " 24  Fwd IAT Min               float64\n",
      " 25  Bwd IAT Total             float64\n",
      " 26  Bwd IAT Mean              float32\n",
      " 27  Bwd IAT Std               float32\n",
      " 28  Bwd IAT Max               float64\n",
      " 29  Bwd IAT Min               float64\n",
      " 30  Fwd PSH Flags             int16  \n",
      " 31  Bwd PSH Flags             int16  \n",
      " 32  Fwd URG Flags             int8   \n",
      " 33  Bwd URG Flags             int8   \n",
      " 34  Fwd Header Length         int32  \n",
      " 35  Bwd Header Length         int32  \n",
      " 36  Fwd Packets/s             float32\n",
      " 37  Bwd Packets/s             float32\n",
      " 38  Packet Length Min         float32\n",
      " 39  Packet Length Max         float64\n",
      " 40  Packet Length Mean        float32\n",
      " 41  Packet Length Std         float32\n",
      " 42  Packet Length Variance    float32\n",
      " 43  FIN Flag Count            int8   \n",
      " 44  SYN Flag Count            int8   \n",
      " 45  RST Flag Count            int16  \n",
      " 46  PSH Flag Count            int16  \n",
      " 47  ACK Flag Count            int32  \n",
      " 48  URG Flag Count            int8   \n",
      " 49  CWE Flag Count            int8   \n",
      " 50  ECE Flag Count            int8   \n",
      " 51  Down/Up Ratio             float32\n",
      " 52  Avg Packet Size           float32\n",
      " 53  Avg Fwd Segment Size      float32\n",
      " 54  Avg Bwd Segment Size      float32\n",
      " 55  Fwd Avg Bytes/Bulk        int32  \n",
      " 56  Fwd Avg Packets/Bulk      int16  \n",
      " 57  Fwd Avg Bulk Rate         int32  \n",
      " 58  Bwd Avg Bytes/Bulk        int32  \n",
      " 59  Bwd Avg Packets/Bulk      int32  \n",
      " 60  Bwd Avg Bulk Rate         int32  \n",
      " 61  Subflow Fwd Packets       int32  \n",
      " 62  Subflow Fwd Bytes         int32  \n",
      " 63  Subflow Bwd Packets       int32  \n",
      " 64  Subflow Bwd Bytes         int32  \n",
      " 65  Init Fwd Win Bytes        int32  \n",
      " 66  Init Bwd Win Bytes        int32  \n",
      " 67  Fwd Act Data Packets      int32  \n",
      " 68  Fwd Seg Size Min          int8   \n",
      " 69  Active Mean               float32\n",
      " 70  Active Std                float32\n",
      " 71  Active Max                float64\n",
      " 72  Active Min                float64\n",
      " 73  Idle Mean                 float32\n",
      " 74  Idle Std                  float32\n",
      " 75  Idle Max                  float64\n",
      " 76  Idle Min                  float64\n",
      " 77  Label                     object \n",
      " 78  Attack                    int64  \n",
      "dtypes: float32(26), float64(19), int16(5), int32(17), int64(2), int8(9), object(1)\n",
      "memory usage: 1.3+ GB\n"
     ]
    }
   ],
   "source": [
    "df_origin.info()"
   ]
  },
  {
   "cell_type": "code",
   "execution_count": 21,
   "id": "20c64d1c-fd53-4c93-8fe9-8a1ff9b8ccc2",
   "metadata": {},
   "outputs": [],
   "source": [
    "df_origin.to_parquet(f\"./CoAt_CIC-UNSW-NB15_Feeded-V2.parquet\")"
   ]
  },
  {
   "cell_type": "code",
   "execution_count": null,
   "id": "a0c4f0b3-30ad-459b-8a77-749c8aada04e",
   "metadata": {},
   "outputs": [],
   "source": []
  }
 ],
 "metadata": {
  "kernelspec": {
   "display_name": "Python 3 (ipykernel)",
   "language": "python",
   "name": "python3"
  },
  "language_info": {
   "codemirror_mode": {
    "name": "ipython",
    "version": 3
   },
   "file_extension": ".py",
   "mimetype": "text/x-python",
   "name": "python",
   "nbconvert_exporter": "python",
   "pygments_lexer": "ipython3",
   "version": "3.12.5"
  }
 },
 "nbformat": 4,
 "nbformat_minor": 5
}
