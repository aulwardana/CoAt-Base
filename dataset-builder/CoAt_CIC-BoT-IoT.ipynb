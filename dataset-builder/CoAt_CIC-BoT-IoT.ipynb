{
 "cells": [
  {
   "cell_type": "code",
   "execution_count": 1,
   "id": "42d888f5-ec18-4601-b61a-8a1bae7f8722",
   "metadata": {},
   "outputs": [],
   "source": [
    "import pandas as pd\n",
    "import numpy as np"
   ]
  },
  {
   "cell_type": "code",
   "execution_count": 3,
   "id": "76c80c3c-4ef4-4af8-a37d-722bb82b2d0a",
   "metadata": {},
   "outputs": [],
   "source": [
    "df = pd.read_parquet('./CIC-BoT-IoT-V2.parquet', engine='pyarrow')"
   ]
  },
  {
   "cell_type": "code",
   "execution_count": 4,
   "id": "55ce4946-3001-46bf-83d5-2c8029d6b689",
   "metadata": {},
   "outputs": [
    {
     "name": "stdout",
     "output_type": "stream",
     "text": [
      "<class 'pandas.core.frame.DataFrame'>\n",
      "RangeIndex: 11503556 entries, 0 to 11503555\n",
      "Data columns (total 79 columns):\n",
      " #   Column                    Dtype   \n",
      "---  ------                    -----   \n",
      " 0   Protocol                  int8    \n",
      " 1   Flow Duration             int32   \n",
      " 2   Total Fwd Packets         int32   \n",
      " 3   Total Backward Packets    int16   \n",
      " 4   Fwd Packets Length Total  float32 \n",
      " 5   Bwd Packets Length Total  float32 \n",
      " 6   Fwd Packet Length Max     float32 \n",
      " 7   Fwd Packet Length Min     float32 \n",
      " 8   Fwd Packet Length Mean    float32 \n",
      " 9   Fwd Packet Length Std     float32 \n",
      " 10  Bwd Packet Length Max     float32 \n",
      " 11  Bwd Packet Length Min     float32 \n",
      " 12  Bwd Packet Length Mean    float32 \n",
      " 13  Bwd Packet Length Std     float32 \n",
      " 14  Flow Bytes/s              float64 \n",
      " 15  Flow Packets/s            float64 \n",
      " 16  Flow IAT Mean             float32 \n",
      " 17  Flow IAT Std              float32 \n",
      " 18  Flow IAT Max              float32 \n",
      " 19  Flow IAT Min              float32 \n",
      " 20  Fwd IAT Total             float32 \n",
      " 21  Fwd IAT Mean              float32 \n",
      " 22  Fwd IAT Std               float32 \n",
      " 23  Fwd IAT Max               float32 \n",
      " 24  Fwd IAT Min               float32 \n",
      " 25  Bwd IAT Total             float32 \n",
      " 26  Bwd IAT Mean              float32 \n",
      " 27  Bwd IAT Std               float32 \n",
      " 28  Bwd IAT Max               float32 \n",
      " 29  Bwd IAT Min               float32 \n",
      " 30  Fwd PSH Flags             int8    \n",
      " 31  Bwd PSH Flags             int8    \n",
      " 32  Fwd URG Flags             int8    \n",
      " 33  Bwd URG Flags             int8    \n",
      " 34  Fwd Header Length         int32   \n",
      " 35  Bwd Header Length         int32   \n",
      " 36  Fwd Packets/s             float32 \n",
      " 37  Bwd Packets/s             float32 \n",
      " 38  Packet Length Min         float32 \n",
      " 39  Packet Length Max         float32 \n",
      " 40  Packet Length Mean        float32 \n",
      " 41  Packet Length Std         float32 \n",
      " 42  Packet Length Variance    float32 \n",
      " 43  FIN Flag Count            int8    \n",
      " 44  SYN Flag Count            int8    \n",
      " 45  RST Flag Count            int8    \n",
      " 46  PSH Flag Count            int8    \n",
      " 47  ACK Flag Count            int8    \n",
      " 48  URG Flag Count            int8    \n",
      " 49  CWE Flag Count            int8    \n",
      " 50  ECE Flag Count            int8    \n",
      " 51  Down/Up Ratio             float32 \n",
      " 52  Avg Packet Size           float32 \n",
      " 53  Avg Fwd Segment Size      float32 \n",
      " 54  Avg Bwd Segment Size      float32 \n",
      " 55  Fwd Avg Bytes/Bulk        int8    \n",
      " 56  Fwd Avg Packets/Bulk      int8    \n",
      " 57  Fwd Avg Bulk Rate         int8    \n",
      " 58  Bwd Avg Bytes/Bulk        int8    \n",
      " 59  Bwd Avg Packets/Bulk      int8    \n",
      " 60  Bwd Avg Bulk Rate         int8    \n",
      " 61  Subflow Fwd Packets       int32   \n",
      " 62  Subflow Fwd Bytes         int32   \n",
      " 63  Subflow Bwd Packets       int16   \n",
      " 64  Subflow Bwd Bytes         int32   \n",
      " 65  Init Fwd Win Bytes        int8    \n",
      " 66  Init Bwd Win Bytes        int32   \n",
      " 67  Fwd Act Data Packets      int32   \n",
      " 68  Fwd Seg Size Min          int8    \n",
      " 69  Active Mean               float32 \n",
      " 70  Active Std                float32 \n",
      " 71  Active Max                float32 \n",
      " 72  Active Min                float32 \n",
      " 73  Idle Mean                 float32 \n",
      " 74  Idle Std                  float32 \n",
      " 75  Idle Max                  float32 \n",
      " 76  Idle Min                  float32 \n",
      " 77  Label                     int8    \n",
      " 78  Attack                    category\n",
      "dtypes: category(1), float32(43), float64(2), int16(2), int32(9), int8(22)\n",
      "memory usage: 2.7 GB\n"
     ]
    }
   ],
   "source": [
    "df.info()"
   ]
  },
  {
   "cell_type": "code",
   "execution_count": 5,
   "id": "b0b49a00-c016-4ad7-8ab6-58c7151e4a29",
   "metadata": {},
   "outputs": [
    {
     "data": {
      "text/plain": [
       "Label\n",
       "1    11465121\n",
       "0       38435\n",
       "Name: count, dtype: int64"
      ]
     },
     "execution_count": 5,
     "metadata": {},
     "output_type": "execute_result"
    }
   ],
   "source": [
    "df['Label'].value_counts()"
   ]
  },
  {
   "cell_type": "code",
   "execution_count": 6,
   "id": "32753089-f627-45e9-a975-c455f1fda7ec",
   "metadata": {},
   "outputs": [
    {
     "data": {
      "text/plain": [
       "Attack\n",
       "DDoS              4786502\n",
       "DoS               4781782\n",
       "Reconnaissance    1896036\n",
       "Benign              38435\n",
       "Theft                 801\n",
       "Name: count, dtype: int64"
      ]
     },
     "execution_count": 6,
     "metadata": {},
     "output_type": "execute_result"
    }
   ],
   "source": [
    "df['Attack'].value_counts()"
   ]
  },
  {
   "cell_type": "code",
   "execution_count": 7,
   "id": "be320f5c-665e-4ddd-8e4b-4194aeadcb63",
   "metadata": {},
   "outputs": [],
   "source": [
    "df.rename(columns={'Label': 'Attack', 'Attack': 'Label'}, inplace=True)"
   ]
  },
  {
   "cell_type": "code",
   "execution_count": 8,
   "id": "50e873cf-a8a2-4fb8-9a05-5024053dbd65",
   "metadata": {},
   "outputs": [],
   "source": [
    "df['Label'] = df['Label'].astype(object)"
   ]
  },
  {
   "cell_type": "code",
   "execution_count": 9,
   "id": "5facf373-2b15-4ae2-a996-314bb178660e",
   "metadata": {},
   "outputs": [],
   "source": [
    "df['Attack'] = df['Attack'].astype(int)"
   ]
  },
  {
   "cell_type": "code",
   "execution_count": 10,
   "id": "66ce4c65-fea2-4fb1-9ce7-6ead60a085ed",
   "metadata": {},
   "outputs": [
    {
     "name": "stdout",
     "output_type": "stream",
     "text": [
      "<class 'pandas.core.frame.DataFrame'>\n",
      "RangeIndex: 11503556 entries, 0 to 11503555\n",
      "Data columns (total 79 columns):\n",
      " #   Column                    Dtype  \n",
      "---  ------                    -----  \n",
      " 0   Protocol                  int8   \n",
      " 1   Flow Duration             int32  \n",
      " 2   Total Fwd Packets         int32  \n",
      " 3   Total Backward Packets    int16  \n",
      " 4   Fwd Packets Length Total  float32\n",
      " 5   Bwd Packets Length Total  float32\n",
      " 6   Fwd Packet Length Max     float32\n",
      " 7   Fwd Packet Length Min     float32\n",
      " 8   Fwd Packet Length Mean    float32\n",
      " 9   Fwd Packet Length Std     float32\n",
      " 10  Bwd Packet Length Max     float32\n",
      " 11  Bwd Packet Length Min     float32\n",
      " 12  Bwd Packet Length Mean    float32\n",
      " 13  Bwd Packet Length Std     float32\n",
      " 14  Flow Bytes/s              float64\n",
      " 15  Flow Packets/s            float64\n",
      " 16  Flow IAT Mean             float32\n",
      " 17  Flow IAT Std              float32\n",
      " 18  Flow IAT Max              float32\n",
      " 19  Flow IAT Min              float32\n",
      " 20  Fwd IAT Total             float32\n",
      " 21  Fwd IAT Mean              float32\n",
      " 22  Fwd IAT Std               float32\n",
      " 23  Fwd IAT Max               float32\n",
      " 24  Fwd IAT Min               float32\n",
      " 25  Bwd IAT Total             float32\n",
      " 26  Bwd IAT Mean              float32\n",
      " 27  Bwd IAT Std               float32\n",
      " 28  Bwd IAT Max               float32\n",
      " 29  Bwd IAT Min               float32\n",
      " 30  Fwd PSH Flags             int8   \n",
      " 31  Bwd PSH Flags             int8   \n",
      " 32  Fwd URG Flags             int8   \n",
      " 33  Bwd URG Flags             int8   \n",
      " 34  Fwd Header Length         int32  \n",
      " 35  Bwd Header Length         int32  \n",
      " 36  Fwd Packets/s             float32\n",
      " 37  Bwd Packets/s             float32\n",
      " 38  Packet Length Min         float32\n",
      " 39  Packet Length Max         float32\n",
      " 40  Packet Length Mean        float32\n",
      " 41  Packet Length Std         float32\n",
      " 42  Packet Length Variance    float32\n",
      " 43  FIN Flag Count            int8   \n",
      " 44  SYN Flag Count            int8   \n",
      " 45  RST Flag Count            int8   \n",
      " 46  PSH Flag Count            int8   \n",
      " 47  ACK Flag Count            int8   \n",
      " 48  URG Flag Count            int8   \n",
      " 49  CWE Flag Count            int8   \n",
      " 50  ECE Flag Count            int8   \n",
      " 51  Down/Up Ratio             float32\n",
      " 52  Avg Packet Size           float32\n",
      " 53  Avg Fwd Segment Size      float32\n",
      " 54  Avg Bwd Segment Size      float32\n",
      " 55  Fwd Avg Bytes/Bulk        int8   \n",
      " 56  Fwd Avg Packets/Bulk      int8   \n",
      " 57  Fwd Avg Bulk Rate         int8   \n",
      " 58  Bwd Avg Bytes/Bulk        int8   \n",
      " 59  Bwd Avg Packets/Bulk      int8   \n",
      " 60  Bwd Avg Bulk Rate         int8   \n",
      " 61  Subflow Fwd Packets       int32  \n",
      " 62  Subflow Fwd Bytes         int32  \n",
      " 63  Subflow Bwd Packets       int16  \n",
      " 64  Subflow Bwd Bytes         int32  \n",
      " 65  Init Fwd Win Bytes        int8   \n",
      " 66  Init Bwd Win Bytes        int32  \n",
      " 67  Fwd Act Data Packets      int32  \n",
      " 68  Fwd Seg Size Min          int8   \n",
      " 69  Active Mean               float32\n",
      " 70  Active Std                float32\n",
      " 71  Active Max                float32\n",
      " 72  Active Min                float32\n",
      " 73  Idle Mean                 float32\n",
      " 74  Idle Std                  float32\n",
      " 75  Idle Max                  float32\n",
      " 76  Idle Min                  float32\n",
      " 77  Attack                    int64  \n",
      " 78  Label                     object \n",
      "dtypes: float32(43), float64(2), int16(2), int32(9), int64(1), int8(21), object(1)\n",
      "memory usage: 2.8+ GB\n"
     ]
    }
   ],
   "source": [
    "df.info()"
   ]
  },
  {
   "cell_type": "code",
   "execution_count": 11,
   "id": "2373228a-0afb-4e53-a836-a527afa32c3e",
   "metadata": {},
   "outputs": [
    {
     "data": {
      "text/plain": [
       "Label\n",
       "DDoS              4786502\n",
       "DoS               4781782\n",
       "Reconnaissance    1896036\n",
       "Benign              38435\n",
       "Theft                 801\n",
       "Name: count, dtype: int64"
      ]
     },
     "execution_count": 11,
     "metadata": {},
     "output_type": "execute_result"
    }
   ],
   "source": [
    "df['Label'].value_counts()"
   ]
  },
  {
   "cell_type": "code",
   "execution_count": 12,
   "id": "4c2c5df2-6d89-40f3-8b70-9965b6e646ee",
   "metadata": {},
   "outputs": [
    {
     "data": {
      "text/plain": [
       "Attack\n",
       "1    11465121\n",
       "0       38435\n",
       "Name: count, dtype: int64"
      ]
     },
     "execution_count": 12,
     "metadata": {},
     "output_type": "execute_result"
    }
   ],
   "source": [
    "df['Attack'].value_counts()"
   ]
  },
  {
   "cell_type": "code",
   "execution_count": 13,
   "id": "e05bd535-52f2-4935-9c04-4f37e9201512",
   "metadata": {},
   "outputs": [
    {
     "data": {
      "text/plain": [
       "Label\n",
       "Benign    38435\n",
       "Name: count, dtype: int64"
      ]
     },
     "execution_count": 13,
     "metadata": {},
     "output_type": "execute_result"
    }
   ],
   "source": [
    "df_BENIGN = df.loc[df['Label'] == 'Benign']\n",
    "df_BENIGN['Label'].value_counts()"
   ]
  },
  {
   "cell_type": "code",
   "execution_count": 14,
   "id": "b26f6197-a5c5-4470-8793-9120854e2a55",
   "metadata": {},
   "outputs": [
    {
     "data": {
      "text/plain": [
       "Label\n",
       "Reconnaissance    1896036\n",
       "Name: count, dtype: int64"
      ]
     },
     "execution_count": 14,
     "metadata": {},
     "output_type": "execute_result"
    }
   ],
   "source": [
    "df_Scan = df.loc[df['Label'] == 'Reconnaissance']\n",
    "df_Scan['Label'].value_counts()"
   ]
  },
  {
   "cell_type": "code",
   "execution_count": 15,
   "id": "46be79b1-cc8d-4793-9c88-fc8aac241c13",
   "metadata": {},
   "outputs": [
    {
     "data": {
      "text/plain": [
       "Label\n",
       "Theft    801\n",
       "Name: count, dtype: int64"
      ]
     },
     "execution_count": 15,
     "metadata": {},
     "output_type": "execute_result"
    }
   ],
   "source": [
    "df_Worm = df.loc[df['Label'] == 'Theft']\n",
    "df_Worm['Label'].value_counts()"
   ]
  },
  {
   "cell_type": "code",
   "execution_count": 16,
   "id": "46254b87-a087-455e-9c23-5009561852b5",
   "metadata": {},
   "outputs": [
    {
     "data": {
      "text/plain": [
       "Label\n",
       "DDoS    4786502\n",
       "Name: count, dtype: int64"
      ]
     },
     "execution_count": 16,
     "metadata": {},
     "output_type": "execute_result"
    }
   ],
   "source": [
    "df_DDoS = df.loc[df['Label'] == 'DDoS']\n",
    "df_DDoS['Label'].value_counts()"
   ]
  },
  {
   "cell_type": "code",
   "execution_count": 17,
   "id": "ac8202b2-db16-4db8-98c4-d5202836b10a",
   "metadata": {},
   "outputs": [],
   "source": [
    "df_coat = pd.concat([df_BENIGN, df_Scan, df_Worm, df_DDoS])"
   ]
  },
  {
   "cell_type": "code",
   "execution_count": 18,
   "id": "fa81edee-f352-44db-aa2f-990e32c7a39e",
   "metadata": {},
   "outputs": [
    {
     "data": {
      "text/plain": [
       "Label\n",
       "DDoS              4786502\n",
       "Reconnaissance    1896036\n",
       "Benign              38435\n",
       "Theft                 801\n",
       "Name: count, dtype: int64"
      ]
     },
     "execution_count": 18,
     "metadata": {},
     "output_type": "execute_result"
    }
   ],
   "source": [
    "df_coat['Label'].value_counts()"
   ]
  },
  {
   "cell_type": "code",
   "execution_count": 19,
   "id": "e0063a8a-d0ba-45b6-b828-ce81b0084f61",
   "metadata": {},
   "outputs": [],
   "source": [
    "df_coat['Label'] = df_coat['Label'].str.replace('Reconnaissance', 'Scan')"
   ]
  },
  {
   "cell_type": "code",
   "execution_count": 20,
   "id": "2286a90c-6f7a-4a1e-b064-b2e7775c1999",
   "metadata": {},
   "outputs": [],
   "source": [
    "df_coat['Label'] = df_coat['Label'].str.replace('Theft', 'Worm')"
   ]
  },
  {
   "cell_type": "code",
   "execution_count": 21,
   "id": "8ce9d547-c3c6-463b-9c67-bdcb84381535",
   "metadata": {},
   "outputs": [
    {
     "data": {
      "text/plain": [
       "Label\n",
       "DDoS      4786502\n",
       "Scan      1896036\n",
       "Benign      38435\n",
       "Worm          801\n",
       "Name: count, dtype: int64"
      ]
     },
     "execution_count": 21,
     "metadata": {},
     "output_type": "execute_result"
    }
   ],
   "source": [
    "df_coat['Label'].value_counts()"
   ]
  },
  {
   "cell_type": "code",
   "execution_count": 22,
   "id": "4341f228-1b6a-4454-b7bd-a7d79ac49083",
   "metadata": {},
   "outputs": [
    {
     "name": "stdout",
     "output_type": "stream",
     "text": [
      "<class 'pandas.core.frame.DataFrame'>\n",
      "Index: 6721774 entries, 12 to 11503553\n",
      "Data columns (total 79 columns):\n",
      " #   Column                    Dtype  \n",
      "---  ------                    -----  \n",
      " 0   Protocol                  int8   \n",
      " 1   Flow Duration             int32  \n",
      " 2   Total Fwd Packets         int32  \n",
      " 3   Total Backward Packets    int16  \n",
      " 4   Fwd Packets Length Total  float32\n",
      " 5   Bwd Packets Length Total  float32\n",
      " 6   Fwd Packet Length Max     float32\n",
      " 7   Fwd Packet Length Min     float32\n",
      " 8   Fwd Packet Length Mean    float32\n",
      " 9   Fwd Packet Length Std     float32\n",
      " 10  Bwd Packet Length Max     float32\n",
      " 11  Bwd Packet Length Min     float32\n",
      " 12  Bwd Packet Length Mean    float32\n",
      " 13  Bwd Packet Length Std     float32\n",
      " 14  Flow Bytes/s              float64\n",
      " 15  Flow Packets/s            float64\n",
      " 16  Flow IAT Mean             float32\n",
      " 17  Flow IAT Std              float32\n",
      " 18  Flow IAT Max              float32\n",
      " 19  Flow IAT Min              float32\n",
      " 20  Fwd IAT Total             float32\n",
      " 21  Fwd IAT Mean              float32\n",
      " 22  Fwd IAT Std               float32\n",
      " 23  Fwd IAT Max               float32\n",
      " 24  Fwd IAT Min               float32\n",
      " 25  Bwd IAT Total             float32\n",
      " 26  Bwd IAT Mean              float32\n",
      " 27  Bwd IAT Std               float32\n",
      " 28  Bwd IAT Max               float32\n",
      " 29  Bwd IAT Min               float32\n",
      " 30  Fwd PSH Flags             int8   \n",
      " 31  Bwd PSH Flags             int8   \n",
      " 32  Fwd URG Flags             int8   \n",
      " 33  Bwd URG Flags             int8   \n",
      " 34  Fwd Header Length         int32  \n",
      " 35  Bwd Header Length         int32  \n",
      " 36  Fwd Packets/s             float32\n",
      " 37  Bwd Packets/s             float32\n",
      " 38  Packet Length Min         float32\n",
      " 39  Packet Length Max         float32\n",
      " 40  Packet Length Mean        float32\n",
      " 41  Packet Length Std         float32\n",
      " 42  Packet Length Variance    float32\n",
      " 43  FIN Flag Count            int8   \n",
      " 44  SYN Flag Count            int8   \n",
      " 45  RST Flag Count            int8   \n",
      " 46  PSH Flag Count            int8   \n",
      " 47  ACK Flag Count            int8   \n",
      " 48  URG Flag Count            int8   \n",
      " 49  CWE Flag Count            int8   \n",
      " 50  ECE Flag Count            int8   \n",
      " 51  Down/Up Ratio             float32\n",
      " 52  Avg Packet Size           float32\n",
      " 53  Avg Fwd Segment Size      float32\n",
      " 54  Avg Bwd Segment Size      float32\n",
      " 55  Fwd Avg Bytes/Bulk        int8   \n",
      " 56  Fwd Avg Packets/Bulk      int8   \n",
      " 57  Fwd Avg Bulk Rate         int8   \n",
      " 58  Bwd Avg Bytes/Bulk        int8   \n",
      " 59  Bwd Avg Packets/Bulk      int8   \n",
      " 60  Bwd Avg Bulk Rate         int8   \n",
      " 61  Subflow Fwd Packets       int32  \n",
      " 62  Subflow Fwd Bytes         int32  \n",
      " 63  Subflow Bwd Packets       int16  \n",
      " 64  Subflow Bwd Bytes         int32  \n",
      " 65  Init Fwd Win Bytes        int8   \n",
      " 66  Init Bwd Win Bytes        int32  \n",
      " 67  Fwd Act Data Packets      int32  \n",
      " 68  Fwd Seg Size Min          int8   \n",
      " 69  Active Mean               float32\n",
      " 70  Active Std                float32\n",
      " 71  Active Max                float32\n",
      " 72  Active Min                float32\n",
      " 73  Idle Mean                 float32\n",
      " 74  Idle Std                  float32\n",
      " 75  Idle Max                  float32\n",
      " 76  Idle Min                  float32\n",
      " 77  Attack                    int64  \n",
      " 78  Label                     object \n",
      "dtypes: float32(43), float64(2), int16(2), int32(9), int64(1), int8(21), object(1)\n",
      "memory usage: 1.7+ GB\n"
     ]
    }
   ],
   "source": [
    "df_coat.info()"
   ]
  },
  {
   "cell_type": "code",
   "execution_count": 23,
   "id": "3a17ee02-bbf3-4b69-82d4-a38b433571a6",
   "metadata": {},
   "outputs": [],
   "source": [
    "df_coat.to_parquet(f\"./CoAt_CIC-BoT-IoT.parquet\")"
   ]
  },
  {
   "cell_type": "code",
   "execution_count": 12,
   "id": "0168e0fd-bef2-46d8-ad53-8688fc5adbd1",
   "metadata": {},
   "outputs": [
    {
     "name": "stdout",
     "output_type": "stream",
     "text": [
      "<class 'pandas.core.frame.DataFrame'>\n",
      "Index: 6721774 entries, 12 to 11503553\n",
      "Data columns (total 79 columns):\n",
      " #   Column                    Dtype  \n",
      "---  ------                    -----  \n",
      " 0   Protocol                  int8   \n",
      " 1   Flow Duration             int32  \n",
      " 2   Total Fwd Packets         int32  \n",
      " 3   Total Backward Packets    int16  \n",
      " 4   Fwd Packets Length Total  float32\n",
      " 5   Bwd Packets Length Total  float32\n",
      " 6   Fwd Packet Length Max     float32\n",
      " 7   Fwd Packet Length Min     float32\n",
      " 8   Fwd Packet Length Mean    float32\n",
      " 9   Fwd Packet Length Std     float32\n",
      " 10  Bwd Packet Length Max     float32\n",
      " 11  Bwd Packet Length Min     float32\n",
      " 12  Bwd Packet Length Mean    float32\n",
      " 13  Bwd Packet Length Std     float32\n",
      " 14  Flow Bytes/s              float64\n",
      " 15  Flow Packets/s            float64\n",
      " 16  Flow IAT Mean             float32\n",
      " 17  Flow IAT Std              float32\n",
      " 18  Flow IAT Max              float32\n",
      " 19  Flow IAT Min              float32\n",
      " 20  Fwd IAT Total             float32\n",
      " 21  Fwd IAT Mean              float32\n",
      " 22  Fwd IAT Std               float32\n",
      " 23  Fwd IAT Max               float32\n",
      " 24  Fwd IAT Min               float32\n",
      " 25  Bwd IAT Total             float32\n",
      " 26  Bwd IAT Mean              float32\n",
      " 27  Bwd IAT Std               float32\n",
      " 28  Bwd IAT Max               float32\n",
      " 29  Bwd IAT Min               float32\n",
      " 30  Fwd PSH Flags             int8   \n",
      " 31  Bwd PSH Flags             int8   \n",
      " 32  Fwd URG Flags             int8   \n",
      " 33  Bwd URG Flags             int8   \n",
      " 34  Fwd Header Length         int32  \n",
      " 35  Bwd Header Length         int32  \n",
      " 36  Fwd Packets/s             float32\n",
      " 37  Bwd Packets/s             float32\n",
      " 38  Packet Length Min         float32\n",
      " 39  Packet Length Max         float32\n",
      " 40  Packet Length Mean        float32\n",
      " 41  Packet Length Std         float32\n",
      " 42  Packet Length Variance    float32\n",
      " 43  FIN Flag Count            int8   \n",
      " 44  SYN Flag Count            int8   \n",
      " 45  RST Flag Count            int8   \n",
      " 46  PSH Flag Count            int8   \n",
      " 47  ACK Flag Count            int8   \n",
      " 48  URG Flag Count            int8   \n",
      " 49  CWE Flag Count            int8   \n",
      " 50  ECE Flag Count            int8   \n",
      " 51  Down/Up Ratio             float32\n",
      " 52  Avg Packet Size           float32\n",
      " 53  Avg Fwd Segment Size      float32\n",
      " 54  Avg Bwd Segment Size      float32\n",
      " 55  Fwd Avg Bytes/Bulk        int8   \n",
      " 56  Fwd Avg Packets/Bulk      int8   \n",
      " 57  Fwd Avg Bulk Rate         int8   \n",
      " 58  Bwd Avg Bytes/Bulk        int8   \n",
      " 59  Bwd Avg Packets/Bulk      int8   \n",
      " 60  Bwd Avg Bulk Rate         int8   \n",
      " 61  Subflow Fwd Packets       int32  \n",
      " 62  Subflow Fwd Bytes         int32  \n",
      " 63  Subflow Bwd Packets       int16  \n",
      " 64  Subflow Bwd Bytes         int32  \n",
      " 65  Init Fwd Win Bytes        int8   \n",
      " 66  Init Bwd Win Bytes        int32  \n",
      " 67  Fwd Act Data Packets      int32  \n",
      " 68  Fwd Seg Size Min          int8   \n",
      " 69  Active Mean               float32\n",
      " 70  Active Std                float32\n",
      " 71  Active Max                float32\n",
      " 72  Active Min                float32\n",
      " 73  Idle Mean                 float32\n",
      " 74  Idle Std                  float32\n",
      " 75  Idle Max                  float32\n",
      " 76  Idle Min                  float32\n",
      " 77  Attack                    int64  \n",
      " 78  Label                     object \n",
      "dtypes: float32(43), float64(2), int16(2), int32(9), int64(1), int8(21), object(1)\n",
      "memory usage: 1.7+ GB\n"
     ]
    }
   ],
   "source": [
    "df_origin = pd.read_parquet('./CoAt_CIC-BoT-IoT.parquet', engine='pyarrow')\n",
    "df_origin.info()"
   ]
  },
  {
   "cell_type": "code",
   "execution_count": 13,
   "id": "0090dd07-8a84-4520-9633-d10d50672758",
   "metadata": {},
   "outputs": [],
   "source": [
    "df_origin['Flow Duration'] = df_origin['Flow Duration'].astype('int64')\n",
    "df_origin['Total Backward Packets'] = df_origin['Total Backward Packets'].astype('int32')\n",
    "df_origin['Fwd Packets Length Total'] = df_origin['Fwd Packets Length Total'].astype('float64')\n",
    "df_origin['Bwd Packets Length Total'] = df_origin['Bwd Packets Length Total'].astype('float64')\n",
    "df_origin['Fwd Packet Length Max'] = df_origin['Fwd Packet Length Max'].astype('float64')\n",
    "df_origin['Bwd Packet Length Max'] = df_origin['Bwd Packet Length Max'].astype('float64')\n",
    "df_origin['Flow IAT Max'] = df_origin['Flow IAT Max'].astype('float64')\n",
    "df_origin['Flow IAT Min'] = df_origin['Flow IAT Min'].astype('float64')\n",
    "df_origin['Fwd IAT Total'] = df_origin['Fwd IAT Total'].astype('float64')\n",
    "df_origin['Fwd IAT Max'] = df_origin['Fwd IAT Max'].astype('float64')\n",
    "df_origin['Fwd IAT Min'] = df_origin['Fwd IAT Min'].astype('float64')\n",
    "df_origin['Bwd IAT Total'] = df_origin['Bwd IAT Total'].astype('float64')\n",
    "df_origin['Bwd IAT Max'] = df_origin['Bwd IAT Max'].astype('float64')\n",
    "df_origin['Bwd IAT Min'] = df_origin['Bwd IAT Min'].astype('float64')\n",
    "df_origin['Fwd PSH Flags'] = df_origin['Fwd PSH Flags'].astype('int16')\n",
    "df_origin['Bwd PSH Flags'] = df_origin['Bwd PSH Flags'].astype('int16')\n",
    "df_origin['Packet Length Max'] = df_origin['Packet Length Max'].astype('float64')\n",
    "df_origin['Init Fwd Win Bytes'] = df_origin['Init Fwd Win Bytes'].astype('int32')\n",
    "df_origin['Active Max'] = df_origin['Active Max'].astype('float64')\n",
    "df_origin['Active Min'] = df_origin['Active Min'].astype('float64')\n",
    "df_origin['Idle Max'] = df_origin['Idle Max'].astype('float64')\n",
    "df_origin['Idle Min'] = df_origin['Idle Min'].astype('float64')\n",
    "df_origin['RST Flag Count'] = df_origin['RST Flag Count'].astype('int16')\n",
    "df_origin['PSH Flag Count'] = df_origin['PSH Flag Count'].astype('int16')\n",
    "df_origin['ACK Flag Count'] = df_origin['ACK Flag Count'].astype('int32')\n",
    "df_origin['Fwd Avg Bytes/Bulk'] = df_origin['Fwd Avg Bytes/Bulk'].astype('int32')\n",
    "df_origin['Fwd Avg Packets/Bulk'] = df_origin['Fwd Avg Packets/Bulk'].astype('int16')\n",
    "df_origin['Fwd Avg Bulk Rate'] = df_origin['Fwd Avg Bulk Rate'].astype('int32')\n",
    "df_origin['Bwd Avg Bytes/Bulk'] = df_origin['Bwd Avg Bytes/Bulk'].astype('int32')\n",
    "df_origin['Bwd Avg Packets/Bulk'] = df_origin['Bwd Avg Packets/Bulk'].astype('int32')\n",
    "df_origin['Bwd Avg Bulk Rate'] = df_origin['Bwd Avg Bulk Rate'].astype('int32')\n",
    "df_origin['Subflow Bwd Packets'] = df_origin['Subflow Bwd Packets'].astype('int32')"
   ]
  },
  {
   "cell_type": "code",
   "execution_count": 14,
   "id": "4d02ae29-38dd-45d6-8dff-6ce04a37c32f",
   "metadata": {},
   "outputs": [
    {
     "name": "stdout",
     "output_type": "stream",
     "text": [
      "<class 'pandas.core.frame.DataFrame'>\n",
      "Index: 6721774 entries, 12 to 11503553\n",
      "Data columns (total 79 columns):\n",
      " #   Column                    Dtype  \n",
      "---  ------                    -----  \n",
      " 0   Protocol                  int8   \n",
      " 1   Flow Duration             int64  \n",
      " 2   Total Fwd Packets         int32  \n",
      " 3   Total Backward Packets    int32  \n",
      " 4   Fwd Packets Length Total  float64\n",
      " 5   Bwd Packets Length Total  float64\n",
      " 6   Fwd Packet Length Max     float64\n",
      " 7   Fwd Packet Length Min     float32\n",
      " 8   Fwd Packet Length Mean    float32\n",
      " 9   Fwd Packet Length Std     float32\n",
      " 10  Bwd Packet Length Max     float64\n",
      " 11  Bwd Packet Length Min     float32\n",
      " 12  Bwd Packet Length Mean    float32\n",
      " 13  Bwd Packet Length Std     float32\n",
      " 14  Flow Bytes/s              float64\n",
      " 15  Flow Packets/s            float64\n",
      " 16  Flow IAT Mean             float32\n",
      " 17  Flow IAT Std              float32\n",
      " 18  Flow IAT Max              float64\n",
      " 19  Flow IAT Min              float64\n",
      " 20  Fwd IAT Total             float64\n",
      " 21  Fwd IAT Mean              float32\n",
      " 22  Fwd IAT Std               float32\n",
      " 23  Fwd IAT Max               float64\n",
      " 24  Fwd IAT Min               float64\n",
      " 25  Bwd IAT Total             float64\n",
      " 26  Bwd IAT Mean              float32\n",
      " 27  Bwd IAT Std               float32\n",
      " 28  Bwd IAT Max               float64\n",
      " 29  Bwd IAT Min               float64\n",
      " 30  Fwd PSH Flags             int16  \n",
      " 31  Bwd PSH Flags             int16  \n",
      " 32  Fwd URG Flags             int8   \n",
      " 33  Bwd URG Flags             int8   \n",
      " 34  Fwd Header Length         int32  \n",
      " 35  Bwd Header Length         int32  \n",
      " 36  Fwd Packets/s             float32\n",
      " 37  Bwd Packets/s             float32\n",
      " 38  Packet Length Min         float32\n",
      " 39  Packet Length Max         float64\n",
      " 40  Packet Length Mean        float32\n",
      " 41  Packet Length Std         float32\n",
      " 42  Packet Length Variance    float32\n",
      " 43  FIN Flag Count            int8   \n",
      " 44  SYN Flag Count            int8   \n",
      " 45  RST Flag Count            int16  \n",
      " 46  PSH Flag Count            int16  \n",
      " 47  ACK Flag Count            int32  \n",
      " 48  URG Flag Count            int8   \n",
      " 49  CWE Flag Count            int8   \n",
      " 50  ECE Flag Count            int8   \n",
      " 51  Down/Up Ratio             float32\n",
      " 52  Avg Packet Size           float32\n",
      " 53  Avg Fwd Segment Size      float32\n",
      " 54  Avg Bwd Segment Size      float32\n",
      " 55  Fwd Avg Bytes/Bulk        int32  \n",
      " 56  Fwd Avg Packets/Bulk      int16  \n",
      " 57  Fwd Avg Bulk Rate         int32  \n",
      " 58  Bwd Avg Bytes/Bulk        int32  \n",
      " 59  Bwd Avg Packets/Bulk      int32  \n",
      " 60  Bwd Avg Bulk Rate         int32  \n",
      " 61  Subflow Fwd Packets       int32  \n",
      " 62  Subflow Fwd Bytes         int32  \n",
      " 63  Subflow Bwd Packets       int32  \n",
      " 64  Subflow Bwd Bytes         int32  \n",
      " 65  Init Fwd Win Bytes        int32  \n",
      " 66  Init Bwd Win Bytes        int32  \n",
      " 67  Fwd Act Data Packets      int32  \n",
      " 68  Fwd Seg Size Min          int8   \n",
      " 69  Active Mean               float32\n",
      " 70  Active Std                float32\n",
      " 71  Active Max                float64\n",
      " 72  Active Min                float64\n",
      " 73  Idle Mean                 float32\n",
      " 74  Idle Std                  float32\n",
      " 75  Idle Max                  float64\n",
      " 76  Idle Min                  float64\n",
      " 77  Attack                    int64  \n",
      " 78  Label                     object \n",
      "dtypes: float32(26), float64(19), int16(5), int32(17), int64(2), int8(9), object(1)\n",
      "memory usage: 2.3+ GB\n"
     ]
    }
   ],
   "source": [
    "df_origin.info()"
   ]
  },
  {
   "cell_type": "code",
   "execution_count": 16,
   "id": "549d9b29-9be9-453c-9c70-8e75c1787c8d",
   "metadata": {},
   "outputs": [],
   "source": [
    "col_to_move = 'Attack'\n",
    "df_origin = df_origin[[col for col in df_origin.columns if col != col_to_move] + [col_to_move]]"
   ]
  },
  {
   "cell_type": "code",
   "execution_count": 17,
   "id": "3ad7f952-7b6f-4c57-b21c-0b0eb5e71ff9",
   "metadata": {},
   "outputs": [
    {
     "name": "stdout",
     "output_type": "stream",
     "text": [
      "<class 'pandas.core.frame.DataFrame'>\n",
      "Index: 6721774 entries, 12 to 11503553\n",
      "Data columns (total 79 columns):\n",
      " #   Column                    Dtype  \n",
      "---  ------                    -----  \n",
      " 0   Protocol                  int8   \n",
      " 1   Flow Duration             int64  \n",
      " 2   Total Fwd Packets         int32  \n",
      " 3   Total Backward Packets    int32  \n",
      " 4   Fwd Packets Length Total  float64\n",
      " 5   Bwd Packets Length Total  float64\n",
      " 6   Fwd Packet Length Max     float64\n",
      " 7   Fwd Packet Length Min     float32\n",
      " 8   Fwd Packet Length Mean    float32\n",
      " 9   Fwd Packet Length Std     float32\n",
      " 10  Bwd Packet Length Max     float64\n",
      " 11  Bwd Packet Length Min     float32\n",
      " 12  Bwd Packet Length Mean    float32\n",
      " 13  Bwd Packet Length Std     float32\n",
      " 14  Flow Bytes/s              float64\n",
      " 15  Flow Packets/s            float64\n",
      " 16  Flow IAT Mean             float32\n",
      " 17  Flow IAT Std              float32\n",
      " 18  Flow IAT Max              float64\n",
      " 19  Flow IAT Min              float64\n",
      " 20  Fwd IAT Total             float64\n",
      " 21  Fwd IAT Mean              float32\n",
      " 22  Fwd IAT Std               float32\n",
      " 23  Fwd IAT Max               float64\n",
      " 24  Fwd IAT Min               float64\n",
      " 25  Bwd IAT Total             float64\n",
      " 26  Bwd IAT Mean              float32\n",
      " 27  Bwd IAT Std               float32\n",
      " 28  Bwd IAT Max               float64\n",
      " 29  Bwd IAT Min               float64\n",
      " 30  Fwd PSH Flags             int16  \n",
      " 31  Bwd PSH Flags             int16  \n",
      " 32  Fwd URG Flags             int8   \n",
      " 33  Bwd URG Flags             int8   \n",
      " 34  Fwd Header Length         int32  \n",
      " 35  Bwd Header Length         int32  \n",
      " 36  Fwd Packets/s             float32\n",
      " 37  Bwd Packets/s             float32\n",
      " 38  Packet Length Min         float32\n",
      " 39  Packet Length Max         float64\n",
      " 40  Packet Length Mean        float32\n",
      " 41  Packet Length Std         float32\n",
      " 42  Packet Length Variance    float32\n",
      " 43  FIN Flag Count            int8   \n",
      " 44  SYN Flag Count            int8   \n",
      " 45  RST Flag Count            int16  \n",
      " 46  PSH Flag Count            int16  \n",
      " 47  ACK Flag Count            int32  \n",
      " 48  URG Flag Count            int8   \n",
      " 49  CWE Flag Count            int8   \n",
      " 50  ECE Flag Count            int8   \n",
      " 51  Down/Up Ratio             float32\n",
      " 52  Avg Packet Size           float32\n",
      " 53  Avg Fwd Segment Size      float32\n",
      " 54  Avg Bwd Segment Size      float32\n",
      " 55  Fwd Avg Bytes/Bulk        int32  \n",
      " 56  Fwd Avg Packets/Bulk      int16  \n",
      " 57  Fwd Avg Bulk Rate         int32  \n",
      " 58  Bwd Avg Bytes/Bulk        int32  \n",
      " 59  Bwd Avg Packets/Bulk      int32  \n",
      " 60  Bwd Avg Bulk Rate         int32  \n",
      " 61  Subflow Fwd Packets       int32  \n",
      " 62  Subflow Fwd Bytes         int32  \n",
      " 63  Subflow Bwd Packets       int32  \n",
      " 64  Subflow Bwd Bytes         int32  \n",
      " 65  Init Fwd Win Bytes        int32  \n",
      " 66  Init Bwd Win Bytes        int32  \n",
      " 67  Fwd Act Data Packets      int32  \n",
      " 68  Fwd Seg Size Min          int8   \n",
      " 69  Active Mean               float32\n",
      " 70  Active Std                float32\n",
      " 71  Active Max                float64\n",
      " 72  Active Min                float64\n",
      " 73  Idle Mean                 float32\n",
      " 74  Idle Std                  float32\n",
      " 75  Idle Max                  float64\n",
      " 76  Idle Min                  float64\n",
      " 77  Label                     object \n",
      " 78  Attack                    int64  \n",
      "dtypes: float32(26), float64(19), int16(5), int32(17), int64(2), int8(9), object(1)\n",
      "memory usage: 2.3+ GB\n"
     ]
    }
   ],
   "source": [
    "df_origin.info()"
   ]
  },
  {
   "cell_type": "code",
   "execution_count": 18,
   "id": "3e4ce494-105e-437e-89fa-83b3108e6b62",
   "metadata": {},
   "outputs": [],
   "source": [
    "df_origin.to_parquet(f\"./CoAt_CIC-BoT-IoT-V2.parquet\")"
   ]
  },
  {
   "cell_type": "code",
   "execution_count": null,
   "id": "126b29b1-fe1f-441b-b05b-8547d9a2c472",
   "metadata": {},
   "outputs": [],
   "source": []
  }
 ],
 "metadata": {
  "kernelspec": {
   "display_name": "Python 3 (ipykernel)",
   "language": "python",
   "name": "python3"
  },
  "language_info": {
   "codemirror_mode": {
    "name": "ipython",
    "version": 3
   },
   "file_extension": ".py",
   "mimetype": "text/x-python",
   "name": "python",
   "nbconvert_exporter": "python",
   "pygments_lexer": "ipython3",
   "version": "3.12.5"
  }
 },
 "nbformat": 4,
 "nbformat_minor": 5
}
